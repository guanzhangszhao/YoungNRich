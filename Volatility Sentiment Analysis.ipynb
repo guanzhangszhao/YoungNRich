{
  "nbformat": 4,
  "nbformat_minor": 0,
  "metadata": {
    "colab": {
      "name": "Volatility Sentiment Analysis.ipynb",
      "provenance": [],
      "collapsed_sections": [
        "2ebdRy7bt4tP",
        "ZoHZhRFqtU-T",
        "RXj4mrA4s_yH"
      ]
    },
    "kernelspec": {
      "name": "python3",
      "display_name": "Python 3"
    },
    "language_info": {
      "name": "python"
    }
  },
  "cells": [
    {
      "cell_type": "markdown",
      "metadata": {
        "id": "4aDxbSBAqmRk"
      },
      "source": [
        "- Input your's drive_path for further input use, upload all required csv files into the folder defined by drive_path\n",
        "\n",
        "Yan's Drive Path Below:"
      ]
    },
    {
      "cell_type": "code",
      "metadata": {
        "id": "yqdwSmbkp6SC"
      },
      "source": [
        "drive_path = '/content/drive/MyDrive/ColabNotebooks/PIC16B/ProjectFinal/'"
      ],
      "execution_count": null,
      "outputs": []
    },
    {
      "cell_type": "markdown",
      "metadata": {
        "id": "Uovvgnwaq8mu"
      },
      "source": [
        "Chelsea's Drive Path Below:"
      ]
    },
    {
      "cell_type": "code",
      "metadata": {
        "id": "ISY81jh0q86h"
      },
      "source": [
        "drive_path = '/content/drive/MyDrive/'"
      ],
      "execution_count": null,
      "outputs": []
    },
    {
      "cell_type": "markdown",
      "metadata": {
        "id": "XSj9ZxHkxqB_"
      },
      "source": [
        "Guanzhang's Drive Path Below:"
      ]
    },
    {
      "cell_type": "code",
      "metadata": {
        "id": "T0CE9P5txwxc"
      },
      "source": [
        "drive_path = '/content/drive/MyDrive/'"
      ],
      "execution_count": null,
      "outputs": []
    },
    {
      "cell_type": "markdown",
      "metadata": {
        "id": "EBf56pUDattQ"
      },
      "source": [
        "Install snscrape:"
      ]
    },
    {
      "cell_type": "code",
      "metadata": {
        "colab": {
          "base_uri": "https://localhost:8080/"
        },
        "id": "ufnXGEXQaspS",
        "outputId": "0c9b50a0-2e00-40fe-f7bb-6ed70e8a899a"
      },
      "source": [
        "pip install snscrape"
      ],
      "execution_count": null,
      "outputs": [
        {
          "output_type": "stream",
          "text": [
            "Requirement already satisfied: snscrape in /usr/local/lib/python3.7/dist-packages (0.3.4)\n",
            "Requirement already satisfied: beautifulsoup4 in /usr/local/lib/python3.7/dist-packages (from snscrape) (4.6.3)\n",
            "Requirement already satisfied: lxml in /usr/local/lib/python3.7/dist-packages (from snscrape) (4.2.6)\n",
            "Requirement already satisfied: requests[socks] in /usr/local/lib/python3.7/dist-packages (from snscrape) (2.23.0)\n",
            "Requirement already satisfied: chardet<4,>=3.0.2 in /usr/local/lib/python3.7/dist-packages (from requests[socks]->snscrape) (3.0.4)\n",
            "Requirement already satisfied: urllib3!=1.25.0,!=1.25.1,<1.26,>=1.21.1 in /usr/local/lib/python3.7/dist-packages (from requests[socks]->snscrape) (1.24.3)\n",
            "Requirement already satisfied: idna<3,>=2.5 in /usr/local/lib/python3.7/dist-packages (from requests[socks]->snscrape) (2.10)\n",
            "Requirement already satisfied: certifi>=2017.4.17 in /usr/local/lib/python3.7/dist-packages (from requests[socks]->snscrape) (2020.12.5)\n",
            "Requirement already satisfied: PySocks!=1.5.7,>=1.5.6; extra == \"socks\" in /usr/local/lib/python3.7/dist-packages (from requests[socks]->snscrape) (1.7.1)\n"
          ],
          "name": "stdout"
        }
      ]
    },
    {
      "cell_type": "markdown",
      "metadata": {
        "id": "NB_IH3ddoICX"
      },
      "source": [
        "# Sentiment Analysis Final Version\n",
        "\n",
        "Stock Volatility is correlated with market sentiments, which affects the performance. Therefore, sentimental analysis should be also considered when doing stock prediction.\n",
        "\n",
        "Possible sentiments to be considered in this project are online comments from websites like twitter and reddit, and stock analysts records websites such as tipranks.\n",
        "\n",
        "This notebook is trying to find a relative optimal way to do the sentiment analysis. Specifically, as there are many websites for choosing, how it differs between the choices of websites as well as the time period of retrieving?\n",
        "\n",
        "For analyzing the correct usage of sentiments, we'll use the ticker 'AAPL' in this entire notebook.\n",
        "\n",
        "First, import all required packages."
      ]
    },
    {
      "cell_type": "code",
      "metadata": {
        "colab": {
          "base_uri": "https://localhost:8080/"
        },
        "id": "EoJM_Mc0nwio",
        "outputId": "6a093068-7b3d-433b-a58e-356d9a329223"
      },
      "source": [
        "import pandas_datareader.data as reader\n",
        "import datetime as dt\n",
        "import pandas as pd\n",
        "import numpy as np\n",
        "import urllib, json\n",
        "import httplib2\n",
        "import time\n",
        "\n",
        "import snscrape.modules.twitter as sntwitter\n",
        "\n",
        "import tensorflow as tf\n",
        "import re\n",
        "import string\n",
        "\n",
        "from tensorflow.keras import layers\n",
        "from tensorflow.keras import losses\n",
        "from tensorflow import keras\n",
        "from bs4 import BeautifulSoup\n",
        "\n",
        "from tensorflow.keras.layers.experimental.preprocessing import TextVectorization\n",
        "from tensorflow.keras.layers.experimental.preprocessing import StringLookup\n",
        "\n",
        "from sklearn.model_selection import train_test_split\n",
        "from sklearn.preprocessing import LabelEncoder\n",
        "\n",
        "from matplotlib import pyplot as plt\n",
        "\n",
        "import plotly.express as px\n",
        "\n",
        "import statsmodels.api as sm\n",
        "from statsmodels.sandbox.regression.predstd import wls_prediction_std\n",
        "\n",
        "import pydot\n",
        "import graphviz\n",
        "\n",
        "import bs4 as bs\n",
        "import pickle\n",
        "import requests\n",
        "\n",
        "import nltk\n",
        "nltk.download('stopwords')\n",
        "from nltk.corpus import stopwords"
      ],
      "execution_count": null,
      "outputs": [
        {
          "output_type": "stream",
          "text": [
            "/usr/local/lib/python3.7/dist-packages/statsmodels/tools/_testing.py:19: FutureWarning:\n",
            "\n",
            "pandas.util.testing is deprecated. Use the functions in the public API at pandas.testing instead.\n",
            "\n"
          ],
          "name": "stderr"
        },
        {
          "output_type": "stream",
          "text": [
            "[nltk_data] Downloading package stopwords to /root/nltk_data...\n",
            "[nltk_data]   Package stopwords is already up-to-date!\n"
          ],
          "name": "stdout"
        }
      ]
    },
    {
      "cell_type": "markdown",
      "metadata": {
        "id": "PSPFk4Y-vdpL"
      },
      "source": [
        "## Retrieve Sentiments from Webpages\n",
        "\n",
        "First, let's define some functions to retrieve sentiments from commonly used websites (yahoo_finance, twitter, reddit, tiprank)."
      ]
    },
    {
      "cell_type": "markdown",
      "metadata": {
        "id": "2ebdRy7bt4tP"
      },
      "source": [
        "### 1. Stock Returns\n",
        "\n",
        "The data is retrieved from yahoo_finance\n",
        "\n",
        "preparation function: `get_prices()`\n",
        "\n",
        "- this is the fundamental level prep function"
      ]
    },
    {
      "cell_type": "code",
      "metadata": {
        "id": "iSTdKdXzvg3R"
      },
      "source": [
        "def get_prices(tickers, begin, end):\n",
        "    \"\"\"\n",
        "    A function retrieving daily price changes between a specified peiod of time using Yahoo Finance.\n",
        "    \n",
        "    Input\n",
        "    --------\n",
        "    tickers: list of tickers the user want to retrieve returns for\n",
        "    begin: dt.datetime object, the beginning of the time period\n",
        "    end: dt.datetime object, the end of the time period\n",
        "    \n",
        "    Output\n",
        "    --------\n",
        "    A dataframe containing the daily price change, tikcers and dates\n",
        "    \"\"\"\n",
        "    # Initialize the container\n",
        "    data = []\n",
        "    # For all tickers\n",
        "    for ticker in tickers:\n",
        "        # Retieve the daily price using the yahoo finance module\n",
        "        de = reader.get_data_yahoo(ticker,begin,end)[['Adj Close']]\n",
        "        data.append(de)\n",
        "    # Concat the data into a single dataframe\n",
        "    result = pd.concat(data, axis = 1)\n",
        "    # Set the names of the columns to be the tickers\n",
        "    result.columns = tickers\n",
        "    # Calculate the daily price changes reset the indices\n",
        "    result = result.pct_change().dropna().reset_index()\n",
        "    \n",
        "    return result"
      ],
      "execution_count": null,
      "outputs": []
    },
    {
      "cell_type": "markdown",
      "metadata": {
        "id": "ZpfCZxSR3_6O"
      },
      "source": [
        "main function: `return_input()`\n",
        "\n",
        "- this function uses the above preparation function\n",
        "\n",
        "- create a dataframe of previous five day daily returns specified by the begin and end date of retrieving, and outputs the dataframe that could be potentially used by the Tensorflow dataset"
      ]
    },
    {
      "cell_type": "code",
      "metadata": {
        "id": "eQF_3N9Cvrhq"
      },
      "source": [
        "def return_input(ticker, begin, end):\n",
        "    \"\"\"\n",
        "    A function that returns a lagged version of daily price changes input for a specific ticker over a certain period.\n",
        "    \n",
        "    Input\n",
        "    --------\n",
        "    ticker: string, the stock ticker\n",
        "    begin: dt.datetime object, the beginning of the time period\n",
        "    end: dt.datetime object, the end of the time period\n",
        "    \n",
        "    Output\n",
        "    --------\n",
        "    A dataframe containing a lagged version of daily price changes input for a specific ticker over a certain period\n",
        "    \"\"\"\n",
        "    # Retrieve the daily returns for all tradedays in the period, note that there are holidays and weekends, we handle this by retrieving\n",
        "    # also data further away before the beginning of the time period and drop them at the end\n",
        "    df = get_prices([ticker], begin - dt.timedelta(days = 10), end - dt.timedelta(days = 1))\n",
        "    df[\"Ticker\"] = ticker\n",
        "    df = df.rename(columns = {ticker: \"Return\"})\n",
        "    # Note that we didn't retrieve the returns for the lat day, in order for the lag function to consider the last day\n",
        "    # We add an extra row\n",
        "    last_day = pd.DataFrame({\"Date\": end,\"Return\":np.NaN, \"Ticker\": ticker}, index=[0])\n",
        "    df = pd.concat([df,last_day], ignore_index = True)\n",
        "    # Do the lag for 5 days\n",
        "    for i in range(1,6):\n",
        "        df[\"Return \" + str(i) + \" Days Before\"] = df.groupby(\"Ticker\")[\"Return\"].transform(lambda x: lag(x, i))\n",
        "    # Drop the data before the beginning of the time period\n",
        "    df = df[df[\"Date\"] >= begin].copy().reset_index(drop = True)\n",
        "    \n",
        "    return df"
      ],
      "execution_count": null,
      "outputs": []
    },
    {
      "cell_type": "markdown",
      "metadata": {
        "id": "-ZLtg5Vv0Jd-"
      },
      "source": [
        "Now, showing a example on how retrieving from yahoo_finance results into a dataset."
      ]
    },
    {
      "cell_type": "code",
      "metadata": {
        "id": "wTSuiOqluE8f"
      },
      "source": [
        "ticker = \"AAPL\"\n",
        "begin = dt.datetime(2021,3,1)\n",
        "end = dt.datetime(2021,3,30)\n",
        "\n",
        "returns = return_input(ticker, begin, end)"
      ],
      "execution_count": null,
      "outputs": []
    },
    {
      "cell_type": "code",
      "metadata": {
        "colab": {
          "base_uri": "https://localhost:8080/",
          "height": 1000
        },
        "id": "nxqnbf_JuMoK",
        "outputId": "0d92616f-c052-451e-bb90-e1938c9fe991"
      },
      "source": [
        "returns"
      ],
      "execution_count": null,
      "outputs": [
        {
          "output_type": "execute_result",
          "data": {
            "text/html": [
              "<div>\n",
              "<style scoped>\n",
              "    .dataframe tbody tr th:only-of-type {\n",
              "        vertical-align: middle;\n",
              "    }\n",
              "\n",
              "    .dataframe tbody tr th {\n",
              "        vertical-align: top;\n",
              "    }\n",
              "\n",
              "    .dataframe thead th {\n",
              "        text-align: right;\n",
              "    }\n",
              "</style>\n",
              "<table border=\"1\" class=\"dataframe\">\n",
              "  <thead>\n",
              "    <tr style=\"text-align: right;\">\n",
              "      <th></th>\n",
              "      <th>Date</th>\n",
              "      <th>Return</th>\n",
              "      <th>Ticker</th>\n",
              "      <th>Return 1 Days Before</th>\n",
              "      <th>Return 2 Days Before</th>\n",
              "      <th>Return 3 Days Before</th>\n",
              "      <th>Return 4 Days Before</th>\n",
              "      <th>Return 5 Days Before</th>\n",
              "    </tr>\n",
              "  </thead>\n",
              "  <tbody>\n",
              "    <tr>\n",
              "      <th>5</th>\n",
              "      <td>2021-03-01</td>\n",
              "      <td>0.053851</td>\n",
              "      <td>AAPL</td>\n",
              "      <td>0.002232</td>\n",
              "      <td>-0.034783</td>\n",
              "      <td>-0.004052</td>\n",
              "      <td>-0.001111</td>\n",
              "      <td>-0.029799</td>\n",
              "    </tr>\n",
              "    <tr>\n",
              "      <th>6</th>\n",
              "      <td>2021-03-02</td>\n",
              "      <td>-0.020894</td>\n",
              "      <td>AAPL</td>\n",
              "      <td>0.053851</td>\n",
              "      <td>0.002232</td>\n",
              "      <td>-0.034783</td>\n",
              "      <td>-0.004052</td>\n",
              "      <td>-0.001111</td>\n",
              "    </tr>\n",
              "    <tr>\n",
              "      <th>7</th>\n",
              "      <td>2021-03-03</td>\n",
              "      <td>-0.024457</td>\n",
              "      <td>AAPL</td>\n",
              "      <td>-0.020894</td>\n",
              "      <td>0.053851</td>\n",
              "      <td>0.002232</td>\n",
              "      <td>-0.034783</td>\n",
              "      <td>-0.004052</td>\n",
              "    </tr>\n",
              "    <tr>\n",
              "      <th>8</th>\n",
              "      <td>2021-03-04</td>\n",
              "      <td>-0.015812</td>\n",
              "      <td>AAPL</td>\n",
              "      <td>-0.024457</td>\n",
              "      <td>-0.020894</td>\n",
              "      <td>0.053851</td>\n",
              "      <td>0.002232</td>\n",
              "      <td>-0.034783</td>\n",
              "    </tr>\n",
              "    <tr>\n",
              "      <th>9</th>\n",
              "      <td>2021-03-05</td>\n",
              "      <td>0.010738</td>\n",
              "      <td>AAPL</td>\n",
              "      <td>-0.015812</td>\n",
              "      <td>-0.024457</td>\n",
              "      <td>-0.020894</td>\n",
              "      <td>0.053851</td>\n",
              "      <td>0.002232</td>\n",
              "    </tr>\n",
              "    <tr>\n",
              "      <th>10</th>\n",
              "      <td>2021-03-08</td>\n",
              "      <td>-0.041673</td>\n",
              "      <td>AAPL</td>\n",
              "      <td>0.010738</td>\n",
              "      <td>-0.015812</td>\n",
              "      <td>-0.024457</td>\n",
              "      <td>-0.020894</td>\n",
              "      <td>0.053851</td>\n",
              "    </tr>\n",
              "    <tr>\n",
              "      <th>11</th>\n",
              "      <td>2021-03-09</td>\n",
              "      <td>0.040650</td>\n",
              "      <td>AAPL</td>\n",
              "      <td>-0.041673</td>\n",
              "      <td>0.010738</td>\n",
              "      <td>-0.015812</td>\n",
              "      <td>-0.024457</td>\n",
              "      <td>-0.020894</td>\n",
              "    </tr>\n",
              "    <tr>\n",
              "      <th>12</th>\n",
              "      <td>2021-03-10</td>\n",
              "      <td>-0.009167</td>\n",
              "      <td>AAPL</td>\n",
              "      <td>0.040650</td>\n",
              "      <td>-0.041673</td>\n",
              "      <td>0.010738</td>\n",
              "      <td>-0.015812</td>\n",
              "      <td>-0.024457</td>\n",
              "    </tr>\n",
              "    <tr>\n",
              "      <th>13</th>\n",
              "      <td>2021-03-11</td>\n",
              "      <td>0.016503</td>\n",
              "      <td>AAPL</td>\n",
              "      <td>-0.009167</td>\n",
              "      <td>0.040650</td>\n",
              "      <td>-0.041673</td>\n",
              "      <td>0.010738</td>\n",
              "      <td>-0.015812</td>\n",
              "    </tr>\n",
              "    <tr>\n",
              "      <th>14</th>\n",
              "      <td>2021-03-12</td>\n",
              "      <td>-0.007625</td>\n",
              "      <td>AAPL</td>\n",
              "      <td>0.016503</td>\n",
              "      <td>-0.009167</td>\n",
              "      <td>0.040650</td>\n",
              "      <td>-0.041673</td>\n",
              "      <td>0.010738</td>\n",
              "    </tr>\n",
              "    <tr>\n",
              "      <th>15</th>\n",
              "      <td>2021-03-15</td>\n",
              "      <td>0.024457</td>\n",
              "      <td>AAPL</td>\n",
              "      <td>-0.007625</td>\n",
              "      <td>0.016503</td>\n",
              "      <td>-0.009167</td>\n",
              "      <td>0.040650</td>\n",
              "      <td>-0.041673</td>\n",
              "    </tr>\n",
              "    <tr>\n",
              "      <th>16</th>\n",
              "      <td>2021-03-16</td>\n",
              "      <td>0.012743</td>\n",
              "      <td>AAPL</td>\n",
              "      <td>0.024457</td>\n",
              "      <td>-0.007625</td>\n",
              "      <td>0.016503</td>\n",
              "      <td>-0.009167</td>\n",
              "      <td>0.040650</td>\n",
              "    </tr>\n",
              "    <tr>\n",
              "      <th>17</th>\n",
              "      <td>2021-03-17</td>\n",
              "      <td>-0.006451</td>\n",
              "      <td>AAPL</td>\n",
              "      <td>0.012743</td>\n",
              "      <td>0.024457</td>\n",
              "      <td>-0.007625</td>\n",
              "      <td>0.016503</td>\n",
              "      <td>-0.009167</td>\n",
              "    </tr>\n",
              "    <tr>\n",
              "      <th>18</th>\n",
              "      <td>2021-03-18</td>\n",
              "      <td>-0.033905</td>\n",
              "      <td>AAPL</td>\n",
              "      <td>-0.006451</td>\n",
              "      <td>0.012743</td>\n",
              "      <td>0.024457</td>\n",
              "      <td>-0.007625</td>\n",
              "      <td>0.016503</td>\n",
              "    </tr>\n",
              "    <tr>\n",
              "      <th>19</th>\n",
              "      <td>2021-03-19</td>\n",
              "      <td>-0.004480</td>\n",
              "      <td>AAPL</td>\n",
              "      <td>-0.033905</td>\n",
              "      <td>-0.006451</td>\n",
              "      <td>0.012743</td>\n",
              "      <td>0.024457</td>\n",
              "      <td>-0.007625</td>\n",
              "    </tr>\n",
              "    <tr>\n",
              "      <th>20</th>\n",
              "      <td>2021-03-22</td>\n",
              "      <td>0.028336</td>\n",
              "      <td>AAPL</td>\n",
              "      <td>-0.004480</td>\n",
              "      <td>-0.033905</td>\n",
              "      <td>-0.006451</td>\n",
              "      <td>0.012743</td>\n",
              "      <td>0.024457</td>\n",
              "    </tr>\n",
              "    <tr>\n",
              "      <th>21</th>\n",
              "      <td>2021-03-23</td>\n",
              "      <td>-0.006889</td>\n",
              "      <td>AAPL</td>\n",
              "      <td>0.028336</td>\n",
              "      <td>-0.004480</td>\n",
              "      <td>-0.033905</td>\n",
              "      <td>-0.006451</td>\n",
              "      <td>0.012743</td>\n",
              "    </tr>\n",
              "    <tr>\n",
              "      <th>22</th>\n",
              "      <td>2021-03-24</td>\n",
              "      <td>-0.019994</td>\n",
              "      <td>AAPL</td>\n",
              "      <td>-0.006889</td>\n",
              "      <td>0.028336</td>\n",
              "      <td>-0.004480</td>\n",
              "      <td>-0.033905</td>\n",
              "      <td>-0.006451</td>\n",
              "    </tr>\n",
              "    <tr>\n",
              "      <th>23</th>\n",
              "      <td>2021-03-25</td>\n",
              "      <td>0.004164</td>\n",
              "      <td>AAPL</td>\n",
              "      <td>-0.019994</td>\n",
              "      <td>-0.006889</td>\n",
              "      <td>0.028336</td>\n",
              "      <td>-0.004480</td>\n",
              "      <td>-0.033905</td>\n",
              "    </tr>\n",
              "    <tr>\n",
              "      <th>24</th>\n",
              "      <td>2021-03-26</td>\n",
              "      <td>0.005141</td>\n",
              "      <td>AAPL</td>\n",
              "      <td>0.004164</td>\n",
              "      <td>-0.019994</td>\n",
              "      <td>-0.006889</td>\n",
              "      <td>0.028336</td>\n",
              "      <td>-0.004480</td>\n",
              "    </tr>\n",
              "    <tr>\n",
              "      <th>25</th>\n",
              "      <td>2021-03-29</td>\n",
              "      <td>0.001485</td>\n",
              "      <td>AAPL</td>\n",
              "      <td>0.005141</td>\n",
              "      <td>0.004164</td>\n",
              "      <td>-0.019994</td>\n",
              "      <td>-0.006889</td>\n",
              "      <td>0.028336</td>\n",
              "    </tr>\n",
              "    <tr>\n",
              "      <th>26</th>\n",
              "      <td>2021-03-30</td>\n",
              "      <td>-0.012274</td>\n",
              "      <td>AAPL</td>\n",
              "      <td>0.001485</td>\n",
              "      <td>0.005141</td>\n",
              "      <td>0.004164</td>\n",
              "      <td>-0.019994</td>\n",
              "      <td>-0.006889</td>\n",
              "    </tr>\n",
              "  </tbody>\n",
              "</table>\n",
              "</div>"
            ],
            "text/plain": [
              "         Date    Return  ... Return 4 Days Before  Return 5 Days Before\n",
              "5  2021-03-01  0.053851  ...            -0.001111             -0.029799\n",
              "6  2021-03-02 -0.020894  ...            -0.004052             -0.001111\n",
              "7  2021-03-03 -0.024457  ...            -0.034783             -0.004052\n",
              "8  2021-03-04 -0.015812  ...             0.002232             -0.034783\n",
              "9  2021-03-05  0.010738  ...             0.053851              0.002232\n",
              "10 2021-03-08 -0.041673  ...            -0.020894              0.053851\n",
              "11 2021-03-09  0.040650  ...            -0.024457             -0.020894\n",
              "12 2021-03-10 -0.009167  ...            -0.015812             -0.024457\n",
              "13 2021-03-11  0.016503  ...             0.010738             -0.015812\n",
              "14 2021-03-12 -0.007625  ...            -0.041673              0.010738\n",
              "15 2021-03-15  0.024457  ...             0.040650             -0.041673\n",
              "16 2021-03-16  0.012743  ...            -0.009167              0.040650\n",
              "17 2021-03-17 -0.006451  ...             0.016503             -0.009167\n",
              "18 2021-03-18 -0.033905  ...            -0.007625              0.016503\n",
              "19 2021-03-19 -0.004480  ...             0.024457             -0.007625\n",
              "20 2021-03-22  0.028336  ...             0.012743              0.024457\n",
              "21 2021-03-23 -0.006889  ...            -0.006451              0.012743\n",
              "22 2021-03-24 -0.019994  ...            -0.033905             -0.006451\n",
              "23 2021-03-25  0.004164  ...            -0.004480             -0.033905\n",
              "24 2021-03-26  0.005141  ...             0.028336             -0.004480\n",
              "25 2021-03-29  0.001485  ...            -0.006889              0.028336\n",
              "26 2021-03-30 -0.012274  ...            -0.019994             -0.006889\n",
              "\n",
              "[22 rows x 8 columns]"
            ]
          },
          "metadata": {
            "tags": []
          },
          "execution_count": 126
        }
      ]
    },
    {
      "cell_type": "markdown",
      "metadata": {
        "id": "ZoHZhRFqtU-T"
      },
      "source": [
        "### 2. Reddit"
      ]
    },
    {
      "cell_type": "markdown",
      "metadata": {
        "id": "tQeocR3u2wc_"
      },
      "source": [
        "preparation function 1: `prepare_reddit()`\n",
        "\n",
        "- this is the fundamental level of prep function"
      ]
    },
    {
      "cell_type": "code",
      "metadata": {
        "id": "uhmo8lTMcX8z"
      },
      "source": [
        "def prepare_reddit(l):\n",
        "    '''\n",
        "    Loop through the data and extract score, id, created time,\n",
        "    and text body of reddits posts about the stock and put them\n",
        "    into a dictionary, and cast it into a pandas data frame\n",
        "    \n",
        "    Input\n",
        "    --------\n",
        "    json loaded content data on one webpage api\n",
        "\n",
        "    Output\n",
        "    --------\n",
        "    a dataframe containing stock data including score, id, created time, and text body\n",
        "    '''\n",
        "    # create an empty dict to append information on\n",
        "    topics_dict = {\"score\":[],\n",
        "                   \"id\":[], \n",
        "                   # \"url\":[],\n",
        "                   \"created\": [],\n",
        "                   \"body\":[]}\n",
        "    # append all the information retrieved from the json.loads()\n",
        "    for d in l:\n",
        "        topics_dict[\"score\"].append(d['score'])\n",
        "        topics_dict[\"id\"].append(d['id'])\n",
        "        topics_dict[\"created\"].append(d['author'])\n",
        "        topics_dict[\"body\"].append(d['body'])\n",
        "        # a small note: here body represents the text of each\n",
        "        # retrieved reddit comments\n",
        "    # return the dict as a dataframe\n",
        "    return pd.DataFrame(topics_dict)"
      ],
      "execution_count": null,
      "outputs": []
    },
    {
      "cell_type": "markdown",
      "metadata": {
        "id": "928vRqUF27UT"
      },
      "source": [
        "preparation function 2: `get_reddit()`\n",
        "\n",
        "- this function uses prep function 1"
      ]
    },
    {
      "cell_type": "code",
      "metadata": {
        "id": "iLxbn-_7cX58"
      },
      "source": [
        "def get_reddit(ticker, date_after, date_before):\n",
        "    '''\n",
        "    Turn start date and end date to the form of how many days from now,\n",
        "    so they can be used to specify the url that leads to data, and then \n",
        "    use the helper function prepare_reddit() to retrieve reddit posts about \n",
        "    a stock in the time period between the specified start date and end date\n",
        "    \n",
        "    Input\n",
        "    --------\n",
        "    ticker: list, ticker names of stocks\n",
        "    date_after: dt.datetime, start date to retrieve from\n",
        "          (consider the end at 0:00 of that day)\n",
        "    date_before: dt.datetime, end date to retrieve from\n",
        "\n",
        "    Output\n",
        "    --------\n",
        "    a dataframe containing data related to the specified stock\n",
        "    '''\n",
        "    # specify start date days to today to retrieve\n",
        "    after = (dt.datetime.now() - date_after).days\n",
        "    # specify end date days to today to retrieve\n",
        "    before = (dt.datetime.now() - date_before).days\n",
        "    # retrieve the url by specified the two values of \"before today\"\n",
        "    url = f\"https://api.pushshift.io/reddit/search/comment/?q={ticker.lower()}&subreddit=wallstreetbets&before={before}d&after={after}d&size=500\"\n",
        "    \n",
        "    # read response from url\n",
        "    response = urllib.request.urlopen(url)\n",
        "    # use json to load the content out as dict of dicts\n",
        "    de = json.loads(response.read())\n",
        "    # use the data sub-dict in the retrieved content dict\n",
        "    # and use prep function 1 to prepare the dataset\n",
        "    df = prepare_reddit(de['data'])\n",
        "\n",
        "    # return the dataset\n",
        "    return df"
      ],
      "execution_count": null,
      "outputs": []
    },
    {
      "cell_type": "markdown",
      "metadata": {
        "id": "5KmYAC_Q3C-Y"
      },
      "source": [
        "preparation function 3: `get_reddits_body()`\n",
        "\n",
        "- this function uses prep function 2"
      ]
    },
    {
      "cell_type": "code",
      "metadata": {
        "id": "K0hi37vRcX_Z"
      },
      "source": [
        "def get_reddits_body(ticker, date):\n",
        "    '''\n",
        "    Make use of the helper function retrieve all reddits comments \n",
        "    on one stock in one day, and extract the texts that are posted\n",
        "    in the specified week and combine them into one text string\n",
        "\n",
        "    Input\n",
        "    --------\n",
        "    ticker: list, ticker names of stocks\n",
        "    date: dt.datetime, the date to retrieve from\n",
        "          (consider the end at 0:00 of that day)\n",
        "    \n",
        "    Output\n",
        "    --------\n",
        "    text: string, all reddits texts (concatenated) that is\n",
        "          targeted to the ticker in a whole day\n",
        "          (from 0:00 date-1 to 0:00 date)\n",
        "    '''\n",
        "    # create empty string to concatenate comments on\n",
        "    text = ''\n",
        "    # define end time as \"0:00 date\"\n",
        "    until = date\n",
        "    # define start time as \"0:00 date-1\"\n",
        "    since = date - dt.timedelta(days = 1)\n",
        "    # so that we now have the whole 24h before \"date\" to retrieve from\n",
        "    # print(since, until) # this line could be used to check time periods\n",
        "\n",
        "    # now, use get_reddit to retrieve the dataframe\n",
        "    # remember texts are in the \"body\" column\n",
        "    df = get_reddit(ticker, since, until)\n",
        "    # append all reddit texts to the \"text\" variable\n",
        "    for content in df[\"body\"]:\n",
        "        text += content\n",
        "        text += \" \" # for separating different texts\n",
        "\n",
        "    # return the concatenated whole string\n",
        "    return text"
      ],
      "execution_count": null,
      "outputs": []
    },
    {
      "cell_type": "markdown",
      "metadata": {
        "id": "g5XnGiPh3JRp"
      },
      "source": [
        "main function: `reddits_input()`\n",
        "\n",
        "- this function uses prep function 3\n",
        "\n",
        "- create a dataframe of daily reddit comments specified by the begin and end date of retrieving, and outputs the dataframe that could be potentially used by the Tensorflow dataset"
      ]
    },
    {
      "cell_type": "code",
      "metadata": {
        "id": "dCwHQ6V9cYE2"
      },
      "source": [
        "def reddits_input(ticker, begin, end):\n",
        "    '''\n",
        "    Create a dataframe with each row entry represents\n",
        "    reddit comments of each day within the begin and end\n",
        "    date time periods.\n",
        "\n",
        "    Input\n",
        "    --------\n",
        "    tickers: a ticker the user want to retrieve returns for\n",
        "    begin: dt.datetime object, the beginning of the time period\n",
        "    end: dt.datetime object, the end of the time period\n",
        "    \n",
        "    Output\n",
        "    --------\n",
        "    A dataframe containing the date, ticker of reddit comments,\n",
        "    as well as the 1 day before texts and 2 day before texts\n",
        "    '''\n",
        "\n",
        "    # four keys needed for the prep dict\n",
        "    reddits_input = {\"Date\":[],\n",
        "                   \"Ticker\":[],\n",
        "                   \"Reddits 1 Days Before\": [],\n",
        "                   \"Reddits 2 Days Before\": []}\n",
        "    # first, define date as begin\n",
        "    date = begin\n",
        "    # loop through until reach end date\n",
        "    while(date <= end):\n",
        "        reddits_input[\"Date\"].append(date)\n",
        "        reddits_input[\"Ticker\"].append(ticker)\n",
        "        # retrieve comments 1 day before \"date\"\n",
        "        comments_1d = get_reddits_body(ticker, date)\n",
        "        reddits_input[\"Reddits 1 Days Before\"].append(comments_1d)\n",
        "        time.sleep(1) # used for avoiding HTTP Error 429\n",
        "        # retrieve comments 2 day before \"date\"\n",
        "        comments_2d = get_reddits_body(ticker, date - dt.timedelta(days = 1))\n",
        "         reddits_input[\"Reddits 2 Days Before\"].append(comments_2d)\n",
        "        time.sleep(1) # used for avoiding HTTP Error 429\n",
        "        date += dt.timedelta(days = 1) # loop to next day\n",
        "\n",
        "    # return the dict as the desired dateframe\n",
        "    return pd.DataFrame(reddits_input)"
      ],
      "execution_count": null,
      "outputs": []
    },
    {
      "cell_type": "markdown",
      "metadata": {
        "id": "irjBfmgy0FHm"
      },
      "source": [
        "Now, showing a example on how retrieving from reddit results into a dataset."
      ]
    },
    {
      "cell_type": "code",
      "metadata": {
        "id": "KjNY46NFcYG9"
      },
      "source": [
        "ticker = \"AAPL\"\n",
        "begin = dt.datetime(2021,3,1)\n",
        "end = dt.datetime(2021,3,30)\n",
        "\n",
        "reddits = reddits_input(ticker, begin, end)"
      ],
      "execution_count": null,
      "outputs": []
    },
    {
      "cell_type": "code",
      "metadata": {
        "colab": {
          "base_uri": "https://localhost:8080/",
          "height": 979
        },
        "id": "aT6NBOONKGoF",
        "outputId": "a0fe55e6-6e52-4e65-c946-c9f4bc77f0df"
      },
      "source": [
        "reddits"
      ],
      "execution_count": null,
      "outputs": [
        {
          "output_type": "execute_result",
          "data": {
            "text/html": [
              "<div>\n",
              "<style scoped>\n",
              "    .dataframe tbody tr th:only-of-type {\n",
              "        vertical-align: middle;\n",
              "    }\n",
              "\n",
              "    .dataframe tbody tr th {\n",
              "        vertical-align: top;\n",
              "    }\n",
              "\n",
              "    .dataframe thead th {\n",
              "        text-align: right;\n",
              "    }\n",
              "</style>\n",
              "<table border=\"1\" class=\"dataframe\">\n",
              "  <thead>\n",
              "    <tr style=\"text-align: right;\">\n",
              "      <th></th>\n",
              "      <th>Date</th>\n",
              "      <th>Ticker</th>\n",
              "      <th>Reddits 1 Days Before</th>\n",
              "      <th>Reddits 2 Days Before</th>\n",
              "    </tr>\n",
              "  </thead>\n",
              "  <tbody>\n",
              "    <tr>\n",
              "      <th>0</th>\n",
              "      <td>2021-03-01</td>\n",
              "      <td>AAPL</td>\n",
              "      <td></td>\n",
              "      <td></td>\n",
              "    </tr>\n",
              "    <tr>\n",
              "      <th>1</th>\n",
              "      <td>2021-03-02</td>\n",
              "      <td>AAPL</td>\n",
              "      <td>AAPL why are you the way you are? If you don’t...</td>\n",
              "      <td></td>\n",
              "    </tr>\n",
              "    <tr>\n",
              "      <th>2</th>\n",
              "      <td>2021-03-03</td>\n",
              "      <td>AAPL</td>\n",
              "      <td>Woohoo aapl, WEN, SQQQ all going so well! Don’...</td>\n",
              "      <td>AAPL why are you the way you are? If you don’t...</td>\n",
              "    </tr>\n",
              "    <tr>\n",
              "      <th>3</th>\n",
              "      <td>2021-03-04</td>\n",
              "      <td>AAPL</td>\n",
              "      <td>I only have aapl and it has been raping me las...</td>\n",
              "      <td>Woohoo aapl, WEN, SQQQ all going so well! Don’...</td>\n",
              "    </tr>\n",
              "    <tr>\n",
              "      <th>4</th>\n",
              "      <td>2021-03-05</td>\n",
              "      <td>AAPL</td>\n",
              "      <td>Citadel holds like what... 10k stocks? So are ...</td>\n",
              "      <td>I only have aapl and it has been raping me las...</td>\n",
              "    </tr>\n",
              "    <tr>\n",
              "      <th>5</th>\n",
              "      <td>2021-03-06</td>\n",
              "      <td>AAPL</td>\n",
              "      <td></td>\n",
              "      <td>Citadel holds like what... 10k stocks? So are ...</td>\n",
              "    </tr>\n",
              "    <tr>\n",
              "      <th>6</th>\n",
              "      <td>2021-03-07</td>\n",
              "      <td>AAPL</td>\n",
              "      <td>Got caught up using too much margin for shares...</td>\n",
              "      <td></td>\n",
              "    </tr>\n",
              "    <tr>\n",
              "      <th>7</th>\n",
              "      <td>2021-03-08</td>\n",
              "      <td>AAPL</td>\n",
              "      <td>tech on sale. aapl is safe for the long run, t...</td>\n",
              "      <td>Got caught up using too much margin for shares...</td>\n",
              "    </tr>\n",
              "    <tr>\n",
              "      <th>8</th>\n",
              "      <td>2021-03-09</td>\n",
              "      <td>AAPL</td>\n",
              "      <td>$aapl Buying calls here... I bought AMD, QQQ, ...</td>\n",
              "      <td>tech on sale. aapl is safe for the long run, t...</td>\n",
              "    </tr>\n",
              "    <tr>\n",
              "      <th>9</th>\n",
              "      <td>2021-03-10</td>\n",
              "      <td>AAPL</td>\n",
              "      <td>Aapl making me $cum at $122 AAPL pile driving ...</td>\n",
              "      <td>$aapl Buying calls here... I bought AMD, QQQ, ...</td>\n",
              "    </tr>\n",
              "    <tr>\n",
              "      <th>10</th>\n",
              "      <td>2021-03-11</td>\n",
              "      <td>AAPL</td>\n",
              "      <td>Go ahead and look yourself I could list 100 ot...</td>\n",
              "      <td>Aapl making me $cum at $122 AAPL pile driving ...</td>\n",
              "    </tr>\n",
              "    <tr>\n",
              "      <th>11</th>\n",
              "      <td>2021-03-12</td>\n",
              "      <td>AAPL</td>\n",
              "      <td>When all FAANG is going up 5-6%, AAPL sitting ...</td>\n",
              "      <td>Go ahead and look yourself I could list 100 ot...</td>\n",
              "    </tr>\n",
              "    <tr>\n",
              "      <th>12</th>\n",
              "      <td>2021-03-13</td>\n",
              "      <td>AAPL</td>\n",
              "      <td>JPM is about to become bigger than AAPL I rath...</td>\n",
              "      <td>When all FAANG is going up 5-6%, AAPL sitting ...</td>\n",
              "    </tr>\n",
              "    <tr>\n",
              "      <th>13</th>\n",
              "      <td>2021-03-14</td>\n",
              "      <td>AAPL</td>\n",
              "      <td>I just bought my first option !!!\\n1 $0,56 AAP...</td>\n",
              "      <td>JPM is about to become bigger than AAPL I rath...</td>\n",
              "    </tr>\n",
              "    <tr>\n",
              "      <th>14</th>\n",
              "      <td>2021-03-15</td>\n",
              "      <td>AAPL</td>\n",
              "      <td>When will PLTR officially announce that they b...</td>\n",
              "      <td>I just bought my first option !!!\\n1 $0,56 AAP...</td>\n",
              "    </tr>\n",
              "    <tr>\n",
              "      <th>15</th>\n",
              "      <td>2021-03-16</td>\n",
              "      <td>AAPL</td>\n",
              "      <td>Boomer stocks are good to get started with and...</td>\n",
              "      <td>When will PLTR officially announce that they b...</td>\n",
              "    </tr>\n",
              "    <tr>\n",
              "      <th>16</th>\n",
              "      <td>2021-03-17</td>\n",
              "      <td>AAPL</td>\n",
              "      <td>What if $AAPL released an OnlyFans integration...</td>\n",
              "      <td>Boomer stocks are good to get started with and...</td>\n",
              "    </tr>\n",
              "    <tr>\n",
              "      <th>17</th>\n",
              "      <td>2021-03-18</td>\n",
              "      <td>AAPL</td>\n",
              "      <td></td>\n",
              "      <td>What if $AAPL released an OnlyFans integration...</td>\n",
              "    </tr>\n",
              "    <tr>\n",
              "      <th>18</th>\n",
              "      <td>2021-03-19</td>\n",
              "      <td>AAPL</td>\n",
              "      <td></td>\n",
              "      <td></td>\n",
              "    </tr>\n",
              "    <tr>\n",
              "      <th>19</th>\n",
              "      <td>2021-03-20</td>\n",
              "      <td>AAPL</td>\n",
              "      <td></td>\n",
              "      <td></td>\n",
              "    </tr>\n",
              "    <tr>\n",
              "      <th>20</th>\n",
              "      <td>2021-03-21</td>\n",
              "      <td>AAPL</td>\n",
              "      <td></td>\n",
              "      <td></td>\n",
              "    </tr>\n",
              "    <tr>\n",
              "      <th>21</th>\n",
              "      <td>2021-03-22</td>\n",
              "      <td>AAPL</td>\n",
              "      <td></td>\n",
              "      <td></td>\n",
              "    </tr>\n",
              "    <tr>\n",
              "      <th>22</th>\n",
              "      <td>2021-03-23</td>\n",
              "      <td>AAPL</td>\n",
              "      <td></td>\n",
              "      <td></td>\n",
              "    </tr>\n",
              "    <tr>\n",
              "      <th>23</th>\n",
              "      <td>2021-03-24</td>\n",
              "      <td>AAPL</td>\n",
              "      <td></td>\n",
              "      <td></td>\n",
              "    </tr>\n",
              "    <tr>\n",
              "      <th>24</th>\n",
              "      <td>2021-03-25</td>\n",
              "      <td>AAPL</td>\n",
              "      <td></td>\n",
              "      <td></td>\n",
              "    </tr>\n",
              "    <tr>\n",
              "      <th>25</th>\n",
              "      <td>2021-03-26</td>\n",
              "      <td>AAPL</td>\n",
              "      <td></td>\n",
              "      <td></td>\n",
              "    </tr>\n",
              "    <tr>\n",
              "      <th>26</th>\n",
              "      <td>2021-03-27</td>\n",
              "      <td>AAPL</td>\n",
              "      <td>Boomer investing. I refuse to sit on anything ...</td>\n",
              "      <td></td>\n",
              "    </tr>\n",
              "    <tr>\n",
              "      <th>27</th>\n",
              "      <td>2021-03-28</td>\n",
              "      <td>AAPL</td>\n",
              "      <td>I wanna call Cramer and say, “Hey, I know this...</td>\n",
              "      <td>Boomer investing. I refuse to sit on anything ...</td>\n",
              "    </tr>\n",
              "    <tr>\n",
              "      <th>28</th>\n",
              "      <td>2021-03-29</td>\n",
              "      <td>AAPL</td>\n",
              "      <td>Hoping AAPL moons on no news. Qqq. Weekly. Whe...</td>\n",
              "      <td>I wanna call Cramer and say, “Hey, I know this...</td>\n",
              "    </tr>\n",
              "    <tr>\n",
              "      <th>29</th>\n",
              "      <td>2021-03-30</td>\n",
              "      <td>AAPL</td>\n",
              "      <td>Is it worth holding AAPL calls through earning...</td>\n",
              "      <td>Hoping AAPL moons on no news. Qqq. Weekly. Whe...</td>\n",
              "    </tr>\n",
              "  </tbody>\n",
              "</table>\n",
              "</div>"
            ],
            "text/plain": [
              "         Date  ...                              Reddits 2 Days Before\n",
              "0  2021-03-01  ...                                                   \n",
              "1  2021-03-02  ...                                                   \n",
              "2  2021-03-03  ...  AAPL why are you the way you are? If you don’t...\n",
              "3  2021-03-04  ...  Woohoo aapl, WEN, SQQQ all going so well! Don’...\n",
              "4  2021-03-05  ...  I only have aapl and it has been raping me las...\n",
              "5  2021-03-06  ...  Citadel holds like what... 10k stocks? So are ...\n",
              "6  2021-03-07  ...                                                   \n",
              "7  2021-03-08  ...  Got caught up using too much margin for shares...\n",
              "8  2021-03-09  ...  tech on sale. aapl is safe for the long run, t...\n",
              "9  2021-03-10  ...  $aapl Buying calls here... I bought AMD, QQQ, ...\n",
              "10 2021-03-11  ...  Aapl making me $cum at $122 AAPL pile driving ...\n",
              "11 2021-03-12  ...  Go ahead and look yourself I could list 100 ot...\n",
              "12 2021-03-13  ...  When all FAANG is going up 5-6%, AAPL sitting ...\n",
              "13 2021-03-14  ...  JPM is about to become bigger than AAPL I rath...\n",
              "14 2021-03-15  ...  I just bought my first option !!!\\n1 $0,56 AAP...\n",
              "15 2021-03-16  ...  When will PLTR officially announce that they b...\n",
              "16 2021-03-17  ...  Boomer stocks are good to get started with and...\n",
              "17 2021-03-18  ...  What if $AAPL released an OnlyFans integration...\n",
              "18 2021-03-19  ...                                                   \n",
              "19 2021-03-20  ...                                                   \n",
              "20 2021-03-21  ...                                                   \n",
              "21 2021-03-22  ...                                                   \n",
              "22 2021-03-23  ...                                                   \n",
              "23 2021-03-24  ...                                                   \n",
              "24 2021-03-25  ...                                                   \n",
              "25 2021-03-26  ...                                                   \n",
              "26 2021-03-27  ...                                                   \n",
              "27 2021-03-28  ...  Boomer investing. I refuse to sit on anything ...\n",
              "28 2021-03-29  ...  I wanna call Cramer and say, “Hey, I know this...\n",
              "29 2021-03-30  ...  Hoping AAPL moons on no news. Qqq. Weekly. Whe...\n",
              "\n",
              "[30 rows x 4 columns]"
            ]
          },
          "metadata": {
            "tags": []
          },
          "execution_count": 29
        }
      ]
    },
    {
      "cell_type": "markdown",
      "metadata": {
        "id": "RXj4mrA4s_yH"
      },
      "source": [
        "### 3. Twitter"
      ]
    },
    {
      "cell_type": "markdown",
      "metadata": {
        "id": "X4pfChk93mhp"
      },
      "source": [
        "preparation function 1: `get_tweets()`\n",
        "\n",
        "- this is the fundamental level of prep function"
      ]
    },
    {
      "cell_type": "code",
      "metadata": {
        "id": "lmLslfPqvYd-"
      },
      "source": [
        "def get_tweets(tickers, begin, end):\n",
        "    \"\"\"\n",
        "    A function retrieving tweets between a specified peiod of time. For each given day, only 20000 characters of tweets will be retrieved at maximum.\n",
        "    \n",
        "    Input\n",
        "    --------\n",
        "    tickers: list of tickers the user want to scrape for tweets\n",
        "    begin: dt.datetime object, the beginning of the time period\n",
        "    end: dt.datetime object, the end of the time period\n",
        "    \n",
        "    Output\n",
        "    --------\n",
        "    A dataframe containing the tweets, tikcers and dates\n",
        "    \"\"\"\n",
        "    # Initialize the container\n",
        "    data = []\n",
        "    # For all tickers \n",
        "    for ticker in tickers:\n",
        "        # Initialize a tracker for the while loop\n",
        "        date = begin\n",
        "        # For all days in the time period\n",
        "        while date < end + dt.timedelta(days = 1):\n",
        "            # Set the time mark for that specific day\n",
        "            d1 = date\n",
        "            d2 = date + dt.timedelta(days = 1)\n",
        "            # Container for tweets\n",
        "            tweets = ''\n",
        "            # Tracking the length of tweet\n",
        "            length = 0\n",
        "            # Retrieve relevant tweets on that speicifc day\n",
        "            for i,tweet in enumerate(sntwitter.TwitterSearchScraper(f'{ticker} since:{d1.year}-{d1.month}-{d1.day} until:{d2.year}-{d2.month}-{d2.day}').get_items()):\n",
        "                # Exclude those tweets if the ticker appears in the userid\n",
        "                if ticker not in tweet.username.lower():\n",
        "                    # Add the tweets to the container\n",
        "                    tweets += tweet.content\n",
        "                    # Update the length\n",
        "                    length += len(tweet.content)\n",
        "                # If we have reached our targeted length\n",
        "                if length > 20000:\n",
        "                    # Exit the loop\n",
        "                    break\n",
        "            # Construct a dataframe containing the tweets, the ticker and the date\n",
        "            df = pd.DataFrame({\"Tweets\": [tweets]})\n",
        "            df[\"Date\"] = date\n",
        "            df[\"Ticker\"] = ticker\n",
        "            \n",
        "            # Append the dataframe to the container\n",
        "            data.append(df)\n",
        "            # Update the date\n",
        "            date += dt.timedelta(days = 1)\n",
        "    # Convert the container to a mega dataframe and return\n",
        "    result = pd.concat(data, ignore_index = True)\n",
        "    return result"
      ],
      "execution_count": null,
      "outputs": []
    },
    {
      "cell_type": "markdown",
      "metadata": {
        "id": "rRSuQEQL3qOp"
      },
      "source": [
        "preparation function 2: `lag()`\n",
        "\n",
        "- this is the fundamental level of prep function"
      ]
    },
    {
      "cell_type": "code",
      "metadata": {
        "id": "ya1KOzZMvkfc"
      },
      "source": [
        "def lag(x, num_places):\n",
        "    \"\"\"\n",
        "    Shifts the array x by num_places positions to the right,\n",
        "    Fills positions now empty with np.nan values,\n",
        "    Returns the shifted array.\n",
        "    \n",
        "    Input\n",
        "    --------\n",
        "    x: 1d array of float types\n",
        "    num_places: int type, number of positions to shift the array\n",
        "    \n",
        "    Output\n",
        "    --------\n",
        "    y: 1d array after the shift\n",
        "    \"\"\"\n",
        "    # Shift the array by num_places positions\n",
        "    new = np.roll(x, num_places)\n",
        "    # Fill the emptied positions with np.nan\n",
        "    new[0:num_places] = np.nan\n",
        "\n",
        "    # Return the shifted array\n",
        "    return new"
      ],
      "execution_count": null,
      "outputs": []
    },
    {
      "cell_type": "markdown",
      "metadata": {
        "id": "sJDvMrwv3v2z"
      },
      "source": [
        "main function: tweets_input\n",
        "\n",
        "- this function uses prep function 1 and 2\n",
        "\n",
        "- create a dataframe of daily twitter comments specified by the begin and end date of retrieving, and outputs the dataframe that could be potentially used by the Tensorflow dataset"
      ]
    },
    {
      "cell_type": "code",
      "metadata": {
        "id": "_eZedCVivsyi"
      },
      "source": [
        "def tweets_input(ticker, begin, end):\n",
        "    \"\"\"\n",
        "    A function that returns a lagged version of tweets input for a specific ticker over a certain period.\n",
        "    \n",
        "    Input\n",
        "    --------\n",
        "    ticker: string, the stock ticker\n",
        "    begin: dt.datetime object, the beginning of the time period\n",
        "    end: dt.datetime object, the end of the time period\n",
        "    \n",
        "    Output\n",
        "    --------\n",
        "    A dataframe containing a lagged version of tweets input for a specific ticker over a certain period\n",
        "    \"\"\"\n",
        "    # Retrieve all tweets in the given period of time\n",
        "    df = get_tweets([ticker], begin - dt.timedelta(days = 2), end - dt.timedelta(days = 1))\n",
        "    # Note that we didn't retrieve the tweets for the lat day, in order for the lag function to consider the last day\n",
        "    # We add an extra row\n",
        "    last_day = pd.DataFrame({\"Date\": end,\"Tweets\": '',\"Ticker\": ticker}, index=[0])\n",
        "    df = pd.concat([df,last_day], ignore_index = True)\n",
        "    # Do the lag for two days\n",
        "    for i in range(1,3):\n",
        "        df[\"Tweets \" + str(i) + \" Days Before\"] = df.groupby(\"Ticker\")[\"Tweets\"].transform(lambda x: lag(x, i))\n",
        "    # Drop the tweets for the given day\n",
        "    df = df.drop(\"Tweets\", axis = 1)\n",
        "    # Dropna and reset the indices\n",
        "    df = df.dropna().reset_index(drop = True)\n",
        "    return df"
      ],
      "execution_count": null,
      "outputs": []
    },
    {
      "cell_type": "markdown",
      "metadata": {
        "id": "Cmc2kRE9i80W"
      },
      "source": [
        "Now, showing a example on how retrieving from twitter results into a dataset."
      ]
    },
    {
      "cell_type": "code",
      "metadata": {
        "id": "0dGfGmHla_Vd"
      },
      "source": [
        "ticker = \"AAPL\"\n",
        "begin = dt.datetime(2021,3,1)\n",
        "end = dt.datetime(2021,3,30)\n",
        "\n",
        "tweets = tweets_input(ticker, begin, end)"
      ],
      "execution_count": null,
      "outputs": []
    },
    {
      "cell_type": "code",
      "metadata": {
        "colab": {
          "base_uri": "https://localhost:8080/",
          "height": 1000
        },
        "id": "jvskxcGbbCCd",
        "outputId": "33fb121a-ab43-4088-d629-8bc41fe13a9e"
      },
      "source": [
        "tweets"
      ],
      "execution_count": null,
      "outputs": [
        {
          "output_type": "execute_result",
          "data": {
            "text/html": [
              "<div>\n",
              "<style scoped>\n",
              "    .dataframe tbody tr th:only-of-type {\n",
              "        vertical-align: middle;\n",
              "    }\n",
              "\n",
              "    .dataframe tbody tr th {\n",
              "        vertical-align: top;\n",
              "    }\n",
              "\n",
              "    .dataframe thead th {\n",
              "        text-align: right;\n",
              "    }\n",
              "</style>\n",
              "<table border=\"1\" class=\"dataframe\">\n",
              "  <thead>\n",
              "    <tr style=\"text-align: right;\">\n",
              "      <th></th>\n",
              "      <th>Date</th>\n",
              "      <th>Ticker</th>\n",
              "      <th>Tweets 1 Days Before</th>\n",
              "      <th>Tweets 2 Days Before</th>\n",
              "    </tr>\n",
              "  </thead>\n",
              "  <tbody>\n",
              "    <tr>\n",
              "      <th>0</th>\n",
              "      <td>2021-03-01</td>\n",
              "      <td>AAPL</td>\n",
              "      <td>Data Reveals 40% of Disney+ Subscribers Are in...</td>\n",
              "      <td>[Last 2 Hours]\\n\\nStocks trending among elite ...</td>\n",
              "    </tr>\n",
              "    <tr>\n",
              "      <th>1</th>\n",
              "      <td>2021-03-02</td>\n",
              "      <td>AAPL</td>\n",
              "      <td>@ARKInvest Innovation ETF($ARKK): $SNAP -63%, ...</td>\n",
              "      <td>Data Reveals 40% of Disney+ Subscribers Are in...</td>\n",
              "    </tr>\n",
              "    <tr>\n",
              "      <th>2</th>\n",
              "      <td>2021-03-03</td>\n",
              "      <td>AAPL</td>\n",
              "      <td>@Trendtraderz @_JamesBradley__ I did a puts se...</td>\n",
              "      <td>@ARKInvest Innovation ETF($ARKK): $SNAP -63%, ...</td>\n",
              "    </tr>\n",
              "    <tr>\n",
              "      <th>3</th>\n",
              "      <td>2021-03-04</td>\n",
              "      <td>AAPL</td>\n",
              "      <td>$spx $tsla $aapl $msft $fb $pltr\\n\\nIt is poss...</td>\n",
              "      <td>@Trendtraderz @_JamesBradley__ I did a puts se...</td>\n",
              "    </tr>\n",
              "    <tr>\n",
              "      <th>4</th>\n",
              "      <td>2021-03-05</td>\n",
              "      <td>AAPL</td>\n",
              "      <td>$nio 36$ looks more attractive tomorrow maybe ...</td>\n",
              "      <td>$spx $tsla $aapl $msft $fb $pltr\\n\\nIt is poss...</td>\n",
              "    </tr>\n",
              "    <tr>\n",
              "      <th>5</th>\n",
              "      <td>2021-03-06</td>\n",
              "      <td>AAPL</td>\n",
              "      <td>Buy those tech stocks people\\n They're on sale...</td>\n",
              "      <td>$nio 36$ looks more attractive tomorrow maybe ...</td>\n",
              "    </tr>\n",
              "    <tr>\n",
              "      <th>6</th>\n",
              "      <td>2021-03-07</td>\n",
              "      <td>AAPL</td>\n",
              "      <td>$AAPL yep.. 🤒 https://t.co/FMvyXTFsmL$AAPL\\n長期...</td>\n",
              "      <td>Buy those tech stocks people\\n They're on sale...</td>\n",
              "    </tr>\n",
              "    <tr>\n",
              "      <th>7</th>\n",
              "      <td>2021-03-08</td>\n",
              "      <td>AAPL</td>\n",
              "      <td>Tech giants in brewing battle over tracking, a...</td>\n",
              "      <td>$AAPL yep.. 🤒 https://t.co/FMvyXTFsmL$AAPL\\n長期...</td>\n",
              "    </tr>\n",
              "    <tr>\n",
              "      <th>8</th>\n",
              "      <td>2021-03-09</td>\n",
              "      <td>AAPL</td>\n",
              "      <td>@dougboneparth Scooping those $AAPL dips https...</td>\n",
              "      <td>Tech giants in brewing battle over tracking, a...</td>\n",
              "    </tr>\n",
              "    <tr>\n",
              "      <th>9</th>\n",
              "      <td>2021-03-10</td>\n",
              "      <td>AAPL</td>\n",
              "      <td>@zm_lopez Please do not compare Apple $AAPL an...</td>\n",
              "      <td>@dougboneparth Scooping those $AAPL dips https...</td>\n",
              "    </tr>\n",
              "    <tr>\n",
              "      <th>10</th>\n",
              "      <td>2021-03-11</td>\n",
              "      <td>AAPL</td>\n",
              "      <td>$SPX $SPY $AMZN $NFLX $FB $AAPL short term ‘39...</td>\n",
              "      <td>@zm_lopez Please do not compare Apple $AAPL an...</td>\n",
              "    </tr>\n",
              "    <tr>\n",
              "      <th>11</th>\n",
              "      <td>2021-03-12</td>\n",
              "      <td>AAPL</td>\n",
              "      <td>$AAPL Nearing the top of the trend. Needs to c...</td>\n",
              "      <td>$SPX $SPY $AMZN $NFLX $FB $AAPL short term ‘39...</td>\n",
              "    </tr>\n",
              "    <tr>\n",
              "      <th>12</th>\n",
              "      <td>2021-03-13</td>\n",
              "      <td>AAPL</td>\n",
              "      <td>#OptionsTrading \\n\\n3/12/21 At the close, top ...</td>\n",
              "      <td>$AAPL Nearing the top of the trend. Needs to c...</td>\n",
              "    </tr>\n",
              "    <tr>\n",
              "      <th>13</th>\n",
              "      <td>2021-03-14</td>\n",
              "      <td>AAPL</td>\n",
              "      <td>A while ago, I sold all my stock (except $AAPL...</td>\n",
              "      <td>#OptionsTrading \\n\\n3/12/21 At the close, top ...</td>\n",
              "    </tr>\n",
              "    <tr>\n",
              "      <th>14</th>\n",
              "      <td>2021-03-15</td>\n",
              "      <td>AAPL</td>\n",
              "      <td>@stoolpresidente BROCK’S STOCKS OF THE WEEK:\\n...</td>\n",
              "      <td>A while ago, I sold all my stock (except $AAPL...</td>\n",
              "    </tr>\n",
              "    <tr>\n",
              "      <th>15</th>\n",
              "      <td>2021-03-16</td>\n",
              "      <td>AAPL</td>\n",
              "      <td>?!\\n\\nコツコツ少しづつ安いと思って買ってた…\\n\\n$AAPL アップル\\n\\nがプラ...</td>\n",
              "      <td>@stoolpresidente BROCK’S STOCKS OF THE WEEK:\\n...</td>\n",
              "    </tr>\n",
              "    <tr>\n",
              "      <th>16</th>\n",
              "      <td>2021-03-17</td>\n",
              "      <td>AAPL</td>\n",
              "      <td>Today's market summary and tomorrow's forecast...</td>\n",
              "      <td>?!\\n\\nコツコツ少しづつ安いと思って買ってた…\\n\\n$AAPL アップル\\n\\nがプラ...</td>\n",
              "    </tr>\n",
              "    <tr>\n",
              "      <th>17</th>\n",
              "      <td>2021-03-18</td>\n",
              "      <td>AAPL</td>\n",
              "      <td>$spy $spx $v $ndx $qqq $tsla $pltr $aapl $amzn...</td>\n",
              "      <td>Today's market summary and tomorrow's forecast...</td>\n",
              "    </tr>\n",
              "    <tr>\n",
              "      <th>18</th>\n",
              "      <td>2021-03-19</td>\n",
              "      <td>AAPL</td>\n",
              "      <td>@Quarry_Rock Tim $AAPL have one job of making ...</td>\n",
              "      <td>$spy $spx $v $ndx $qqq $tsla $pltr $aapl $amzn...</td>\n",
              "    </tr>\n",
              "    <tr>\n",
              "      <th>19</th>\n",
              "      <td>2021-03-20</td>\n",
              "      <td>AAPL</td>\n",
              "      <td>現在保有株のポートフォリオ@ MAR 20, 2021\\n\\n今週は、 $AAPL $AMZ...</td>\n",
              "      <td>@Quarry_Rock Tim $AAPL have one job of making ...</td>\n",
              "    </tr>\n",
              "    <tr>\n",
              "      <th>20</th>\n",
              "      <td>2021-03-21</td>\n",
              "      <td>AAPL</td>\n",
              "      <td>@Mikes_Charts @mcadam_stacey @realRajatDey @Se...</td>\n",
              "      <td>現在保有株のポートフォリオ@ MAR 20, 2021\\n\\n今週は、 $AAPL $AMZ...</td>\n",
              "    </tr>\n",
              "    <tr>\n",
              "      <th>21</th>\n",
              "      <td>2021-03-22</td>\n",
              "      <td>AAPL</td>\n",
              "      <td>$BABA Has traded within 225-241 range and now ...</td>\n",
              "      <td>@Mikes_Charts @mcadam_stacey @realRajatDey @Se...</td>\n",
              "    </tr>\n",
              "    <tr>\n",
              "      <th>22</th>\n",
              "      <td>2021-03-23</td>\n",
              "      <td>AAPL</td>\n",
              "      <td>✅Stocks \\n✅Options \\n✅Day trading \\n\\n$CLDR $N...</td>\n",
              "      <td>$BABA Has traded within 225-241 range and now ...</td>\n",
              "    </tr>\n",
              "    <tr>\n",
              "      <th>23</th>\n",
              "      <td>2021-03-24</td>\n",
              "      <td>AAPL</td>\n",
              "      <td>$FUBO leaning bearish here as the mini bear fl...</td>\n",
              "      <td>✅Stocks \\n✅Options \\n✅Day trading \\n\\n$CLDR $N...</td>\n",
              "    </tr>\n",
              "    <tr>\n",
              "      <th>24</th>\n",
              "      <td>2021-03-25</td>\n",
              "      <td>AAPL</td>\n",
              "      <td>324米国株市況　　GAFAM+NVDA+TSLA+NFLXは前日比で全敗。1カ月前比は2勝...</td>\n",
              "      <td>$FUBO leaning bearish here as the mini bear fl...</td>\n",
              "    </tr>\n",
              "    <tr>\n",
              "      <th>25</th>\n",
              "      <td>2021-03-26</td>\n",
              "      <td>AAPL</td>\n",
              "      <td>@devinbartolotta All they had to do is take 2 ...</td>\n",
              "      <td>324米国株市況　　GAFAM+NVDA+TSLA+NFLXは前日比で全敗。1カ月前比は2勝...</td>\n",
              "    </tr>\n",
              "    <tr>\n",
              "      <th>26</th>\n",
              "      <td>2021-03-27</td>\n",
              "      <td>AAPL</td>\n",
              "      <td>Monday might be AGGRESSIVE $TSLA and $AAPL buy...</td>\n",
              "      <td>@devinbartolotta All they had to do is take 2 ...</td>\n",
              "    </tr>\n",
              "    <tr>\n",
              "      <th>27</th>\n",
              "      <td>2021-03-28</td>\n",
              "      <td>AAPL</td>\n",
              "      <td>@StockMKTNewz $AAPL $DIS $CCIV $ARKK $ARKGヤングマ...</td>\n",
              "      <td>Monday might be AGGRESSIVE $TSLA and $AAPL buy...</td>\n",
              "    </tr>\n",
              "    <tr>\n",
              "      <th>28</th>\n",
              "      <td>2021-03-29</td>\n",
              "      <td>AAPL</td>\n",
              "      <td>$DOCU Pretty beaten up name that may have fina...</td>\n",
              "      <td>@StockMKTNewz $AAPL $DIS $CCIV $ARKK $ARKGヤングマ...</td>\n",
              "    </tr>\n",
              "    <tr>\n",
              "      <th>29</th>\n",
              "      <td>2021-03-30</td>\n",
              "      <td>AAPL</td>\n",
              "      <td>Alerts 💰\\nUpdate 📈📉      \\nWatchlist,💹💸       ...</td>\n",
              "      <td>$DOCU Pretty beaten up name that may have fina...</td>\n",
              "    </tr>\n",
              "  </tbody>\n",
              "</table>\n",
              "</div>"
            ],
            "text/plain": [
              "         Date  ...                               Tweets 2 Days Before\n",
              "0  2021-03-01  ...  [Last 2 Hours]\\n\\nStocks trending among elite ...\n",
              "1  2021-03-02  ...  Data Reveals 40% of Disney+ Subscribers Are in...\n",
              "2  2021-03-03  ...  @ARKInvest Innovation ETF($ARKK): $SNAP -63%, ...\n",
              "3  2021-03-04  ...  @Trendtraderz @_JamesBradley__ I did a puts se...\n",
              "4  2021-03-05  ...  $spx $tsla $aapl $msft $fb $pltr\\n\\nIt is poss...\n",
              "5  2021-03-06  ...  $nio 36$ looks more attractive tomorrow maybe ...\n",
              "6  2021-03-07  ...  Buy those tech stocks people\\n They're on sale...\n",
              "7  2021-03-08  ...  $AAPL yep.. 🤒 https://t.co/FMvyXTFsmL$AAPL\\n長期...\n",
              "8  2021-03-09  ...  Tech giants in brewing battle over tracking, a...\n",
              "9  2021-03-10  ...  @dougboneparth Scooping those $AAPL dips https...\n",
              "10 2021-03-11  ...  @zm_lopez Please do not compare Apple $AAPL an...\n",
              "11 2021-03-12  ...  $SPX $SPY $AMZN $NFLX $FB $AAPL short term ‘39...\n",
              "12 2021-03-13  ...  $AAPL Nearing the top of the trend. Needs to c...\n",
              "13 2021-03-14  ...  #OptionsTrading \\n\\n3/12/21 At the close, top ...\n",
              "14 2021-03-15  ...  A while ago, I sold all my stock (except $AAPL...\n",
              "15 2021-03-16  ...  @stoolpresidente BROCK’S STOCKS OF THE WEEK:\\n...\n",
              "16 2021-03-17  ...  ?!\\n\\nコツコツ少しづつ安いと思って買ってた…\\n\\n$AAPL アップル\\n\\nがプラ...\n",
              "17 2021-03-18  ...  Today's market summary and tomorrow's forecast...\n",
              "18 2021-03-19  ...  $spy $spx $v $ndx $qqq $tsla $pltr $aapl $amzn...\n",
              "19 2021-03-20  ...  @Quarry_Rock Tim $AAPL have one job of making ...\n",
              "20 2021-03-21  ...  現在保有株のポートフォリオ@ MAR 20, 2021\\n\\n今週は、 $AAPL $AMZ...\n",
              "21 2021-03-22  ...  @Mikes_Charts @mcadam_stacey @realRajatDey @Se...\n",
              "22 2021-03-23  ...  $BABA Has traded within 225-241 range and now ...\n",
              "23 2021-03-24  ...  ✅Stocks \\n✅Options \\n✅Day trading \\n\\n$CLDR $N...\n",
              "24 2021-03-25  ...  $FUBO leaning bearish here as the mini bear fl...\n",
              "25 2021-03-26  ...  324米国株市況　　GAFAM+NVDA+TSLA+NFLXは前日比で全敗。1カ月前比は2勝...\n",
              "26 2021-03-27  ...  @devinbartolotta All they had to do is take 2 ...\n",
              "27 2021-03-28  ...  Monday might be AGGRESSIVE $TSLA and $AAPL buy...\n",
              "28 2021-03-29  ...  @StockMKTNewz $AAPL $DIS $CCIV $ARKK $ARKGヤングマ...\n",
              "29 2021-03-30  ...  $DOCU Pretty beaten up name that may have fina...\n",
              "\n",
              "[30 rows x 4 columns]"
            ]
          },
          "metadata": {
            "tags": []
          },
          "execution_count": 36
        }
      ]
    },
    {
      "cell_type": "markdown",
      "metadata": {
        "id": "7Lxy4TmMw17s"
      },
      "source": [
        "### 4. Tipranks\n",
        "\n",
        "Since this section is optional in this file, we'll discuss it when coming to the Tiprank module.\n",
        "\n",
        "For more information, refer to the section *More Insights: How Tiprank Could be Used Here* later in this file."
      ]
    },
    {
      "cell_type": "markdown",
      "metadata": {
        "id": "UkSgtKJId-aZ"
      },
      "source": [
        "## Several Preparation Functions for Dataset Creation and Tensorflow Models\n",
        "\n",
        "1. `train_test_split(data)`: doing the training test splitting of an inputting tensorflow dataset\n",
        "\n",
        "2. `standardization(input_data)`: doing data standardization process, used for defining TextVectorization later in all models.\n",
        "\n",
        "3. `select_trade_days(x, dates)`: selects all the rows in the DataFrame whose date is within the given list of tradedays\n",
        "\n",
        "4. `identify_trade_days(x, dates)`: helper function for select_trade_days, mark the dataframe rows if the date is within the given list of tradedays\n",
        "\n",
        "5. `remove_stopwords(df_pd, colname, stopwords_list)`: remove stopwords inside text columns that is defined by *colname* columns in *df_pd*"
      ]
    },
    {
      "cell_type": "code",
      "metadata": {
        "id": "jpKkmaRd7K7o"
      },
      "source": [
        "def train_test_split(data):\n",
        "    \"\"\"\n",
        "    Split a tensorflow dataset into 80:20 train:validation,\n",
        "    and output train and validation\n",
        "    \n",
        "    Input\n",
        "    --------\n",
        "    dataset: the whole tensorflow dataset\n",
        "    \n",
        "    Output\n",
        "    --------\n",
        "    (train, val): training and validation datasets\n",
        "    \"\"\"\n",
        "    np.random.seed(9999)\n",
        "\n",
        "    data = data.shuffle(buffer_size = len(data))\n",
        "\n",
        "    train_size = int(0.8*len(data))\n",
        "    val_size   = int(0.2*len(data))\n",
        "    \n",
        "    train = data.take(train_size)\n",
        "    val   = data.skip(train_size).take(val_size)\n",
        "    \n",
        "    return train, val"
      ],
      "execution_count": null,
      "outputs": []
    },
    {
      "cell_type": "code",
      "metadata": {
        "id": "ajOqqvqA7K7p"
      },
      "source": [
        "def standardization(input_data):\n",
        "    lowercase = tf.strings.lower(input_data)\n",
        "    no_punctuation = tf.strings.regex_replace(lowercase,\n",
        "                                  '[%s]' % re.escape(string.punctuation),'')\n",
        "    return no_punctuation"
      ],
      "execution_count": null,
      "outputs": []
    },
    {
      "cell_type": "code",
      "metadata": {
        "id": "hXh0n9lLvuOU"
      },
      "source": [
        "def identify_trade_days(x, dates):\n",
        "    \"\"\"\n",
        "    A function to mark the dataframe rows if the date is within the given list of tradedays\n",
        "    \n",
        "    Input\n",
        "    --------\n",
        "    x: DataFrame object grouped by Date\n",
        "    dates: list of tradedays as dt.datetime object\n",
        "    \n",
        "    Output\n",
        "    --------\n",
        "    The dataframe with rows marked, 1 in the TD column means the row is data from a tradeday and 0 otherwise\n",
        "    \"\"\"\n",
        "    # If the date is a tradeday\n",
        "    if x[\"Date\"].values[0] in dates:\n",
        "        # Mark the row accordingly\n",
        "        x[\"TD\"] = 1\n",
        "    # If the date is not a tradeday\n",
        "    else:\n",
        "        # Mark the row acoordingly\n",
        "        x[\"TD\"] = 0\n",
        "        \n",
        "    return x\n",
        "\n",
        "def select_trade_days(x, dates):\n",
        "    \"\"\"\n",
        "    A function that selects all the rows in the DataFrame whose date is within the given list of tradedays\n",
        "    \n",
        "    Input\n",
        "    --------\n",
        "    x: DataFrame object grouped by Date\n",
        "    dates: list of tradedays as dt.datetime object\n",
        "    \n",
        "    Output\n",
        "    --------\n",
        "    The part of the dataframe whose dates are tradedays\n",
        "    \"\"\"\n",
        "    # Mark the rows to identify the trade days\n",
        "    df = x.groupby(\"Date\").apply(identify_trade_days, dates = dates)\n",
        "    # Drop all the non-tradedays\n",
        "    df = df[df[\"TD\"] == 1].copy().reset_index(drop = True)\n",
        "\n",
        "    # Return the result\n",
        "    return df.drop(\"TD\", axis = 1)"
      ],
      "execution_count": null,
      "outputs": []
    },
    {
      "cell_type": "code",
      "metadata": {
        "id": "_HZF5STFv14w"
      },
      "source": [
        "def remove_stopwords(df_pd, colname, stopwords_list):\n",
        "    \"\"\"\n",
        "    The function looks at the column df_pd[colname] in the input dataframe df_pd,\n",
        "    and first change all characters to lowercase, \n",
        "    split texts into a list of word chunks according to empty space,\n",
        "    and then reconcatenate the word chunks that are not in the list of stopwords stopwords_list\n",
        "    into a string of texts again.\n",
        "\n",
        "    Limitation: this function does not deal with stopwords right before punctuation marks.\n",
        "    \"\"\"\n",
        "    all_words_in_list = df_pd[colname].str.lower().str.split()\n",
        "    stopwords_removed = all_words_in_list.apply(lambda x: ' '.join([word for word in x if word.lower() not in stopwords_list]))\n",
        "\n",
        "    return stopwords_removed"
      ],
      "execution_count": null,
      "outputs": []
    },
    {
      "cell_type": "markdown",
      "metadata": {
        "id": "OBIh8Zzb6Hn4"
      },
      "source": [
        "## Model 1: Reddit-Twitter One Day Only Analysis\n",
        "\n",
        "This model takes predictors as:\n",
        "- returns in the past 5 days\n",
        "- reddit comments from 1 day ago\n",
        "- twitter comments from 1 day ago\n",
        "\n",
        "We want to visualize the model performance.\n",
        "\n"
      ]
    },
    {
      "cell_type": "markdown",
      "metadata": {
        "id": "NKrDmtKLztLX"
      },
      "source": [
        "### Data Preparation"
      ]
    },
    {
      "cell_type": "code",
      "metadata": {
        "id": "xQIsdkkc7K7n"
      },
      "source": [
        "def reddit_twitter_tensorflow_dataset(ticker, begin, end):\n",
        "\n",
        "    \"\"\"\n",
        "    Prepare for Reddit-Twitter Combined Tensorflow Dataset.\n",
        "\n",
        "    Input\n",
        "    --------\n",
        "    ticker: string, the stock ticker\n",
        "    begin: dt.datetime object, the beginning of the time period\n",
        "    end: dt.datetime object, the end of the time period\n",
        "\n",
        "    Output\n",
        "    --------\n",
        "    data: Tensorflow dataset\n",
        "        - predictors: tweets and reddit comments one day before\n",
        "                      previous five days returns\n",
        "        - target: the return of the current day\n",
        "    \"\"\"\n",
        "    \n",
        "    reddits = reddits_input(ticker, begin, end)\n",
        "    tweets = tweets_input(ticker, begin, end)\n",
        "    returns = return_input(ticker, begin, end)\n",
        "    \n",
        "    dates = returns[\"Date\"].tolist()\n",
        "    reddits = select_trade_days(reddits, dates)\n",
        "    tweets = select_trade_days(tweets, dates)\n",
        "    \n",
        "    stopwords_list = stopwords.words(\"english\")  # a list of stopwords in english\n",
        "    tweets[\"Tweets 1 Days Before\"] = remove_stopwords(tweets, \"Tweets 1 Days Before\", stopwords_list)\n",
        "    reddits[\"Reddits 1 Days Before\"] = remove_stopwords(reddits, \"Reddits 1 Days Before\", stopwords_list)\n",
        "\n",
        "    temp = pd.merge(returns, tweets)\n",
        "    df = pd.merge(temp, reddits)\n",
        "    columns = [\"Return \" + str(i) + \" Days Before\" for i in range(1,6)]\n",
        "    \n",
        "    data = tf.data.Dataset.from_tensor_slices(\n",
        "        (\n",
        "            {\n",
        "                \"Tweets\" : df[[\"Tweets 1 Days Before\"]], \n",
        "                \"Reddits\" : df[[\"Reddits 1 Days Before\"]], \n",
        "                \"Previous_Returns\": df[columns]\n",
        "            }, \n",
        "            {\n",
        "                \"Returns\" : df[[\"Return\"]]\n",
        "            }\n",
        "        )\n",
        "    )\n",
        "\n",
        "    return data"
      ],
      "execution_count": null,
      "outputs": []
    },
    {
      "cell_type": "code",
      "metadata": {
        "id": "QBbGIqt27K7p"
      },
      "source": [
        "# retrieve all data from 2021/03/01 to 2021/04/30 for analyzation\n",
        "data = reddit_twitter_tensorflow_dataset(\"AAPL\", dt.datetime(2021,3,1), dt.datetime(2021,4,30))\n",
        "train, val = train_test_split(data)"
      ],
      "execution_count": null,
      "outputs": []
    },
    {
      "cell_type": "code",
      "metadata": {
        "id": "Ctdwt6Zl7K7p"
      },
      "source": [
        "size_vocabulary = 2000\n",
        "\n",
        "vectorize_layer = TextVectorization(\n",
        "    standardize=standardization,\n",
        "    max_tokens=size_vocabulary, # only consider this many words\n",
        "    output_mode='int',\n",
        "    output_sequence_length=500) \n",
        "\n",
        "vectorize_layer.adapt(train.map(lambda x, y: x[\"Reddits\"]))\n",
        "vectorize_layer.adapt(train.map(lambda x, y: x[\"Tweets\"]))"
      ],
      "execution_count": null,
      "outputs": []
    },
    {
      "cell_type": "markdown",
      "metadata": {
        "id": "GD97gyVqzwUl"
      },
      "source": [
        "### Model Construction"
      ]
    },
    {
      "cell_type": "code",
      "metadata": {
        "id": "UCLINbph7K7p"
      },
      "source": [
        "rd_input = keras.Input(\n",
        "    shape = (1,), \n",
        "    name = \"Reddits\",\n",
        "    dtype = \"string\"\n",
        ")\n",
        "\n",
        "tw_input = keras.Input(\n",
        "    shape = (1,), \n",
        "    name = \"Tweets\",\n",
        "    dtype = \"string\"\n",
        ")\n",
        "\n",
        "re_input = keras.Input(\n",
        "    shape = (5,), \n",
        "    name = \"Previous_Returns\",\n",
        "    dtype = \"float64\"\n",
        ")"
      ],
      "execution_count": null,
      "outputs": []
    },
    {
      "cell_type": "code",
      "metadata": {
        "id": "PslK7_6B7K7p"
      },
      "source": [
        "embedding_layer = layers.Embedding(input_dim = size_vocabulary, output_dim = 10)\n",
        "\n",
        "# vectorize title texts into tensor containing data\n",
        "rd_features = vectorize_layer(rd_input)\n",
        "# Turns positive integers (indexes) into dense vectors of fixed size\n",
        "rd_features = embedding_layer(rd_features)\n",
        "# Applies Dropout to the input to avoid overfitting\n",
        "rd_features = layers.Dropout(rate = 0.2)(rd_features)\n",
        "# pooling To reduce variance, reduce computation complexity\n",
        "rd_features = layers.GlobalAveragePooling1D()(rd_features)\n",
        "# Applies Dropout to the input to avoid overfitting\n",
        "rd_features = layers.Dropout(rate = 0.2)(rd_features)\n",
        "# add a dense layer\n",
        "rd_features = layers.Dense(32, activation = \"relu\", name = \"reddit_dense\")(rd_features)\n",
        "\n",
        "# vectorize title texts into tensor containing data\n",
        "tw_features = vectorize_layer(tw_input)\n",
        "# Turns positive integers (indexes) into dense vectors of fixed size\n",
        "tw_features = embedding_layer(tw_features)\n",
        "# Applies Dropout to the input to avoid overfitting\n",
        "tw_features = layers.Dropout(rate = 0.2)(tw_features)\n",
        "# pooling To reduce variance, reduce computation complexity\n",
        "tw_features = layers.GlobalAveragePooling1D()(tw_features)\n",
        "# Applies Dropout to the input to avoid overfitting\n",
        "tw_features = layers.Dropout(rate = 0.2)(tw_features)\n",
        "# add a dense layer\n",
        "tw_features = layers.Dense(32, activation = \"relu\", name = \"tweets_dense\")(tw_features)\n",
        "\n",
        "combined_features = layers.concatenate([rd_features, tw_features], axis = 1)\n",
        "combined_features = layers.Dense(32, activation='relu')(combined_features)\n",
        "\n",
        "re_features = layers.Dense(32, activation='relu')(tf.reshape(re_input, [-1, 5]))\n",
        "re_features = layers.Dense(16, activation='relu')(re_features)\n",
        "\n",
        "# concatenate and create output\n",
        "main = layers.concatenate([rd_features, tw_features, re_features], axis = 1)\n",
        "main = layers.Dense(32, activation='relu')(main)\n",
        "output = layers.Dense(1, name = \"Returns\")(main)"
      ],
      "execution_count": null,
      "outputs": []
    },
    {
      "cell_type": "code",
      "metadata": {
        "id": "B1vyvJcV7K7q"
      },
      "source": [
        "rd_tw_model = keras.Model(\n",
        "    inputs = [rd_input, tw_input, re_input],\n",
        "    outputs = output\n",
        ")"
      ],
      "execution_count": null,
      "outputs": []
    },
    {
      "cell_type": "code",
      "metadata": {
        "colab": {
          "base_uri": "https://localhost:8080/"
        },
        "id": "6KoXcDAb7K7q",
        "outputId": "d1a92b56-725a-497c-8ae6-e518995292d8"
      },
      "source": [
        "rd_tw_model.summary()"
      ],
      "execution_count": null,
      "outputs": [
        {
          "output_type": "stream",
          "text": [
            "Model: \"model\"\n",
            "__________________________________________________________________________________________________\n",
            "Layer (type)                    Output Shape         Param #     Connected to                     \n",
            "==================================================================================================\n",
            "Reddits (InputLayer)            [(None, 1)]          0                                            \n",
            "__________________________________________________________________________________________________\n",
            "Tweets (InputLayer)             [(None, 1)]          0                                            \n",
            "__________________________________________________________________________________________________\n",
            "text_vectorization (TextVectori (None, 500)          0           Reddits[0][0]                    \n",
            "                                                                 Tweets[0][0]                     \n",
            "__________________________________________________________________________________________________\n",
            "embedding (Embedding)           (None, 500, 10)      20000       text_vectorization[0][0]         \n",
            "                                                                 text_vectorization[1][0]         \n",
            "__________________________________________________________________________________________________\n",
            "dropout (Dropout)               (None, 500, 10)      0           embedding[0][0]                  \n",
            "__________________________________________________________________________________________________\n",
            "dropout_2 (Dropout)             (None, 500, 10)      0           embedding[1][0]                  \n",
            "__________________________________________________________________________________________________\n",
            "Previous_Returns (InputLayer)   [(None, 5)]          0                                            \n",
            "__________________________________________________________________________________________________\n",
            "global_average_pooling1d (Globa (None, 10)           0           dropout[0][0]                    \n",
            "__________________________________________________________________________________________________\n",
            "global_average_pooling1d_1 (Glo (None, 10)           0           dropout_2[0][0]                  \n",
            "__________________________________________________________________________________________________\n",
            "tf.reshape (TFOpLambda)         (None, 5)            0           Previous_Returns[0][0]           \n",
            "__________________________________________________________________________________________________\n",
            "dropout_1 (Dropout)             (None, 10)           0           global_average_pooling1d[0][0]   \n",
            "__________________________________________________________________________________________________\n",
            "dropout_3 (Dropout)             (None, 10)           0           global_average_pooling1d_1[0][0] \n",
            "__________________________________________________________________________________________________\n",
            "dense_1 (Dense)                 (None, 32)           192         tf.reshape[0][0]                 \n",
            "__________________________________________________________________________________________________\n",
            "reddit_dense (Dense)            (None, 32)           352         dropout_1[0][0]                  \n",
            "__________________________________________________________________________________________________\n",
            "tweets_dense (Dense)            (None, 32)           352         dropout_3[0][0]                  \n",
            "__________________________________________________________________________________________________\n",
            "dense_2 (Dense)                 (None, 16)           528         dense_1[0][0]                    \n",
            "__________________________________________________________________________________________________\n",
            "concatenate_1 (Concatenate)     (None, 80)           0           reddit_dense[0][0]               \n",
            "                                                                 tweets_dense[0][0]               \n",
            "                                                                 dense_2[0][0]                    \n",
            "__________________________________________________________________________________________________\n",
            "dense_3 (Dense)                 (None, 32)           2592        concatenate_1[0][0]              \n",
            "__________________________________________________________________________________________________\n",
            "Returns (Dense)                 (None, 1)            33          dense_3[0][0]                    \n",
            "==================================================================================================\n",
            "Total params: 24,049\n",
            "Trainable params: 24,049\n",
            "Non-trainable params: 0\n",
            "__________________________________________________________________________________________________\n"
          ],
          "name": "stdout"
        }
      ]
    },
    {
      "cell_type": "markdown",
      "metadata": {
        "id": "MYL6PUt9zzVf"
      },
      "source": [
        "### Model Result"
      ]
    },
    {
      "cell_type": "code",
      "metadata": {
        "id": "1TNZibWH7K7r"
      },
      "source": [
        "#complie\n",
        "rd_tw_model.compile(optimizer = \"adam\",\n",
        "              loss = losses.MeanSquaredError(),\n",
        "              metrics = keras.metrics.MeanSquaredError()\n",
        ")\n",
        "\n",
        "# train\n",
        "rd_tw_history = rd_tw_model.fit(train, \n",
        "                    validation_data=val,\n",
        "                    epochs = 30,\n",
        "                    verbose = False)"
      ],
      "execution_count": null,
      "outputs": []
    },
    {
      "cell_type": "code",
      "metadata": {
        "colab": {
          "base_uri": "https://localhost:8080/",
          "height": 312
        },
        "id": "6mtbmKDd7K7r",
        "outputId": "ce2cc7b7-89b4-4eca-9ee7-cd60a42620fa"
      },
      "source": [
        "plt.plot(rd_tw_history.history[\"mean_squared_error\"], label = \"training error\")\n",
        "plt.plot(rd_tw_history.history[\"val_mean_squared_error\"], label = \"validation error\")\n",
        "plt.xlabel('Number of Epoch')\n",
        "plt.ylabel('Mean Squared Error')\n",
        "plt.title('Training and Validation Result')\n",
        "plt.legend()"
      ],
      "execution_count": null,
      "outputs": [
        {
          "output_type": "execute_result",
          "data": {
            "text/plain": [
              "<matplotlib.legend.Legend at 0x7f3dcf5b7490>"
            ]
          },
          "metadata": {
            "tags": []
          },
          "execution_count": 62
        },
        {
          "output_type": "display_data",
          "data": {
            "image/png": "[encoded data removed]",
            "text/plain": [
              "<Figure size 432x288 with 1 Axes>"
            ]
          },
          "metadata": {
            "tags": [],
            "needs_background": "light"
          }
        }
      ]
    },
    {
      "cell_type": "markdown",
      "metadata": {
        "id": "eSvtd1CZomyi"
      },
      "source": [
        "The Reddit-Twitter model seems to converge and works well."
      ]
    },
    {
      "cell_type": "markdown",
      "metadata": {
        "id": "86wtB1ks7qZi"
      },
      "source": [
        "## Model 2: One-day and Two-day Previous Reddits Analysis\n",
        "\n",
        "This model takes predictors as:\n",
        "\n",
        "- returns in the past 5 days\n",
        "- reddit comments from 1 day ago\n",
        "- reddit comments from 2 days ago\n",
        "\n",
        "We want to visualize the model performance."
      ]
    },
    {
      "cell_type": "markdown",
      "metadata": {
        "id": "JYkSBq82zktN"
      },
      "source": [
        "### Data Preparation"
      ]
    },
    {
      "cell_type": "code",
      "metadata": {
        "id": "AAvYiCXvUM-7"
      },
      "source": [
        "def reddit_tensorflow_dataset(ticker, begin, end):\n",
        "    \"\"\"\n",
        "    Prepare for Reddit-Only Combined Tensorflow Dataset.\n",
        "\n",
        "    Input\n",
        "    --------\n",
        "    ticker: string, the stock ticker\n",
        "    begin: dt.datetime object, the beginning of the time period\n",
        "    end: dt.datetime object, the end of the time period\n",
        "\n",
        "    Output\n",
        "    --------\n",
        "    data: Tensorflow dataset\n",
        "        - predictors: reddit comments for one day and two day before\n",
        "                      previous five days returns\n",
        "        - target: the return of the current day\n",
        "    \"\"\"\n",
        "    reddits = reddits_input(ticker, begin, end)\n",
        "    returns = return_input(ticker, begin, end)\n",
        "    \n",
        "    dates = returns[\"Date\"].tolist()\n",
        "    reddits = select_trade_days(reddits, dates)\n",
        "    \n",
        "    stopwords_list = stopwords.words(\"english\")  # a list of stopwords in english\n",
        "    reddits[\"Reddits 1 Days Before\"] = remove_stopwords(reddits, \"Reddits 1 Days Before\", stopwords_list)\n",
        "    reddits[\"Reddits 2 Days Before\"] = remove_stopwords(reddits, \"Reddits 2 Days Before\", stopwords_list)\n",
        "\n",
        "    df = pd.merge(returns, reddits)\n",
        "    columns = [\"Return \" + str(i) + \" Days Before\" for i in range(1,6)]\n",
        "    \n",
        "    data = tf.data.Dataset.from_tensor_slices(\n",
        "        (\n",
        "            {\n",
        "                \"Reddits_1\" : df[[\"Reddits 1 Days Before\"]], \n",
        "                \"Reddits_2\" : df[[\"Reddits 2 Days Before\"]], \n",
        "                \"Previous_Returns\": df[columns]\n",
        "            }, \n",
        "            {\n",
        "                \"Returns\" : df[[\"Return\"]]\n",
        "            }\n",
        "        )\n",
        "    )\n",
        "\n",
        "    return data"
      ],
      "execution_count": null,
      "outputs": []
    },
    {
      "cell_type": "code",
      "metadata": {
        "id": "tyziblc_UNBz"
      },
      "source": [
        "# retrieve all data from 2021/03/01 to 2021/04/30 for analyzation\n",
        "reddit_data = reddit_tensorflow_dataset(\"AAPL\", dt.datetime(2021,3,1), dt.datetime(2021,4,30))\n",
        "train, val = train_test_split(reddit_data)"
      ],
      "execution_count": null,
      "outputs": []
    },
    {
      "cell_type": "code",
      "metadata": {
        "id": "34d7w3cBbvYH"
      },
      "source": [
        "vectorize_layer = TextVectorization(\n",
        "    standardize=standardization,\n",
        "    max_tokens=size_vocabulary, # only consider this many words\n",
        "    output_mode='int',\n",
        "    output_sequence_length=500) \n",
        "\n",
        "vectorize_layer.adapt(train.map(lambda x, y: x[\"Reddits_1\"]))\n",
        "vectorize_layer.adapt(train.map(lambda x, y: x[\"Reddits_2\"]))"
      ],
      "execution_count": null,
      "outputs": []
    },
    {
      "cell_type": "markdown",
      "metadata": {
        "id": "buRsO9J-zn6b"
      },
      "source": [
        "### Model Construction"
      ]
    },
    {
      "cell_type": "code",
      "metadata": {
        "id": "lOHAKqkqb2mp"
      },
      "source": [
        "rd_input_1 = keras.Input(\n",
        "    shape = (1,), \n",
        "    name = \"Reddits_1\",\n",
        "    dtype = \"string\"\n",
        ")\n",
        "\n",
        "rd_input_2 = keras.Input(\n",
        "    shape = (1,), \n",
        "    name = \"Reddits_2\",\n",
        "    dtype = \"string\"\n",
        ")\n",
        "\n",
        "re_input = keras.Input(\n",
        "    shape = (5,), \n",
        "    name = \"Previous_Returns\",\n",
        "    dtype = \"float64\"\n",
        ")"
      ],
      "execution_count": null,
      "outputs": []
    },
    {
      "cell_type": "code",
      "metadata": {
        "id": "ysCXiGdFb7xI"
      },
      "source": [
        "embedding_layer = layers.Embedding(input_dim = size_vocabulary, output_dim = 10)\n",
        "\n",
        "# vectorize title texts into tensor containing data\n",
        "rd_features1 = vectorize_layer(rd_input_1)\n",
        "# Turns positive integers (indexes) into dense vectors of fixed size\n",
        "rd_features1 = embedding_layer(rd_features1)\n",
        "# Applies Dropout to the input to avoid overfitting\n",
        "rd_features1 = layers.Dropout(rate = 0.2)(rd_features1)\n",
        "# pooling To reduce variance, reduce computation complexity\n",
        "rd_features1 = layers.GlobalAveragePooling1D()(rd_features1)\n",
        "# Applies Dropout to the input to avoid overfitting\n",
        "rd_features1 = layers.Dropout(rate = 0.2)(rd_features1)\n",
        "# add a dense layer\n",
        "rd_features1 = layers.Dense(32, activation = \"relu\", name = \"rd_dense1\")(rd_features1)\n",
        "\n",
        "# vectorize title texts into tensor containing data\n",
        "rd_features2 = vectorize_layer(rd_input_2)\n",
        "# Turns positive integers (indexes) into dense vectors of fixed size\n",
        "rd_features2 = embedding_layer(rd_features2)\n",
        "# Applies Dropout to the input to avoid overfitting\n",
        "rd_features2 = layers.Dropout(rate = 0.2)(rd_features2)\n",
        "# pooling To reduce variance, reduce computation complexity\n",
        "rd_features2 = layers.GlobalAveragePooling1D()(rd_features2)\n",
        "# Applies Dropout to the input to avoid overfitting\n",
        "rd_features2 = layers.Dropout(rate = 0.2)(rd_features2)\n",
        "# add a dense layer\n",
        "rd_features2 = layers.Dense(32, activation = \"relu\", name = \"tw_dense2\")(rd_features2)\n",
        "\n",
        "rd_features = layers.concatenate([rd_features1, rd_features2], axis = 1)\n",
        "rd_features = layers.Dense(32, activation='relu')(rd_features)\n",
        "\n",
        "re_features = layers.Dense(32, activation='relu')(tf.reshape(re_input, [-1, 5]))\n",
        "re_features = layers.Dense(16, activation='relu')(re_features)\n",
        "\n",
        "# concatenate and create output\n",
        "main = layers.concatenate([rd_features1, rd_features2, re_features], axis = 1)\n",
        "main = layers.Dense(32, activation='relu')(main)\n",
        "output = layers.Dense(1, name = \"Returns\")(main)"
      ],
      "execution_count": null,
      "outputs": []
    },
    {
      "cell_type": "code",
      "metadata": {
        "id": "uOwZfbXvb7zm"
      },
      "source": [
        "rd_model = keras.Model(\n",
        "    inputs = [rd_input_1, rd_input_2, re_input],\n",
        "    outputs = output\n",
        ")"
      ],
      "execution_count": null,
      "outputs": []
    },
    {
      "cell_type": "code",
      "metadata": {
        "colab": {
          "base_uri": "https://localhost:8080/"
        },
        "id": "EaIbbvsob72Z",
        "outputId": "618ce41d-ba7b-458c-864c-35f33d01e8e2"
      },
      "source": [
        "rd_model.summary()"
      ],
      "execution_count": null,
      "outputs": [
        {
          "output_type": "stream",
          "text": [
            "Model: \"model_2\"\n",
            "__________________________________________________________________________________________________\n",
            "Layer (type)                    Output Shape         Param #     Connected to                     \n",
            "==================================================================================================\n",
            "Reddits_1 (InputLayer)          [(None, 1)]          0                                            \n",
            "__________________________________________________________________________________________________\n",
            "Reddits_2 (InputLayer)          [(None, 1)]          0                                            \n",
            "__________________________________________________________________________________________________\n",
            "text_vectorization_2 (TextVecto (None, 500)          0           Reddits_1[0][0]                  \n",
            "                                                                 Reddits_2[0][0]                  \n",
            "__________________________________________________________________________________________________\n",
            "embedding_2 (Embedding)         (None, 500, 10)      20000       text_vectorization_2[0][0]       \n",
            "                                                                 text_vectorization_2[1][0]       \n",
            "__________________________________________________________________________________________________\n",
            "dropout_8 (Dropout)             (None, 500, 10)      0           embedding_2[0][0]                \n",
            "__________________________________________________________________________________________________\n",
            "dropout_10 (Dropout)            (None, 500, 10)      0           embedding_2[1][0]                \n",
            "__________________________________________________________________________________________________\n",
            "Previous_Returns (InputLayer)   [(None, 5)]          0                                            \n",
            "__________________________________________________________________________________________________\n",
            "global_average_pooling1d_4 (Glo (None, 10)           0           dropout_8[0][0]                  \n",
            "__________________________________________________________________________________________________\n",
            "global_average_pooling1d_5 (Glo (None, 10)           0           dropout_10[0][0]                 \n",
            "__________________________________________________________________________________________________\n",
            "tf.reshape_2 (TFOpLambda)       (None, 5)            0           Previous_Returns[0][0]           \n",
            "__________________________________________________________________________________________________\n",
            "dropout_9 (Dropout)             (None, 10)           0           global_average_pooling1d_4[0][0] \n",
            "__________________________________________________________________________________________________\n",
            "dropout_11 (Dropout)            (None, 10)           0           global_average_pooling1d_5[0][0] \n",
            "__________________________________________________________________________________________________\n",
            "dense_9 (Dense)                 (None, 32)           192         tf.reshape_2[0][0]               \n",
            "__________________________________________________________________________________________________\n",
            "rd_dense1 (Dense)               (None, 32)           352         dropout_9[0][0]                  \n",
            "__________________________________________________________________________________________________\n",
            "tw_dense2 (Dense)               (None, 32)           352         dropout_11[0][0]                 \n",
            "__________________________________________________________________________________________________\n",
            "dense_10 (Dense)                (None, 16)           528         dense_9[0][0]                    \n",
            "__________________________________________________________________________________________________\n",
            "concatenate_5 (Concatenate)     (None, 80)           0           rd_dense1[0][0]                  \n",
            "                                                                 tw_dense2[0][0]                  \n",
            "                                                                 dense_10[0][0]                   \n",
            "__________________________________________________________________________________________________\n",
            "dense_11 (Dense)                (None, 32)           2592        concatenate_5[0][0]              \n",
            "__________________________________________________________________________________________________\n",
            "Returns (Dense)                 (None, 1)            33          dense_11[0][0]                   \n",
            "==================================================================================================\n",
            "Total params: 24,049\n",
            "Trainable params: 24,049\n",
            "Non-trainable params: 0\n",
            "__________________________________________________________________________________________________\n"
          ],
          "name": "stdout"
        }
      ]
    },
    {
      "cell_type": "markdown",
      "metadata": {
        "id": "tb2-pF1mzrLH"
      },
      "source": [
        "### Model Result"
      ]
    },
    {
      "cell_type": "code",
      "metadata": {
        "id": "woA6LL_rb74k"
      },
      "source": [
        "#complie\n",
        "rd_model.compile(optimizer = \"adam\",\n",
        "              loss = losses.MeanSquaredError(),\n",
        "              metrics = keras.metrics.MeanSquaredError()\n",
        ")\n",
        "\n",
        "# train\n",
        "rd_history = rd_model.fit(train, \n",
        "                    validation_data=val,\n",
        "                    epochs = 30, \n",
        "                    verbose = False)"
      ],
      "execution_count": null,
      "outputs": []
    },
    {
      "cell_type": "code",
      "metadata": {
        "colab": {
          "base_uri": "https://localhost:8080/",
          "height": 312
        },
        "id": "TDif8XK0b77M",
        "outputId": "9fcac9ef-ff03-4134-a833-895a0c6b422f"
      },
      "source": [
        "plt.plot(rd_history.history[\"mean_squared_error\"], label = \"training error\")\n",
        "plt.plot(rd_history.history[\"val_mean_squared_error\"], label = \"validation error\")\n",
        "plt.xlabel('Number of Epoch')\n",
        "plt.ylabel('Mean Squared Error')\n",
        "plt.title('Training and Validation Result')\n",
        "plt.legend()"
      ],
      "execution_count": null,
      "outputs": [
        {
          "output_type": "execute_result",
          "data": {
            "text/plain": [
              "<matplotlib.legend.Legend at 0x7f3dc6999110>"
            ]
          },
          "metadata": {
            "tags": []
          },
          "execution_count": 78
        },
        {
          "output_type": "display_data",
          "data": {
            "image/png": "[encoded data removed]",
            "text/plain": [
              "<Figure size 432x288 with 1 Axes>"
            ]
          },
          "metadata": {
            "tags": [],
            "needs_background": "light"
          }
        }
      ]
    },
    {
      "cell_type": "markdown",
      "metadata": {
        "id": "JN9BSsPIoxkt"
      },
      "source": [
        "The Reddit-only model has very unstable, fluctuating validation errors. Moreover, it has higher training errors and validation errors compared to models that incorporate Tweet data. "
      ]
    },
    {
      "cell_type": "markdown",
      "metadata": {
        "id": "wb6WybuXUNQv"
      },
      "source": [
        "## Model 3: One-day and Two-day Previous Twitters Analysis\n",
        "\n",
        "This model takes predictors as:\n",
        "\n",
        "- returns in the past 5 days\n",
        "- twitter comments from 1 day ago\n",
        "- twitter comments from 2 days ago\n",
        "\n",
        "We want to visualize the model performance."
      ]
    },
    {
      "cell_type": "markdown",
      "metadata": {
        "id": "WenOrMsMzKyg"
      },
      "source": [
        "### Data Preparation"
      ]
    },
    {
      "cell_type": "code",
      "metadata": {
        "id": "5YDjbutcbkTn"
      },
      "source": [
        "def twitter_tensorflow_dataset(ticker, begin, end):\n",
        "\n",
        "    \"\"\"\n",
        "    Prepare for Reddit-Only Combined Tensorflow Dataset.\n",
        "\n",
        "    Input\n",
        "    --------\n",
        "    ticker: string, the stock ticker\n",
        "    begin: dt.datetime object, the beginning of the time period\n",
        "    end: dt.datetime object, the end of the time period\n",
        "\n",
        "    Output\n",
        "    --------\n",
        "    data: Tensorflow dataset\n",
        "        - predictors: tweets for one day and two day before\n",
        "                      previous five days returns\n",
        "        - target: the return of the current day\n",
        "    \"\"\"\n",
        "\n",
        "    tweets = tweets_input(ticker, begin, end)\n",
        "    returns = return_input(ticker, begin, end)\n",
        "    \n",
        "    dates = returns[\"Date\"].tolist()\n",
        "    tweets = select_trade_days(tweets, dates)\n",
        "    \n",
        "    stopwords_list = stopwords.words(\"english\")  # a list of stopwords in english\n",
        "    tweets[\"Tweets 1 Days Before\"] = remove_stopwords(tweets, \"Tweets 1 Days Before\", stopwords_list)\n",
        "    tweets[\"Tweets 2 Days Before\"] = remove_stopwords(tweets, \"Tweets 2 Days Before\", stopwords_list)\n",
        "\n",
        "    df = pd.merge(returns, tweets)\n",
        "    columns = [\"Return \" + str(i) + \" Days Before\" for i in range(1,6)]\n",
        "    \n",
        "    data = tf.data.Dataset.from_tensor_slices(\n",
        "        (\n",
        "            {\n",
        "                \"Tweets_1\" : df[[\"Tweets 1 Days Before\"]], \n",
        "                \"Tweets_2\" : df[[\"Tweets 2 Days Before\"]], \n",
        "                \"Previous_Returns\": df[columns]\n",
        "            }, \n",
        "            {\n",
        "                \"Returns\" : df[[\"Return\"]]\n",
        "            }\n",
        "        )\n",
        "    )\n",
        "\n",
        "    return data"
      ],
      "execution_count": null,
      "outputs": []
    },
    {
      "cell_type": "code",
      "metadata": {
        "id": "i9wSkMf15txG"
      },
      "source": [
        "# retrieve all data from 2021/03/01 to 2021/04/30 for analyzation\n",
        "twitter_data = twitter_tensorflow_dataset(\"AAPL\", dt.datetime(2021,3,1), dt.datetime(2021,4,30))\n",
        "train, val = train_test_split(twitter_data)"
      ],
      "execution_count": null,
      "outputs": []
    },
    {
      "cell_type": "code",
      "metadata": {
        "id": "NItU9LkybofE"
      },
      "source": [
        "# text vectorization\n",
        "size_vocabulary = 2000\n",
        "\n",
        "vectorize_layer = TextVectorization(\n",
        "    standardize=standardization,\n",
        "    max_tokens=size_vocabulary, # only consider this many words\n",
        "    output_mode='int',\n",
        "    output_sequence_length=500) \n",
        "\n",
        "vectorize_layer.adapt(train.map(lambda x, y: x[\"Tweets_1\"]))\n",
        "vectorize_layer.adapt(train.map(lambda x, y: x[\"Tweets_2\"]))"
      ],
      "execution_count": null,
      "outputs": []
    },
    {
      "cell_type": "markdown",
      "metadata": {
        "id": "KDFAw6WPzbNi"
      },
      "source": [
        "### Model Construction"
      ]
    },
    {
      "cell_type": "code",
      "metadata": {
        "id": "I7rBy1CJ5Xk6"
      },
      "source": [
        "tw_input_1 = keras.Input(\n",
        "    shape = (1,), \n",
        "    name = \"Tweets_1\",\n",
        "    dtype = \"string\"\n",
        ")\n",
        "\n",
        "tw_input_2 = keras.Input(\n",
        "    shape = (1,), \n",
        "    name = \"Tweets_2\",\n",
        "    dtype = \"string\"\n",
        ")\n",
        "\n",
        "re_input = keras.Input(\n",
        "    shape = (5,), \n",
        "    name = \"Previous_Returns\",\n",
        "    dtype = \"float64\"\n",
        ")"
      ],
      "execution_count": null,
      "outputs": []
    },
    {
      "cell_type": "code",
      "metadata": {
        "id": "F5Om164B6pz-"
      },
      "source": [
        "embedding_layer = layers.Embedding(input_dim = size_vocabulary, output_dim = 10)\n",
        "\n",
        "# vectorize title texts into tensor containing data\n",
        "tw_features1 = vectorize_layer(tw_input_1)\n",
        "# Turns positive integers (indexes) into dense vectors of fixed size\n",
        "tw_features1 = embedding_layer(tw_features1)\n",
        "# Applies Dropout to the input to avoid overfitting\n",
        "tw_features1 = layers.Dropout(rate = 0.2)(tw_features1)\n",
        "# pooling To reduce variance, reduce computation complexity\n",
        "tw_features1 = layers.GlobalAveragePooling1D()(tw_features1)\n",
        "# Applies Dropout to the input to avoid overfitting\n",
        "tw_features1 = layers.Dropout(rate = 0.2)(tw_features1)\n",
        "# add a dense layer\n",
        "tw_features1 = layers.Dense(32, activation = \"relu\", name = \"tw_dense1\")(tw_features1)\n",
        "\n",
        "# vectorize title texts into tensor containing data\n",
        "tw_features2 = vectorize_layer(tw_input_2)\n",
        "# Turns positive integers (indexes) into dense vectors of fixed size\n",
        "tw_features2 = embedding_layer(tw_features2)\n",
        "# Applies Dropout to the input to avoid overfitting\n",
        "tw_features2 = layers.Dropout(rate = 0.2)(tw_features2)\n",
        "# pooling To reduce variance, reduce computation complexity\n",
        "tw_features2 = layers.GlobalAveragePooling1D()(tw_features2)\n",
        "# Applies Dropout to the input to avoid overfitting\n",
        "tw_features2 = layers.Dropout(rate = 0.2)(tw_features2)\n",
        "# add a dense layer\n",
        "tw_features2 = layers.Dense(32, activation = \"relu\", name = \"tw_dense2\")(tw_features2)\n",
        "\n",
        "tw_features = layers.concatenate([tw_features1, tw_features2], axis = 1)\n",
        "tw_features = layers.Dense(32, activation='relu')(tw_features)\n",
        "\n",
        "\n",
        "re_features = layers.Dense(32, activation='relu')(tf.reshape(re_input, [-1, 5]))\n",
        "re_features = layers.Dense(16, activation='relu')(re_features)\n",
        "\n",
        "# concatenate and create output\n",
        "main = layers.concatenate([tw_features1, tw_features2, re_features], axis = 1)\n",
        "main = layers.Dense(32, activation='relu')(main)\n",
        "output = layers.Dense(1, name = \"Returns\")(main)"
      ],
      "execution_count": null,
      "outputs": []
    },
    {
      "cell_type": "code",
      "metadata": {
        "id": "yaelL-jJ6qKN"
      },
      "source": [
        "tw_model = keras.Model(\n",
        "    inputs = [tw_input_1, tw_input_2, re_input],\n",
        "    outputs = output\n",
        ")"
      ],
      "execution_count": null,
      "outputs": []
    },
    {
      "cell_type": "code",
      "metadata": {
        "colab": {
          "base_uri": "https://localhost:8080/"
        },
        "id": "NSxHQERL6rhY",
        "outputId": "747a0b8e-469a-4611-b6a7-b5667b7fe8f2"
      },
      "source": [
        "tw_model.summary()"
      ],
      "execution_count": null,
      "outputs": [
        {
          "output_type": "stream",
          "text": [
            "Model: \"model_4\"\n",
            "__________________________________________________________________________________________________\n",
            "Layer (type)                    Output Shape         Param #     Connected to                     \n",
            "==================================================================================================\n",
            "Tweets_1 (InputLayer)           [(None, 1)]          0                                            \n",
            "__________________________________________________________________________________________________\n",
            "Tweets_2 (InputLayer)           [(None, 1)]          0                                            \n",
            "__________________________________________________________________________________________________\n",
            "text_vectorization_4 (TextVecto (None, 500)          0           Tweets_1[0][0]                   \n",
            "                                                                 Tweets_2[0][0]                   \n",
            "__________________________________________________________________________________________________\n",
            "embedding_4 (Embedding)         (None, 500, 10)      20000       text_vectorization_4[0][0]       \n",
            "                                                                 text_vectorization_4[1][0]       \n",
            "__________________________________________________________________________________________________\n",
            "dropout_16 (Dropout)            (None, 500, 10)      0           embedding_4[0][0]                \n",
            "__________________________________________________________________________________________________\n",
            "dropout_18 (Dropout)            (None, 500, 10)      0           embedding_4[1][0]                \n",
            "__________________________________________________________________________________________________\n",
            "Previous_Returns (InputLayer)   [(None, 5)]          0                                            \n",
            "__________________________________________________________________________________________________\n",
            "global_average_pooling1d_8 (Glo (None, 10)           0           dropout_16[0][0]                 \n",
            "__________________________________________________________________________________________________\n",
            "global_average_pooling1d_9 (Glo (None, 10)           0           dropout_18[0][0]                 \n",
            "__________________________________________________________________________________________________\n",
            "tf.reshape_4 (TFOpLambda)       (None, 5)            0           Previous_Returns[0][0]           \n",
            "__________________________________________________________________________________________________\n",
            "dropout_17 (Dropout)            (None, 10)           0           global_average_pooling1d_8[0][0] \n",
            "__________________________________________________________________________________________________\n",
            "dropout_19 (Dropout)            (None, 10)           0           global_average_pooling1d_9[0][0] \n",
            "__________________________________________________________________________________________________\n",
            "dense_17 (Dense)                (None, 32)           192         tf.reshape_4[0][0]               \n",
            "__________________________________________________________________________________________________\n",
            "tw_dense1 (Dense)               (None, 32)           352         dropout_17[0][0]                 \n",
            "__________________________________________________________________________________________________\n",
            "tw_dense2 (Dense)               (None, 32)           352         dropout_19[0][0]                 \n",
            "__________________________________________________________________________________________________\n",
            "dense_18 (Dense)                (None, 16)           528         dense_17[0][0]                   \n",
            "__________________________________________________________________________________________________\n",
            "concatenate_9 (Concatenate)     (None, 80)           0           tw_dense1[0][0]                  \n",
            "                                                                 tw_dense2[0][0]                  \n",
            "                                                                 dense_18[0][0]                   \n",
            "__________________________________________________________________________________________________\n",
            "dense_19 (Dense)                (None, 32)           2592        concatenate_9[0][0]              \n",
            "__________________________________________________________________________________________________\n",
            "Returns (Dense)                 (None, 1)            33          dense_19[0][0]                   \n",
            "==================================================================================================\n",
            "Total params: 24,049\n",
            "Trainable params: 24,049\n",
            "Non-trainable params: 0\n",
            "__________________________________________________________________________________________________\n"
          ],
          "name": "stdout"
        }
      ]
    },
    {
      "cell_type": "markdown",
      "metadata": {
        "id": "NCbKhXAXzhBR"
      },
      "source": [
        "### Model Result"
      ]
    },
    {
      "cell_type": "code",
      "metadata": {
        "id": "E3DXO1zW6t13"
      },
      "source": [
        "#complie\n",
        "tw_model.compile(optimizer = \"adam\",\n",
        "              loss = losses.MeanSquaredError(),\n",
        "              metrics = keras.metrics.MeanSquaredError()\n",
        ")\n",
        "\n",
        "# train\n",
        "tw_history = tw_model.fit(train, \n",
        "                    validation_data=val,\n",
        "                    epochs = 30, \n",
        "                    verbose = False)"
      ],
      "execution_count": null,
      "outputs": []
    },
    {
      "cell_type": "code",
      "metadata": {
        "colab": {
          "base_uri": "https://localhost:8080/",
          "height": 312
        },
        "id": "tJm5j5MO6vnh",
        "outputId": "27146e74-7fa0-463b-d322-e87a9148f179"
      },
      "source": [
        "plt.plot(tw_history.history[\"mean_squared_error\"], label = \"training error\")\n",
        "plt.plot(tw_history.history[\"val_mean_squared_error\"], label = \"validation error\")\n",
        "plt.xlabel('Number of Epoch')\n",
        "plt.ylabel('Mean Squared Error')\n",
        "plt.title('Training and Validation Result')\n",
        "plt.legend()"
      ],
      "execution_count": null,
      "outputs": [
        {
          "output_type": "execute_result",
          "data": {
            "text/plain": [
              "<matplotlib.legend.Legend at 0x7f3dc8bddd50>"
            ]
          },
          "metadata": {
            "tags": []
          },
          "execution_count": 98
        },
        {
          "output_type": "display_data",
          "data": {
            "image/png": "[encoded data removed]",
            "text/plain": [
              "<Figure size 432x288 with 1 Axes>"
            ]
          },
          "metadata": {
            "tags": [],
            "needs_background": "light"
          }
        }
      ]
    },
    {
      "cell_type": "markdown",
      "metadata": {
        "id": "06PIV0KGpgN6"
      },
      "source": [
        "The Twitter-only model outperforms the Reddit-only model and the Reddit-Twitter model, with faster convergence and less fluctuation in errors. "
      ]
    },
    {
      "cell_type": "markdown",
      "metadata": {
        "id": "hA6gzsgokURc"
      },
      "source": [
        "## General Result Comparison: Model 1 - 3"
      ]
    },
    {
      "cell_type": "markdown",
      "metadata": {
        "id": "fBf18LFE9ThH"
      },
      "source": [
        "### Validation MSE Comparison"
      ]
    },
    {
      "cell_type": "markdown",
      "metadata": {
        "id": "UsceRrnRnNI1"
      },
      "source": [
        "In order to do model comparison, we use the validation MSE as the determining index of the model accuracy."
      ]
    },
    {
      "cell_type": "code",
      "metadata": {
        "id": "ZiaEtZ1c6yfb"
      },
      "source": [
        "# retrieve validation mean squared error of reddit-twitter model (Ver 1)\n",
        "rd_tw_val = rd_tw_history.history[\"val_mean_squared_error\"]\n",
        "# retrieve validation mean squared error of reddit-only model (Ver 2)\n",
        "rd_12_val = rd_history.history[\"val_mean_squared_error\"]\n",
        "# retrieve validation mean squared error of twitter-only model (Ver 3)\n",
        "tw_12_val = tw_history.history[\"val_mean_squared_error\"]"
      ],
      "execution_count": null,
      "outputs": []
    },
    {
      "cell_type": "code",
      "metadata": {
        "colab": {
          "base_uri": "https://localhost:8080/",
          "height": 312
        },
        "id": "jY0JwZEKkTJD",
        "outputId": "95533c9f-8549-4b0a-9a01-61f4b0a357a0"
      },
      "source": [
        "plt.plot(rd_tw_val, label = \"Rd-Tw Model\")\n",
        "plt.plot(rd_12_val, label = \"Rd-only Model\")\n",
        "plt.plot(tw_12_val, label = \"Tw-only Model\")\n",
        "plt.xlabel('Number of Epoch')\n",
        "plt.ylabel('Mean Squared Error')\n",
        "plt.title('Validation MSE Result Comparison')\n",
        "plt.legend()"
      ],
      "execution_count": null,
      "outputs": [
        {
          "output_type": "execute_result",
          "data": {
            "text/plain": [
              "<matplotlib.legend.Legend at 0x7f3dc1eaac50>"
            ]
          },
          "metadata": {
            "tags": []
          },
          "execution_count": 107
        },
        {
          "output_type": "display_data",
          "data": {
            "image/png": "[encoded data removed]",
            "text/plain": [
              "<Figure size 432x288 with 1 Axes>"
            ]
          },
          "metadata": {
            "tags": [],
            "needs_background": "light"
          }
        }
      ]
    },
    {
      "cell_type": "markdown",
      "metadata": {
        "id": "r3cbtxyRmDqK"
      },
      "source": [
        "**The result shows that after 10 epochs, the Reddit-Twitter and Twitter-only models are both somehow stablized compared to the Redit-only model. Therefore, we first exclude the Reddit-only model for consideration.**\n",
        "\n",
        "**From the further comparison, the MSE is more stable for the Twitter-only model compared to the Reddit-Twitter model. To further confirm this finding clearly, we'll try to plot the MSE volatility for the two models. For simplicity and better visualization, use only the values after 10 epochs.**"
      ]
    },
    {
      "cell_type": "markdown",
      "metadata": {
        "id": "oY6jIkDW9XRT"
      },
      "source": [
        "### Validation MSE Volatility"
      ]
    },
    {
      "cell_type": "code",
      "metadata": {
        "id": "xQTwcinCm8Bc"
      },
      "source": [
        "# 1. for reddit-twitter model, calculate MSE volatility\n",
        "# use only epochs after 10\n",
        "rd_tw_val = rd_tw_val[10:]\n",
        "# create list recording volatility\n",
        "rd_tw_vol = []\n",
        "for i in np.arange(len(rd_tw_val) - 1):\n",
        "    volatility = rd_tw_val[i+1] - rd_tw_val[i]\n",
        "    rd_tw_vol.append(volatility)\n",
        "\n",
        "# 2. for twitter-only model, calculate MSE volatility\n",
        "# use only epochs after 10\n",
        "tw_12_val = tw_12_val[10:]\n",
        "# create list recording volatility\n",
        "tw_12_vol = []\n",
        "for i in np.arange(len(tw_12_val) - 1):\n",
        "    volatility = tw_12_val[i+1] - tw_12_val[i]\n",
        "    tw_12_vol.append(volatility)"
      ],
      "execution_count": null,
      "outputs": []
    },
    {
      "cell_type": "code",
      "metadata": {
        "colab": {
          "base_uri": "https://localhost:8080/",
          "height": 312
        },
        "id": "BWpHfvconvuP",
        "outputId": "8bec5b3d-40bd-46e3-a098-10f377f9e5e0"
      },
      "source": [
        "plt.plot(rd_tw_vol, label = \"Rd-Tw Model\")\n",
        "plt.plot(tw_12_vol, label = \"Tw-only Model\")\n",
        "plt.plot(np.zeros(len(rd_tw_vol)), \".\")\n",
        "plt.xlabel('Number of Epoch after 10')\n",
        "plt.ylabel('Mean Squared Error')\n",
        "plt.title('Validation MSE Volatility Comparison')\n",
        "plt.legend()"
      ],
      "execution_count": null,
      "outputs": [
        {
          "output_type": "execute_result",
          "data": {
            "text/plain": [
              "<matplotlib.legend.Legend at 0x7f3dc15fbd90>"
            ]
          },
          "metadata": {
            "tags": []
          },
          "execution_count": 124
        },
        {
          "output_type": "display_data",
          "data": {
            "image/png": "[encoded data removed]",
            "text/plain": [
              "<Figure size 432x288 with 1 Axes>"
            ]
          },
          "metadata": {
            "tags": [],
            "needs_background": "light"
          }
        }
      ]
    },
    {
      "cell_type": "markdown",
      "metadata": {
        "id": "yW0bRUvWqukP"
      },
      "source": [
        "**The result shows that the volatility has a in general more stablized validation MSE for twitter-only model than reddit-twitter model, especially after 20 epochs.**\n",
        "\n",
        "**Therefore, considering the fact that the MSE is reduced to a low level, and has stablized volatility, we decide to exclude Reddit data in out final model.**"
      ]
    },
    {
      "cell_type": "markdown",
      "metadata": {
        "id": "8bGnTvZHiEI3"
      },
      "source": [
        "## More Insights: How Trading Info Affects Here? (Discussion on Tiprank)\n",
        "\n",
        "From the above models we've found that the two-day twitter model is the best model for predicting daily return so far. However, as commonly observed, daily trading information should affects the behaviour of daily return, and thus is also an important factor to be considered.\n",
        "\n",
        "Tipranks is a website that contains basic stock analysts records. We are trying to find out whether there are any analytic records that could be used to gather trading information."
      ]
    },
    {
      "cell_type": "markdown",
      "metadata": {
        "id": "V5hd389eaAtR"
      },
      "source": [
        "### Retrieve Data from Tiprank"
      ]
    },
    {
      "cell_type": "markdown",
      "metadata": {
        "id": "3lOHboX64nKE"
      },
      "source": [
        "First, make some preparation functions.\n",
        "\n",
        "- downloadFile function basically download the contents in the webpage from url directly."
      ]
    },
    {
      "cell_type": "code",
      "metadata": {
        "id": "xfrf7Hf7ZZDW"
      },
      "source": [
        "def downloadFile(URL=None):\n",
        "    \"\"\"\n",
        "    this function inputs an url and return the downloaded\n",
        "    contents in the webpage as bytes typed output.\n",
        "    \"\"\"\n",
        "    # import httplib2\n",
        "    h = httplib2.Http(\".cache\")\n",
        "    resp, content = h.request(URL, \"GET\")\n",
        "\n",
        "    return content"
      ],
      "execution_count": null,
      "outputs": []
    },
    {
      "cell_type": "markdown",
      "metadata": {
        "id": "YRzY1M288Z8P"
      },
      "source": [
        "Now comes to the second prep function:\n",
        "\n",
        "Inside the tipranks website, there are direct webpages that stores all required market sentiments in the form similar to output of .js fles. For more reference on the form of javascript outputs, see the reference package [Tipranks.com API](https://github.com/janlukasschroeder/tipranks-api-v2).\n",
        "\n",
        "The three example outputs are also posted as follows:\n",
        "\n",
        "1.   [Ticker Specified Price Targets Info ('MU' here)](https://www.tipranks.com/api/stocks/getData/?name=MU)\n",
        "2.   [Ticker Specified News Sentiments Info ('MU' here)](https://www.tipranks.com/api/stocks/getNewsSentiments/?ticker=MU)\n",
        "3.   [Trending Stocks of a Specific Past Period (30 days here)](https://www.tipranks.com/api/stocks/gettrendingstocks/?daysago=30&which=most)\n",
        "\n",
        "From the above urls, can see that the file contained inside is actually as versions of javascript outputs.\n",
        "\n",
        "Therefore, write a function to decode bytes typed output provided in prep func 1, and then use json library to convert json typed output into python dict."
      ]
    },
    {
      "cell_type": "code",
      "metadata": {
        "id": "Ia25_NsChwfZ"
      },
      "source": [
        "def store_js_as_dict(url):\n",
        "    \"\"\"\n",
        "    This function stores the json information inside the url webpage\n",
        "    as a dict containing all informations of the json output\n",
        "  \n",
        "    Input\n",
        "    --------\n",
        "    url: the url with json contents inside it\n",
        "  \n",
        "    Output\n",
        "    --------\n",
        "    y: the desired dict containing all sentiments in the json file\n",
        "    \"\"\"\n",
        "    x = downloadFile(url)\n",
        "    x_json = x.decode()\n",
        "    y = json.loads(x_json)\n",
        "\n",
        "    return y"
      ],
      "execution_count": null,
      "outputs": []
    },
    {
      "cell_type": "markdown",
      "metadata": {
        "id": "EM54JctM8bLZ"
      },
      "source": [
        "Now comes to the third preparation function.\n",
        "\n",
        "Note: this function is only used for main function 1.\n",
        "\n",
        "This function create and output a dict to store all information of a user-specified stock ticker from the Tiplink website."
      ]
    },
    {
      "cell_type": "code",
      "metadata": {
        "id": "E8VM3oP6ibJw"
      },
      "source": [
        "def ticker_tiprank_dict(ticker):\n",
        "    \"\"\"\n",
        "    this function outputs all needed sentiments (news sentiments\n",
        "    and price targets) of the company of the given stock ticker\n",
        "\n",
        "    Input\n",
        "    --------\n",
        "    ticker: stock ticker of the targeting company\n",
        "  \n",
        "    Output\n",
        "    --------\n",
        "    d: the dict containing all needed sentiments\n",
        "      - keys: getNewsSentiments, getPriceTarget\n",
        "      - value of each key: news sentiments / price target of ticker\n",
        "    \"\"\"\n",
        "    news_sentiments_url = \"https://www.tipranks.com/api/stocks/getNewsSentiments/?ticker=\"+ticker\n",
        "    price_target_url = \"https://www.tipranks.com/api/stocks/getData/?name=\"+ticker\n",
        "\n",
        "    sentiment_dict = store_js_as_dict(news_sentiments_url)\n",
        "    price_dict = store_js_as_dict(price_target_url)\n",
        "    d = {\"getNewsSentiments\": sentiment_dict, \"getPriceTarget\": price_dict}\n",
        "    \n",
        "    return d"
      ],
      "execution_count": null,
      "outputs": []
    },
    {
      "cell_type": "markdown",
      "metadata": {
        "id": "nGQTBG3nm9Lg"
      },
      "source": [
        "#### Main Function 1: Tiprank Sentiments\n",
        "\n",
        "This function requires an input argument of a list of ticker symbols, so the function can retrieve sentiment data and price data of all these stocks.\n",
        "\n",
        "It returns a dictionary, with keys being each ticker symbol and values being a dictionary containing both news sentiment data and price data. Thus, these inner dictionaries have keys \"getNewsSentiments\" and \"getPriceTarget\", and their values are just data stored in inner-inner dictionaries. \n",
        "\n",
        "\n",
        "The news sentiment data include data such as buzz, sentiment, sector, and sector average bullish percent...... The price target data include data such as prices and yearly dividend......\n",
        "\n",
        "\n",
        "**Level-I dict**   \n",
        "**keys**: tickers  \n",
        "**values**: Level-II dict  \n",
        "\n",
        "**Level-II dict**  \n",
        "**keys**: \"getNewsSentiments\", \"getPriceTarget\"  \n",
        "**corresponding values**: Level-III dict 1, Level-III dict 2  \n",
        "\n",
        "**Level-III dict 1**  \n",
        "**keys**: \"ticker\", \"companyName\", \"buzz\", \"sentiment\", ...  \n",
        "\n",
        "**Level-III dict 2**  \n",
        "**keys**: \"ticker\", \"prices\", \"consensuses\", \"yearlyDividendYield\", ...  "
      ]
    },
    {
      "cell_type": "code",
      "metadata": {
        "id": "YNlJcCr9mg9k"
      },
      "source": [
        "def tiprank_dict(input_tickers):\n",
        "    \"\"\"\n",
        "    This function receives a list of targeting tickers as inputs,\n",
        "    and returns a dict of dicts containing all needed information\n",
        "    of all stock tickers provided by the user, with keys as each\n",
        "    ticker, storing all sentimental information of the ticker.\n",
        "  \n",
        "    Input\n",
        "    --------\n",
        "    input_tickers: a list of targeting stock tickers\n",
        "\n",
        "    Output\n",
        "    --------\n",
        "    d: a dict containing all sentimental information of all tickers\n",
        "      - keys: input stock tickers\n",
        "      - value of each key: ticker_tiprank_dict(key)\n",
        "    \"\"\"\n",
        "    d = {}\n",
        "    for ticker in input_tickers:\n",
        "        d[ticker] = ticker_tiprank_dict(ticker)\n",
        "\n",
        "    return d"
      ],
      "execution_count": null,
      "outputs": []
    },
    {
      "cell_type": "markdown",
      "metadata": {
        "id": "Hxv1nRmqzq89"
      },
      "source": [
        "Here are some sample outputs of this function:"
      ]
    },
    {
      "cell_type": "markdown",
      "metadata": {
        "id": "QNx50QQpzu27"
      },
      "source": [
        "Structure of Output: **{ stockTicker: { ‘getNewsSentiments’: a dictionary of news sentiment data, ‘getPriceTarget’: a dictionary of price target data } }**"
      ]
    },
    {
      "cell_type": "code",
      "metadata": {
        "id": "tMQizHOuwMfm"
      },
      "source": [
        "# get data for the stocks listed below\n",
        "example_input = ['AAPL', 'MSFT', 'F', 'CRM', 'AMGN', 'TSLA', 'ARKK', 'AMD']\n",
        "tiprank_example = tiprank_dict(example_input)"
      ],
      "execution_count": null,
      "outputs": []
    },
    {
      "cell_type": "code",
      "metadata": {
        "colab": {
          "base_uri": "https://localhost:8080/"
        },
        "id": "mwo5Q3ODwngW",
        "outputId": "b5f6c036-2e9c-4657-9868-6bcae708c581"
      },
      "source": [
        "# structure of the dictionary returned from tiprank_dict() with example_input\n",
        "[(key, type(tiprank_example[key])) for key in tiprank_example.keys()][1:7]  # first 6 keys and their values"
      ],
      "execution_count": null,
      "outputs": [
        {
          "output_type": "execute_result",
          "data": {
            "text/plain": [
              "[('MSFT', dict),\n",
              " ('F', dict),\n",
              " ('CRM', dict),\n",
              " ('AMGN', dict),\n",
              " ('TSLA', dict),\n",
              " ('ARKK', dict)]"
            ]
          },
          "metadata": {
            "tags": []
          },
          "execution_count": 203
        }
      ]
    },
    {
      "cell_type": "code",
      "metadata": {
        "colab": {
          "base_uri": "https://localhost:8080/"
        },
        "id": "559-9ui9w6Xy",
        "outputId": "c09da2b9-6e33-4ca1-9dcc-7b38e69525e2"
      },
      "source": [
        "# structure of inner dictionaries for each target stock \n",
        "[(key, type(tiprank_example[\"AAPL\"][key])) for key in tiprank_example[\"AAPL\"].keys()]"
      ],
      "execution_count": null,
      "outputs": [
        {
          "output_type": "execute_result",
          "data": {
            "text/plain": [
              "[('getNewsSentiments', dict), ('getPriceTarget', dict)]"
            ]
          },
          "metadata": {
            "tags": []
          },
          "execution_count": 204
        }
      ]
    },
    {
      "cell_type": "code",
      "metadata": {
        "colab": {
          "base_uri": "https://localhost:8080/"
        },
        "id": "efZM9lXPyJAB",
        "outputId": "6e6fe63d-f1f3-4a5a-d4d9-8798aae2b4ef"
      },
      "source": [
        "# structure of inner inner dictionaries for news sentiment for one target stock \n",
        "[(key, type(tiprank_example[\"AAPL\"][\"getNewsSentiments\"][key])) for key in tiprank_example[\"AAPL\"][\"getNewsSentiments\"].keys()]"
      ],
      "execution_count": null,
      "outputs": [
        {
          "output_type": "execute_result",
          "data": {
            "text/plain": [
              "[('ticker', str),\n",
              " ('companyName', str),\n",
              " ('buzz', dict),\n",
              " ('sentiment', dict),\n",
              " ('sector', list),\n",
              " ('sectorAverageBullishPercent', float),\n",
              " ('score', float),\n",
              " ('wordCloud', list),\n",
              " ('counts', list),\n",
              " ('sectorId', int),\n",
              " ('creationDate', str),\n",
              " ('sectorAverageNewsScore', float)]"
            ]
          },
          "metadata": {
            "tags": []
          },
          "execution_count": 205
        }
      ]
    },
    {
      "cell_type": "code",
      "metadata": {
        "colab": {
          "base_uri": "https://localhost:8080/"
        },
        "id": "XyXKtSKVyTW6",
        "outputId": "3334b34a-9d9c-4475-a5a3-9059c9efcf23"
      },
      "source": [
        "# structure of inner inner dictionaries for price for one target stock \n",
        "[(key, type(tiprank_example[\"AAPL\"][\"getPriceTarget\"][key])) for key in tiprank_example[\"AAPL\"][\"getPriceTarget\"].keys()]"
      ],
      "execution_count": null,
      "outputs": [
        {
          "output_type": "execute_result",
          "data": {
            "text/plain": [
              "[('ticker', str),\n",
              " ('companyName', str),\n",
              " ('companyFullName', str),\n",
              " ('stockUid', str),\n",
              " ('sectorID', int),\n",
              " ('market', str),\n",
              " ('description', str),\n",
              " ('hasEarnings', bool),\n",
              " ('hasDividends', bool),\n",
              " ('prices', list),\n",
              " ('consensuses', list),\n",
              " ('experts', list),\n",
              " ('ptConsensus', list),\n",
              " ('similarStocks', list),\n",
              " ('insiderTrading', NoneType),\n",
              " ('numOfAnalysts', int),\n",
              " ('numOfBloggers', int),\n",
              " ('numOfExperts', int),\n",
              " ('marketCap', int),\n",
              " ('tipranksStockScore', dict),\n",
              " ('expertRatingsFilteredCount', int),\n",
              " ('consensusOverTime', list),\n",
              " ('bestConsensusOverTime', list),\n",
              " ('latestRankedConsensus', dict),\n",
              " ('bpBloggers', dict),\n",
              " ('bloggerArticleDistribution', list),\n",
              " ('bloggerSentiment', dict),\n",
              " ('corporateInsiderTransactions', list),\n",
              " ('corporateInsiderActivity', dict),\n",
              " ('insiders', list),\n",
              " ('insidrConfidenceSignal', NoneType),\n",
              " ('notRankedExperts', list),\n",
              " ('notRankedConsensuses', NoneType),\n",
              " ('topStocksBySector', dict),\n",
              " ('indexStockId', int),\n",
              " ('numOfInsiders', int),\n",
              " ('yearlyDividendYield', float),\n",
              " ('yearlyDividend', float),\n",
              " ('insiderslast3MonthsSum', float),\n",
              " ('insidersLast3MonthsSumCurrencyTypeID', int),\n",
              " ('hedgeFundData', dict),\n",
              " ('stockId', int),\n",
              " ('followerCount', int),\n",
              " ('momentum', dict),\n",
              " ('portfolioHoldingData', dict),\n",
              " ('stockCurrencyTypeID', int),\n",
              " ('marketCountryId', int),\n",
              " ('marketCountry', int),\n",
              " ('isPrimaryStock', bool),\n",
              " ('primaryStock', NoneType),\n",
              " ('isomic', str),\n",
              " ('stockListingId', int),\n",
              " ('supportAddToPortfolio', bool),\n",
              " ('companyData', dict)]"
            ]
          },
          "metadata": {
            "tags": []
          },
          "execution_count": 206
        }
      ]
    },
    {
      "cell_type": "markdown",
      "metadata": {
        "id": "xUTF7PnGo96k"
      },
      "source": [
        "#### Main Function 2: Trending Stocks\n",
        "\n",
        "This function requires an input argument of a positive integer that represents time range (days from today), so the function can retrive data of stocks that sell best in this time range. \n",
        "\n",
        "It returns a multi-level dictionary, with keys being the ticker symbols of stocks and their corresponding valus being dictionaries. These inner dictionaries contain data such as shares, company names, consensus scores, holds, and many other features about their respective stocks.\n",
        "\n",
        "\n",
        "**Level-I dict**   \n",
        "**keys**: tickers  \n",
        "**values**: Level-II dict  \n",
        "\n",
        "**Level-II dict**  \n",
        "**keys**: \"buy\", \"companyName\", \"consensusScore\", \"popularity\", ...  \n",
        "\n"
      ]
    },
    {
      "cell_type": "code",
      "metadata": {
        "id": "w1oq8pX6mldA"
      },
      "source": [
        "def trending_stocks(days):\n",
        "    \"\"\"\n",
        "    This function receives the number of days to retrieve back for\n",
        "    finding trending stocks, and returns a dict, with keys representing\n",
        "    all trending stocks in the past \"days\" number of days, and values\n",
        "    representing all needed information of each ticker as a dict.\n",
        "\n",
        "    Input\n",
        "    --------\n",
        "    days: total number of days to retrieve back\n",
        "  \n",
        "    Output\n",
        "    --------\n",
        "    d: a dict containing all needed information of all trending stocks\n",
        "      - keys: all trending stocks' stock tickers\n",
        "      - value of each key: basic sentiments of the ticker\n",
        "    \"\"\"\n",
        "    url = \"https://www.tipranks.com/api/stocks/gettrendingstocks/?daysago=\"+ str(days) +\"&which=most\"\n",
        "    stocks = store_js_as_dict(url)\n",
        "    d = {}\n",
        "\n",
        "    for company in stocks:\n",
        "        d[company[\"ticker\"]] = company\n",
        "        \n",
        "    return d"
      ],
      "execution_count": null,
      "outputs": []
    },
    {
      "cell_type": "markdown",
      "metadata": {
        "id": "tMVBBzn1muq-"
      },
      "source": [
        "- Sample Outputs"
      ]
    },
    {
      "cell_type": "markdown",
      "metadata": {
        "id": "UHbQ9ZIMzo2J"
      },
      "source": [
        "Structure of Output: **{ stockTicker: { ‘buy’: …, ‘companyName’: …, ‘consensusScore”: …, ……, ‘stockId’: …, ‘ticker’: … } }**"
      ]
    },
    {
      "cell_type": "code",
      "metadata": {
        "id": "U7cPAB67mtwo"
      },
      "source": [
        "# data for trending stocks in 30 days\n",
        "trending_30 = trending_stocks(30)  "
      ],
      "execution_count": null,
      "outputs": []
    },
    {
      "cell_type": "code",
      "metadata": {
        "colab": {
          "base_uri": "https://localhost:8080/"
        },
        "id": "d1gs9VDLs6kb",
        "outputId": "dd1358c7-e750-46d8-f074-3eca06480629"
      },
      "source": [
        "# structure of the dictionary returned from trending_stocks()\n",
        "[(key, type(trending_30[key])) for key in trending_30.keys()][1:7]  # first 6 keys and their values"
      ],
      "execution_count": null,
      "outputs": [
        {
          "output_type": "execute_result",
          "data": {
            "text/plain": [
              "[('SPLK', dict),\n",
              " ('CRM', dict),\n",
              " ('BIIB', dict),\n",
              " ('NVDA', dict),\n",
              " ('MRVL', dict),\n",
              " ('PATH', dict)]"
            ]
          },
          "metadata": {
            "tags": []
          },
          "execution_count": 209
        }
      ]
    },
    {
      "cell_type": "code",
      "metadata": {
        "colab": {
          "base_uri": "https://localhost:8080/"
        },
        "id": "njT9zY3DtSk9",
        "outputId": "2f845be0-e5ac-4b28-ef74-6e46c46193f4"
      },
      "source": [
        "# structure of inner dictionaries for each trending stock\n",
        "[(key, trending_30[\"AAPL\"][key]) for key in trending_30[\"AAPL\"].keys()]  "
      ],
      "execution_count": null,
      "outputs": [
        {
          "output_type": "execute_result",
          "data": {
            "text/plain": [
              "[('ticker', 'AAPL'),\n",
              " ('popularity', 16),\n",
              " ('sentiment', 7),\n",
              " ('consensusScore', 2.125),\n",
              " ('operations', None),\n",
              " ('sector', 'TECHNOLOGY'),\n",
              " ('sectorID', 17349),\n",
              " ('marketCap', 2114990352940),\n",
              " ('buy', 9),\n",
              " ('sell', 2),\n",
              " ('hold', 5),\n",
              " ('priceTarget', 157.58),\n",
              " ('stockCurrencyTypeID', 1),\n",
              " ('rating', 4),\n",
              " ('companyName', 'Apple'),\n",
              " ('quarterlyTrend', 4),\n",
              " ('lastRatingDate', '2021-06-08T00:00:00'),\n",
              " ('marketCountryId', 1),\n",
              " ('stockId', 7624)]"
            ]
          },
          "metadata": {
            "tags": []
          },
          "execution_count": 210
        }
      ]
    },
    {
      "cell_type": "markdown",
      "metadata": {
        "id": "nt82Xmi-_-6V"
      },
      "source": [
        "### Useful Informations\n",
        "\n",
        "From the observed tiprank dicts, we've observed that there exists basic weekly trading information. Below is an example of Apple's weekly trading information retrieved from tiprank:\n",
        "\n"
      ]
    },
    {
      "cell_type": "code",
      "metadata": {
        "id": "ErPIGlMJbw5z",
        "colab": {
          "base_uri": "https://localhost:8080/"
        },
        "outputId": "9c8e8c24-c6ea-414b-e41a-e60c0022d17c"
      },
      "source": [
        "ticker_tiprank_dict('AAPL')['getNewsSentiments']['counts']"
      ],
      "execution_count": null,
      "outputs": [
        {
          "output_type": "execute_result",
          "data": {
            "text/plain": [
              "[{'all': 202,\n",
              "  'buy': 16,\n",
              "  'neutral': 180,\n",
              "  'sell': 6,\n",
              "  'weekStart': '2021-06-06T00:00:00'},\n",
              " {'all': 193,\n",
              "  'buy': 17,\n",
              "  'neutral': 174,\n",
              "  'sell': 2,\n",
              "  'weekStart': '2021-05-30T00:00:00'},\n",
              " {'all': 230,\n",
              "  'buy': 15,\n",
              "  'neutral': 206,\n",
              "  'sell': 9,\n",
              "  'weekStart': '2021-05-23T00:00:00'},\n",
              " {'all': 298,\n",
              "  'buy': 29,\n",
              "  'neutral': 264,\n",
              "  'sell': 5,\n",
              "  'weekStart': '2021-05-16T00:00:00'},\n",
              " {'all': 249,\n",
              "  'buy': 16,\n",
              "  'neutral': 219,\n",
              "  'sell': 14,\n",
              "  'weekStart': '2021-05-09T00:00:00'},\n",
              " {'all': 277,\n",
              "  'buy': 22,\n",
              "  'neutral': 241,\n",
              "  'sell': 14,\n",
              "  'weekStart': '2021-05-02T00:00:00'},\n",
              " {'all': 533,\n",
              "  'buy': 67,\n",
              "  'neutral': 447,\n",
              "  'sell': 19,\n",
              "  'weekStart': '2021-04-25T00:00:00'},\n",
              " {'all': 324,\n",
              "  'buy': 31,\n",
              "  'neutral': 284,\n",
              "  'sell': 9,\n",
              "  'weekStart': '2021-04-18T00:00:00'},\n",
              " {'all': 266,\n",
              "  'buy': 18,\n",
              "  'neutral': 239,\n",
              "  'sell': 9,\n",
              "  'weekStart': '2021-04-11T00:00:00'},\n",
              " {'all': 242,\n",
              "  'buy': 19,\n",
              "  'neutral': 208,\n",
              "  'sell': 15,\n",
              "  'weekStart': '2021-04-04T00:00:00'},\n",
              " {'all': 257,\n",
              "  'buy': 38,\n",
              "  'neutral': 208,\n",
              "  'sell': 11,\n",
              "  'weekStart': '2021-03-28T00:00:00'},\n",
              " {'all': 241,\n",
              "  'buy': 23,\n",
              "  'neutral': 210,\n",
              "  'sell': 8,\n",
              "  'weekStart': '2021-03-21T00:00:00'},\n",
              " {'all': 326,\n",
              "  'buy': 27,\n",
              "  'neutral': 285,\n",
              "  'sell': 14,\n",
              "  'weekStart': '2021-03-14T00:00:00'},\n",
              " {'all': 321,\n",
              "  'buy': 23,\n",
              "  'neutral': 293,\n",
              "  'sell': 5,\n",
              "  'weekStart': '2021-03-07T00:00:00'},\n",
              " {'all': 249,\n",
              "  'buy': 16,\n",
              "  'neutral': 215,\n",
              "  'sell': 18,\n",
              "  'weekStart': '2021-02-28T00:00:00'},\n",
              " {'all': 291,\n",
              "  'buy': 30,\n",
              "  'neutral': 248,\n",
              "  'sell': 13,\n",
              "  'weekStart': '2021-02-21T00:00:00'},\n",
              " {'all': 229,\n",
              "  'buy': 19,\n",
              "  'neutral': 198,\n",
              "  'sell': 12,\n",
              "  'weekStart': '2021-02-14T00:00:00'},\n",
              " {'all': 246,\n",
              "  'buy': 27,\n",
              "  'neutral': 216,\n",
              "  'sell': 3,\n",
              "  'weekStart': '2021-02-07T00:00:00'},\n",
              " {'all': 296,\n",
              "  'buy': 26,\n",
              "  'neutral': 263,\n",
              "  'sell': 7,\n",
              "  'weekStart': '2021-01-31T00:00:00'},\n",
              " {'all': 394,\n",
              "  'buy': 53,\n",
              "  'neutral': 320,\n",
              "  'sell': 21,\n",
              "  'weekStart': '2021-01-24T00:00:00'},\n",
              " {'all': 235,\n",
              "  'buy': 22,\n",
              "  'neutral': 208,\n",
              "  'sell': 5,\n",
              "  'weekStart': '2021-01-17T00:00:00'},\n",
              " {'all': 316,\n",
              "  'buy': 26,\n",
              "  'neutral': 274,\n",
              "  'sell': 16,\n",
              "  'weekStart': '2021-01-10T00:00:00'}]"
            ]
          },
          "metadata": {
            "tags": []
          },
          "execution_count": 135
        }
      ]
    },
    {
      "cell_type": "markdown",
      "metadata": {
        "id": "qGob12tIAfQA"
      },
      "source": [
        "Based on theories, the trading information can be very useful among all. However, due to the lack of flexibility, this only contains **trading information on a weekly basis**, which means that **when coming to analysis on a daily basis, the data is probably not that effective**.\n",
        "\n",
        "To find out whether this weekly trading information is useful in returns prediction, we also build a model on historical returns, trading information, and tweets. It turns out that the result does not improve. **Therefore, we conclude that the two-day daily twitter model is the most effective model for predicting volatilities.**"
      ]
    },
    {
      "cell_type": "markdown",
      "metadata": {
        "id": "hr-arI6JabYc"
      },
      "source": [
        "#### Prepare Tiprank Dataset"
      ]
    },
    {
      "cell_type": "code",
      "metadata": {
        "id": "80KgQ0MrC8Sa"
      },
      "source": [
        "def get_trade_amount(ticker):\n",
        "  \"\"\"\n",
        "  for specified ticker, retrieve basic trading information from tiprank\n",
        "\n",
        "  Input\n",
        "  --------\n",
        "  ticker: string, ticker name input by user\n",
        "\n",
        "  Output\n",
        "  --------\n",
        "  a dataframe specifying the trade info\n",
        "  \"\"\"\n",
        "  # get trading info\n",
        "  trade_info = ticker_tiprank_dict(ticker)['getNewsSentiments']['counts']\n",
        "  trade_dict = {\"all\":[], \n",
        "        \"buy\":[],\n",
        "        \"neutral\":[],\n",
        "        \"sell\":[],\n",
        "        \"weekStart\":[]}\n",
        "  for d in trade_info:\n",
        "    trade_dict[\"all\"].append(d['all'])\n",
        "    trade_dict[\"buy\"].append(d['buy'])\n",
        "    trade_dict[\"neutral\"].append(d['neutral'])\n",
        "    trade_dict[\"sell\"].append(d['sell'])\n",
        "    trade_dict[\"weekStart\"].append(d['weekStart'][0:10])\n",
        "  return pd.DataFrame(trade_dict)"
      ],
      "execution_count": null,
      "outputs": []
    },
    {
      "cell_type": "code",
      "metadata": {
        "id": "9rfWFkD6C9h4"
      },
      "source": [
        "trading_data = get_trade_amount(\"AAPL\")"
      ],
      "execution_count": null,
      "outputs": []
    },
    {
      "cell_type": "code",
      "metadata": {
        "colab": {
          "base_uri": "https://localhost:8080/",
          "height": 731
        },
        "id": "9rppe2p4I6NE",
        "outputId": "4451fe67-8064-4344-d2c4-97cfc535b84b"
      },
      "source": [
        "trading_data"
      ],
      "execution_count": null,
      "outputs": [
        {
          "output_type": "execute_result",
          "data": {
            "text/html": [
              "<div>\n",
              "<style scoped>\n",
              "    .dataframe tbody tr th:only-of-type {\n",
              "        vertical-align: middle;\n",
              "    }\n",
              "\n",
              "    .dataframe tbody tr th {\n",
              "        vertical-align: top;\n",
              "    }\n",
              "\n",
              "    .dataframe thead th {\n",
              "        text-align: right;\n",
              "    }\n",
              "</style>\n",
              "<table border=\"1\" class=\"dataframe\">\n",
              "  <thead>\n",
              "    <tr style=\"text-align: right;\">\n",
              "      <th></th>\n",
              "      <th>all</th>\n",
              "      <th>buy</th>\n",
              "      <th>neutral</th>\n",
              "      <th>sell</th>\n",
              "      <th>weekStart</th>\n",
              "    </tr>\n",
              "  </thead>\n",
              "  <tbody>\n",
              "    <tr>\n",
              "      <th>0</th>\n",
              "      <td>202</td>\n",
              "      <td>16</td>\n",
              "      <td>180</td>\n",
              "      <td>6</td>\n",
              "      <td>2021-06-06</td>\n",
              "    </tr>\n",
              "    <tr>\n",
              "      <th>1</th>\n",
              "      <td>193</td>\n",
              "      <td>17</td>\n",
              "      <td>174</td>\n",
              "      <td>2</td>\n",
              "      <td>2021-05-30</td>\n",
              "    </tr>\n",
              "    <tr>\n",
              "      <th>2</th>\n",
              "      <td>230</td>\n",
              "      <td>15</td>\n",
              "      <td>206</td>\n",
              "      <td>9</td>\n",
              "      <td>2021-05-23</td>\n",
              "    </tr>\n",
              "    <tr>\n",
              "      <th>3</th>\n",
              "      <td>298</td>\n",
              "      <td>29</td>\n",
              "      <td>264</td>\n",
              "      <td>5</td>\n",
              "      <td>2021-05-16</td>\n",
              "    </tr>\n",
              "    <tr>\n",
              "      <th>4</th>\n",
              "      <td>249</td>\n",
              "      <td>16</td>\n",
              "      <td>219</td>\n",
              "      <td>14</td>\n",
              "      <td>2021-05-09</td>\n",
              "    </tr>\n",
              "    <tr>\n",
              "      <th>5</th>\n",
              "      <td>277</td>\n",
              "      <td>22</td>\n",
              "      <td>241</td>\n",
              "      <td>14</td>\n",
              "      <td>2021-05-02</td>\n",
              "    </tr>\n",
              "    <tr>\n",
              "      <th>6</th>\n",
              "      <td>533</td>\n",
              "      <td>67</td>\n",
              "      <td>447</td>\n",
              "      <td>19</td>\n",
              "      <td>2021-04-25</td>\n",
              "    </tr>\n",
              "    <tr>\n",
              "      <th>7</th>\n",
              "      <td>324</td>\n",
              "      <td>31</td>\n",
              "      <td>284</td>\n",
              "      <td>9</td>\n",
              "      <td>2021-04-18</td>\n",
              "    </tr>\n",
              "    <tr>\n",
              "      <th>8</th>\n",
              "      <td>266</td>\n",
              "      <td>18</td>\n",
              "      <td>239</td>\n",
              "      <td>9</td>\n",
              "      <td>2021-04-11</td>\n",
              "    </tr>\n",
              "    <tr>\n",
              "      <th>9</th>\n",
              "      <td>242</td>\n",
              "      <td>19</td>\n",
              "      <td>208</td>\n",
              "      <td>15</td>\n",
              "      <td>2021-04-04</td>\n",
              "    </tr>\n",
              "    <tr>\n",
              "      <th>10</th>\n",
              "      <td>257</td>\n",
              "      <td>38</td>\n",
              "      <td>208</td>\n",
              "      <td>11</td>\n",
              "      <td>2021-03-28</td>\n",
              "    </tr>\n",
              "    <tr>\n",
              "      <th>11</th>\n",
              "      <td>241</td>\n",
              "      <td>23</td>\n",
              "      <td>210</td>\n",
              "      <td>8</td>\n",
              "      <td>2021-03-21</td>\n",
              "    </tr>\n",
              "    <tr>\n",
              "      <th>12</th>\n",
              "      <td>326</td>\n",
              "      <td>27</td>\n",
              "      <td>285</td>\n",
              "      <td>14</td>\n",
              "      <td>2021-03-14</td>\n",
              "    </tr>\n",
              "    <tr>\n",
              "      <th>13</th>\n",
              "      <td>321</td>\n",
              "      <td>23</td>\n",
              "      <td>293</td>\n",
              "      <td>5</td>\n",
              "      <td>2021-03-07</td>\n",
              "    </tr>\n",
              "    <tr>\n",
              "      <th>14</th>\n",
              "      <td>249</td>\n",
              "      <td>16</td>\n",
              "      <td>215</td>\n",
              "      <td>18</td>\n",
              "      <td>2021-02-28</td>\n",
              "    </tr>\n",
              "    <tr>\n",
              "      <th>15</th>\n",
              "      <td>291</td>\n",
              "      <td>30</td>\n",
              "      <td>248</td>\n",
              "      <td>13</td>\n",
              "      <td>2021-02-21</td>\n",
              "    </tr>\n",
              "    <tr>\n",
              "      <th>16</th>\n",
              "      <td>229</td>\n",
              "      <td>19</td>\n",
              "      <td>198</td>\n",
              "      <td>12</td>\n",
              "      <td>2021-02-14</td>\n",
              "    </tr>\n",
              "    <tr>\n",
              "      <th>17</th>\n",
              "      <td>246</td>\n",
              "      <td>27</td>\n",
              "      <td>216</td>\n",
              "      <td>3</td>\n",
              "      <td>2021-02-07</td>\n",
              "    </tr>\n",
              "    <tr>\n",
              "      <th>18</th>\n",
              "      <td>296</td>\n",
              "      <td>26</td>\n",
              "      <td>263</td>\n",
              "      <td>7</td>\n",
              "      <td>2021-01-31</td>\n",
              "    </tr>\n",
              "    <tr>\n",
              "      <th>19</th>\n",
              "      <td>394</td>\n",
              "      <td>53</td>\n",
              "      <td>320</td>\n",
              "      <td>21</td>\n",
              "      <td>2021-01-24</td>\n",
              "    </tr>\n",
              "    <tr>\n",
              "      <th>20</th>\n",
              "      <td>235</td>\n",
              "      <td>22</td>\n",
              "      <td>208</td>\n",
              "      <td>5</td>\n",
              "      <td>2021-01-17</td>\n",
              "    </tr>\n",
              "    <tr>\n",
              "      <th>21</th>\n",
              "      <td>316</td>\n",
              "      <td>26</td>\n",
              "      <td>274</td>\n",
              "      <td>16</td>\n",
              "      <td>2021-01-10</td>\n",
              "    </tr>\n",
              "  </tbody>\n",
              "</table>\n",
              "</div>"
            ],
            "text/plain": [
              "    all  buy  neutral  sell  weekStart\n",
              "0   202   16      180     6 2021-06-06\n",
              "1   193   17      174     2 2021-05-30\n",
              "2   230   15      206     9 2021-05-23\n",
              "3   298   29      264     5 2021-05-16\n",
              "4   249   16      219    14 2021-05-09\n",
              "5   277   22      241    14 2021-05-02\n",
              "6   533   67      447    19 2021-04-25\n",
              "7   324   31      284     9 2021-04-18\n",
              "8   266   18      239     9 2021-04-11\n",
              "9   242   19      208    15 2021-04-04\n",
              "10  257   38      208    11 2021-03-28\n",
              "11  241   23      210     8 2021-03-21\n",
              "12  326   27      285    14 2021-03-14\n",
              "13  321   23      293     5 2021-03-07\n",
              "14  249   16      215    18 2021-02-28\n",
              "15  291   30      248    13 2021-02-21\n",
              "16  229   19      198    12 2021-02-14\n",
              "17  246   27      216     3 2021-02-07\n",
              "18  296   26      263     7 2021-01-31\n",
              "19  394   53      320    21 2021-01-24\n",
              "20  235   22      208     5 2021-01-17\n",
              "21  316   26      274    16 2021-01-10"
            ]
          },
          "metadata": {
            "tags": []
          },
          "execution_count": 211
        }
      ]
    },
    {
      "cell_type": "code",
      "metadata": {
        "id": "Qz0qKxhPtyB7"
      },
      "source": [
        "def tiprank_input(ticker, begin, end):\n",
        "    '''\n",
        "    create a dataframe with each row entry represents\n",
        "    tiprank information of each day within the begin and end\n",
        "    date time periods.\n",
        "\n",
        "    Input\n",
        "    --------\n",
        "    tickers: a ticker the user want to retrieve returns for\n",
        "    begin: dt.datetime object, the beginning of the time period\n",
        "    end: dt.datetime object, the end of the time period\n",
        "    \n",
        "    Output\n",
        "    --------\n",
        "    A dataframe containing the date, ticker of of tiprank trades,\n",
        "    as well as number of buy, neutral, sells in the week of \"date\".\n",
        "    '''\n",
        "\n",
        "    # four keys needed for the prep dict\n",
        "    tiprank_input = {\"Date\":[],\n",
        "                   \"Ticker\":[],\n",
        "                   \"Buy\": [],\n",
        "                   \"Neutral\": [],\n",
        "                   \"Sell\": []}\n",
        "    # get trading information first\n",
        "    trades = get_trade_amount(ticker)\n",
        "    # transfer date to datetime for further comparison\n",
        "    trades['weekStart'] = trades['weekStart'].apply(lambda x: \n",
        "                            dt.datetime.strptime(x,'%Y-%m-%d'))\n",
        "    # first, define date as begin\n",
        "    date = begin\n",
        "    # loop through until reach end date\n",
        "    while(date <= end):\n",
        "      tiprank_input[\"Date\"].append(date)\n",
        "      tiprank_input[\"Ticker\"].append(ticker)\n",
        "      # find the correct index for weekStart\n",
        "      index = sum(date < trades[\"weekStart\"])\n",
        "      tiprank_input[\"Buy\"].append(trades[\"buy\"][index])\n",
        "      tiprank_input[\"Neutral\"].append(trades[\"neutral\"][index])\n",
        "      tiprank_input[\"Sell\"].append(trades[\"sell\"][index])\n",
        "      date += dt.timedelta(days = 1)\n",
        "\n",
        "    # return the dict as the desired dateframe\n",
        "    return pd.DataFrame(tiprank_input)"
      ],
      "execution_count": null,
      "outputs": []
    },
    {
      "cell_type": "markdown",
      "metadata": {
        "id": "uvV66z7NbEZB"
      },
      "source": [
        "below here is an example on how this function applies."
      ]
    },
    {
      "cell_type": "code",
      "metadata": {
        "id": "GkTGidw-GeBG"
      },
      "source": [
        "ticker = \"AAPL\"\n",
        "begin = dt.datetime(2021,3,1)\n",
        "end = dt.datetime(2021,3,30)\n",
        "\n",
        "trades = tiprank_input(ticker, begin, end)"
      ],
      "execution_count": null,
      "outputs": []
    },
    {
      "cell_type": "code",
      "metadata": {
        "colab": {
          "base_uri": "https://localhost:8080/",
          "height": 979
        },
        "id": "Kz29g_wCGn2s",
        "outputId": "af9f29f7-94b6-449a-8e15-8093e5ae05e2"
      },
      "source": [
        "trades"
      ],
      "execution_count": null,
      "outputs": [
        {
          "output_type": "execute_result",
          "data": {
            "text/html": [
              "<div>\n",
              "<style scoped>\n",
              "    .dataframe tbody tr th:only-of-type {\n",
              "        vertical-align: middle;\n",
              "    }\n",
              "\n",
              "    .dataframe tbody tr th {\n",
              "        vertical-align: top;\n",
              "    }\n",
              "\n",
              "    .dataframe thead th {\n",
              "        text-align: right;\n",
              "    }\n",
              "</style>\n",
              "<table border=\"1\" class=\"dataframe\">\n",
              "  <thead>\n",
              "    <tr style=\"text-align: right;\">\n",
              "      <th></th>\n",
              "      <th>Date</th>\n",
              "      <th>Ticker</th>\n",
              "      <th>Buy</th>\n",
              "      <th>Neutral</th>\n",
              "      <th>Sell</th>\n",
              "    </tr>\n",
              "  </thead>\n",
              "  <tbody>\n",
              "    <tr>\n",
              "      <th>0</th>\n",
              "      <td>2021-03-01</td>\n",
              "      <td>AAPL</td>\n",
              "      <td>16</td>\n",
              "      <td>215</td>\n",
              "      <td>18</td>\n",
              "    </tr>\n",
              "    <tr>\n",
              "      <th>1</th>\n",
              "      <td>2021-03-02</td>\n",
              "      <td>AAPL</td>\n",
              "      <td>16</td>\n",
              "      <td>215</td>\n",
              "      <td>18</td>\n",
              "    </tr>\n",
              "    <tr>\n",
              "      <th>2</th>\n",
              "      <td>2021-03-03</td>\n",
              "      <td>AAPL</td>\n",
              "      <td>16</td>\n",
              "      <td>215</td>\n",
              "      <td>18</td>\n",
              "    </tr>\n",
              "    <tr>\n",
              "      <th>3</th>\n",
              "      <td>2021-03-04</td>\n",
              "      <td>AAPL</td>\n",
              "      <td>16</td>\n",
              "      <td>215</td>\n",
              "      <td>18</td>\n",
              "    </tr>\n",
              "    <tr>\n",
              "      <th>4</th>\n",
              "      <td>2021-03-05</td>\n",
              "      <td>AAPL</td>\n",
              "      <td>16</td>\n",
              "      <td>215</td>\n",
              "      <td>18</td>\n",
              "    </tr>\n",
              "    <tr>\n",
              "      <th>5</th>\n",
              "      <td>2021-03-06</td>\n",
              "      <td>AAPL</td>\n",
              "      <td>16</td>\n",
              "      <td>215</td>\n",
              "      <td>18</td>\n",
              "    </tr>\n",
              "    <tr>\n",
              "      <th>6</th>\n",
              "      <td>2021-03-07</td>\n",
              "      <td>AAPL</td>\n",
              "      <td>23</td>\n",
              "      <td>293</td>\n",
              "      <td>5</td>\n",
              "    </tr>\n",
              "    <tr>\n",
              "      <th>7</th>\n",
              "      <td>2021-03-08</td>\n",
              "      <td>AAPL</td>\n",
              "      <td>23</td>\n",
              "      <td>293</td>\n",
              "      <td>5</td>\n",
              "    </tr>\n",
              "    <tr>\n",
              "      <th>8</th>\n",
              "      <td>2021-03-09</td>\n",
              "      <td>AAPL</td>\n",
              "      <td>23</td>\n",
              "      <td>293</td>\n",
              "      <td>5</td>\n",
              "    </tr>\n",
              "    <tr>\n",
              "      <th>9</th>\n",
              "      <td>2021-03-10</td>\n",
              "      <td>AAPL</td>\n",
              "      <td>23</td>\n",
              "      <td>293</td>\n",
              "      <td>5</td>\n",
              "    </tr>\n",
              "    <tr>\n",
              "      <th>10</th>\n",
              "      <td>2021-03-11</td>\n",
              "      <td>AAPL</td>\n",
              "      <td>23</td>\n",
              "      <td>293</td>\n",
              "      <td>5</td>\n",
              "    </tr>\n",
              "    <tr>\n",
              "      <th>11</th>\n",
              "      <td>2021-03-12</td>\n",
              "      <td>AAPL</td>\n",
              "      <td>23</td>\n",
              "      <td>293</td>\n",
              "      <td>5</td>\n",
              "    </tr>\n",
              "    <tr>\n",
              "      <th>12</th>\n",
              "      <td>2021-03-13</td>\n",
              "      <td>AAPL</td>\n",
              "      <td>23</td>\n",
              "      <td>293</td>\n",
              "      <td>5</td>\n",
              "    </tr>\n",
              "    <tr>\n",
              "      <th>13</th>\n",
              "      <td>2021-03-14</td>\n",
              "      <td>AAPL</td>\n",
              "      <td>27</td>\n",
              "      <td>285</td>\n",
              "      <td>14</td>\n",
              "    </tr>\n",
              "    <tr>\n",
              "      <th>14</th>\n",
              "      <td>2021-03-15</td>\n",
              "      <td>AAPL</td>\n",
              "      <td>27</td>\n",
              "      <td>285</td>\n",
              "      <td>14</td>\n",
              "    </tr>\n",
              "    <tr>\n",
              "      <th>15</th>\n",
              "      <td>2021-03-16</td>\n",
              "      <td>AAPL</td>\n",
              "      <td>27</td>\n",
              "      <td>285</td>\n",
              "      <td>14</td>\n",
              "    </tr>\n",
              "    <tr>\n",
              "      <th>16</th>\n",
              "      <td>2021-03-17</td>\n",
              "      <td>AAPL</td>\n",
              "      <td>27</td>\n",
              "      <td>285</td>\n",
              "      <td>14</td>\n",
              "    </tr>\n",
              "    <tr>\n",
              "      <th>17</th>\n",
              "      <td>2021-03-18</td>\n",
              "      <td>AAPL</td>\n",
              "      <td>27</td>\n",
              "      <td>285</td>\n",
              "      <td>14</td>\n",
              "    </tr>\n",
              "    <tr>\n",
              "      <th>18</th>\n",
              "      <td>2021-03-19</td>\n",
              "      <td>AAPL</td>\n",
              "      <td>27</td>\n",
              "      <td>285</td>\n",
              "      <td>14</td>\n",
              "    </tr>\n",
              "    <tr>\n",
              "      <th>19</th>\n",
              "      <td>2021-03-20</td>\n",
              "      <td>AAPL</td>\n",
              "      <td>27</td>\n",
              "      <td>285</td>\n",
              "      <td>14</td>\n",
              "    </tr>\n",
              "    <tr>\n",
              "      <th>20</th>\n",
              "      <td>2021-03-21</td>\n",
              "      <td>AAPL</td>\n",
              "      <td>23</td>\n",
              "      <td>210</td>\n",
              "      <td>8</td>\n",
              "    </tr>\n",
              "    <tr>\n",
              "      <th>21</th>\n",
              "      <td>2021-03-22</td>\n",
              "      <td>AAPL</td>\n",
              "      <td>23</td>\n",
              "      <td>210</td>\n",
              "      <td>8</td>\n",
              "    </tr>\n",
              "    <tr>\n",
              "      <th>22</th>\n",
              "      <td>2021-03-23</td>\n",
              "      <td>AAPL</td>\n",
              "      <td>23</td>\n",
              "      <td>210</td>\n",
              "      <td>8</td>\n",
              "    </tr>\n",
              "    <tr>\n",
              "      <th>23</th>\n",
              "      <td>2021-03-24</td>\n",
              "      <td>AAPL</td>\n",
              "      <td>23</td>\n",
              "      <td>210</td>\n",
              "      <td>8</td>\n",
              "    </tr>\n",
              "    <tr>\n",
              "      <th>24</th>\n",
              "      <td>2021-03-25</td>\n",
              "      <td>AAPL</td>\n",
              "      <td>23</td>\n",
              "      <td>210</td>\n",
              "      <td>8</td>\n",
              "    </tr>\n",
              "    <tr>\n",
              "      <th>25</th>\n",
              "      <td>2021-03-26</td>\n",
              "      <td>AAPL</td>\n",
              "      <td>23</td>\n",
              "      <td>210</td>\n",
              "      <td>8</td>\n",
              "    </tr>\n",
              "    <tr>\n",
              "      <th>26</th>\n",
              "      <td>2021-03-27</td>\n",
              "      <td>AAPL</td>\n",
              "      <td>23</td>\n",
              "      <td>210</td>\n",
              "      <td>8</td>\n",
              "    </tr>\n",
              "    <tr>\n",
              "      <th>27</th>\n",
              "      <td>2021-03-28</td>\n",
              "      <td>AAPL</td>\n",
              "      <td>38</td>\n",
              "      <td>208</td>\n",
              "      <td>11</td>\n",
              "    </tr>\n",
              "    <tr>\n",
              "      <th>28</th>\n",
              "      <td>2021-03-29</td>\n",
              "      <td>AAPL</td>\n",
              "      <td>38</td>\n",
              "      <td>208</td>\n",
              "      <td>11</td>\n",
              "    </tr>\n",
              "    <tr>\n",
              "      <th>29</th>\n",
              "      <td>2021-03-30</td>\n",
              "      <td>AAPL</td>\n",
              "      <td>38</td>\n",
              "      <td>208</td>\n",
              "      <td>11</td>\n",
              "    </tr>\n",
              "  </tbody>\n",
              "</table>\n",
              "</div>"
            ],
            "text/plain": [
              "         Date Ticker  Buy  Neutral  Sell\n",
              "0  2021-03-01   AAPL   16      215    18\n",
              "1  2021-03-02   AAPL   16      215    18\n",
              "2  2021-03-03   AAPL   16      215    18\n",
              "3  2021-03-04   AAPL   16      215    18\n",
              "4  2021-03-05   AAPL   16      215    18\n",
              "5  2021-03-06   AAPL   16      215    18\n",
              "6  2021-03-07   AAPL   23      293     5\n",
              "7  2021-03-08   AAPL   23      293     5\n",
              "8  2021-03-09   AAPL   23      293     5\n",
              "9  2021-03-10   AAPL   23      293     5\n",
              "10 2021-03-11   AAPL   23      293     5\n",
              "11 2021-03-12   AAPL   23      293     5\n",
              "12 2021-03-13   AAPL   23      293     5\n",
              "13 2021-03-14   AAPL   27      285    14\n",
              "14 2021-03-15   AAPL   27      285    14\n",
              "15 2021-03-16   AAPL   27      285    14\n",
              "16 2021-03-17   AAPL   27      285    14\n",
              "17 2021-03-18   AAPL   27      285    14\n",
              "18 2021-03-19   AAPL   27      285    14\n",
              "19 2021-03-20   AAPL   27      285    14\n",
              "20 2021-03-21   AAPL   23      210     8\n",
              "21 2021-03-22   AAPL   23      210     8\n",
              "22 2021-03-23   AAPL   23      210     8\n",
              "23 2021-03-24   AAPL   23      210     8\n",
              "24 2021-03-25   AAPL   23      210     8\n",
              "25 2021-03-26   AAPL   23      210     8\n",
              "26 2021-03-27   AAPL   23      210     8\n",
              "27 2021-03-28   AAPL   38      208    11\n",
              "28 2021-03-29   AAPL   38      208    11\n",
              "29 2021-03-30   AAPL   38      208    11"
            ]
          },
          "metadata": {
            "tags": []
          },
          "execution_count": 169
        }
      ]
    },
    {
      "cell_type": "markdown",
      "metadata": {
        "id": "TpYyaA69X3TS"
      },
      "source": [
        "### New Model with Trading Information"
      ]
    },
    {
      "cell_type": "markdown",
      "metadata": {
        "id": "C4-HEYfRMOuC"
      },
      "source": [
        "#### Data Preparation"
      ]
    },
    {
      "cell_type": "code",
      "metadata": {
        "id": "1FZsEPlpMOuC"
      },
      "source": [
        "def twitter_tiprank_tensorflow_dataset(ticker, begin, end):\n",
        "\n",
        "    \"\"\"\n",
        "    Prepare for Reddit-Only Combined Tensorflow Dataset.\n",
        "\n",
        "    Input\n",
        "    --------\n",
        "    ticker: string, the stock ticker\n",
        "    begin: dt.datetime object, the beginning of the time period\n",
        "    end: dt.datetime object, the end of the time period\n",
        "\n",
        "    Output\n",
        "    --------\n",
        "    data: Tensorflow dataset\n",
        "        - predictors: tweets for one day and two day before\n",
        "                      previous five days returns\n",
        "        - target: the return of the current day\n",
        "    \"\"\"\n",
        "\n",
        "    tweets = tweets_input(ticker, begin, end)\n",
        "    trades = tiprank_input(ticker, begin, end)\n",
        "    returns = return_input(ticker, begin, end)\n",
        "    \n",
        "    dates = returns[\"Date\"].tolist()\n",
        "    tweets = select_trade_days(tweets, dates)\n",
        "    trades = select_trade_days(trades, dates)\n",
        "    \n",
        "    stopwords_list = stopwords.words(\"english\")  # a list of stopwords in english\n",
        "    tweets[\"Tweets 1 Days Before\"] = remove_stopwords(tweets, \"Tweets 1 Days Before\", stopwords_list)\n",
        "    tweets[\"Tweets 2 Days Before\"] = remove_stopwords(tweets, \"Tweets 2 Days Before\", stopwords_list)\n",
        "\n",
        "    temp = pd.merge(returns, tweets)\n",
        "    df = pd.merge(temp, trades)\n",
        "    trade_col = [\"Buy\", \"Neutral\", \"Sell\"]\n",
        "    columns = [\"Return \" + str(i) + \" Days Before\" for i in range(1,6)]\n",
        "    \n",
        "    data = tf.data.Dataset.from_tensor_slices(\n",
        "        (\n",
        "            {\n",
        "                \"Tweets_1\" : df[[\"Tweets 1 Days Before\"]], \n",
        "                \"Tweets_2\" : df[[\"Tweets 2 Days Before\"]],\n",
        "                \"Trades\" : df[trade_col],\n",
        "                \"Previous_Returns\": df[columns]\n",
        "            }, \n",
        "            {\n",
        "                \"Returns\" : df[[\"Return\"]]\n",
        "            }\n",
        "        )\n",
        "    )\n",
        "\n",
        "    return data"
      ],
      "execution_count": null,
      "outputs": []
    },
    {
      "cell_type": "code",
      "metadata": {
        "id": "D9-TEM01MOuD"
      },
      "source": [
        "# retrieve all data from 2021/03/01 to 2021/04/30 for analyzation\n",
        "tw_tr_data = twitter_tiprank_tensorflow_dataset(\"AAPL\", dt.datetime(2021,3,1), dt.datetime(2021,4,30))\n",
        "train, val = train_test_split(tw_tr_data)"
      ],
      "execution_count": null,
      "outputs": []
    },
    {
      "cell_type": "code",
      "metadata": {
        "id": "BkZrBBIMMOuD"
      },
      "source": [
        "# text vectorization\n",
        "size_vocabulary = 2000\n",
        "\n",
        "vectorize_layer = TextVectorization(\n",
        "    standardize=standardization,\n",
        "    max_tokens=size_vocabulary, # only consider this many words\n",
        "    output_mode='int',\n",
        "    output_sequence_length=500) \n",
        "\n",
        "vectorize_layer.adapt(train.map(lambda x, y: x[\"Tweets_1\"]))\n",
        "vectorize_layer.adapt(train.map(lambda x, y: x[\"Tweets_2\"]))"
      ],
      "execution_count": null,
      "outputs": []
    },
    {
      "cell_type": "markdown",
      "metadata": {
        "id": "OH965XfNMOuD"
      },
      "source": [
        "#### Model Construction"
      ]
    },
    {
      "cell_type": "code",
      "metadata": {
        "id": "1u6sNI-_MOuD"
      },
      "source": [
        "tw_input_1 = keras.Input(\n",
        "    shape = (1,), \n",
        "    name = \"Tweets_1\",\n",
        "    dtype = \"string\"\n",
        ")\n",
        "\n",
        "tw_input_2 = keras.Input(\n",
        "    shape = (1,), \n",
        "    name = \"Tweets_2\",\n",
        "    dtype = \"string\"\n",
        ")\n",
        "\n",
        "tr_input = keras.Input(\n",
        "    shape = (1,), \n",
        "    name = \"Trades\",\n",
        "    dtype = \"float64\"\n",
        ")\n",
        "\n",
        "re_input = keras.Input(\n",
        "    shape = (5,), \n",
        "    name = \"Previous_Returns\",\n",
        "    dtype = \"float64\"\n",
        ")"
      ],
      "execution_count": null,
      "outputs": []
    },
    {
      "cell_type": "code",
      "metadata": {
        "id": "PLy8VGRjMOuE"
      },
      "source": [
        "embedding_layer = layers.Embedding(input_dim = size_vocabulary, output_dim = 10)\n",
        "\n",
        "# vectorize title texts into tensor containing data\n",
        "tw_features1 = vectorize_layer(tw_input_1)\n",
        "# Turns positive integers (indexes) into dense vectors of fixed size\n",
        "tw_features1 = embedding_layer(tw_features1)\n",
        "# Applies Dropout to the input to avoid overfitting\n",
        "tw_features1 = layers.Dropout(rate = 0.2)(tw_features1)\n",
        "# pooling To reduce variance, reduce computation complexity\n",
        "tw_features1 = layers.GlobalAveragePooling1D()(tw_features1)\n",
        "# Applies Dropout to the input to avoid overfitting\n",
        "tw_features1 = layers.Dropout(rate = 0.2)(tw_features1)\n",
        "# add a dense layer\n",
        "tw_features1 = layers.Dense(32, activation = \"relu\", name = \"tw_dense1\")(tw_features1)\n",
        "\n",
        "# vectorize title texts into tensor containing data\n",
        "tw_features2 = vectorize_layer(tw_input_2)\n",
        "# Turns positive integers (indexes) into dense vectors of fixed size\n",
        "tw_features2 = embedding_layer(tw_features2)\n",
        "# Applies Dropout to the input to avoid overfitting\n",
        "tw_features2 = layers.Dropout(rate = 0.2)(tw_features2)\n",
        "# pooling To reduce variance, reduce computation complexity\n",
        "tw_features2 = layers.GlobalAveragePooling1D()(tw_features2)\n",
        "# Applies Dropout to the input to avoid overfitting\n",
        "tw_features2 = layers.Dropout(rate = 0.2)(tw_features2)\n",
        "# add a dense layer\n",
        "tw_features2 = layers.Dense(32, activation = \"relu\", name = \"tw_dense2\")(tw_features2)\n",
        "\n",
        "# twitter features\n",
        "tw_features = layers.concatenate([tw_features1, tw_features2], axis = 1)\n",
        "tw_features = layers.Dense(32, activation='relu')(tw_features)\n",
        "\n",
        "# trading features\n",
        "tr_features = layers.Dense(32, activation='relu')(tf.reshape(tr_input, [-1, 3]))\n",
        "tr_features = layers.Dense(16, activation='relu')(tr_features)\n",
        "\n",
        "# return features\n",
        "re_features = layers.Dense(32, activation='relu')(tf.reshape(re_input, [-1, 5]))\n",
        "re_features = layers.Dense(16, activation='relu')(re_features)\n",
        "\n",
        "# concatenate and create output\n",
        "main = layers.concatenate([tw_features1, tw_features2, tr_features, re_features], axis = 1)\n",
        "main = layers.Dense(32, activation='relu')(main)\n",
        "output = layers.Dense(1, name = \"Returns\")(main)"
      ],
      "execution_count": null,
      "outputs": []
    },
    {
      "cell_type": "code",
      "metadata": {
        "id": "jjZT3pmtMOuE"
      },
      "source": [
        "tw_tr_model = keras.Model(\n",
        "    inputs = [tw_input_1, tw_input_2, tr_input, re_input],\n",
        "    outputs = output\n",
        ")"
      ],
      "execution_count": null,
      "outputs": []
    },
    {
      "cell_type": "code",
      "metadata": {
        "colab": {
          "base_uri": "https://localhost:8080/"
        },
        "id": "OgZoGb_bMOuE",
        "outputId": "723e1acf-3945-4da6-bced-6c1ce8a7750f"
      },
      "source": [
        "tw_tr_model.summary()"
      ],
      "execution_count": null,
      "outputs": [
        {
          "output_type": "stream",
          "text": [
            "Model: \"model_5\"\n",
            "__________________________________________________________________________________________________\n",
            "Layer (type)                    Output Shape         Param #     Connected to                     \n",
            "==================================================================================================\n",
            "Tweets_1 (InputLayer)           [(None, 1)]          0                                            \n",
            "__________________________________________________________________________________________________\n",
            "Tweets_2 (InputLayer)           [(None, 1)]          0                                            \n",
            "__________________________________________________________________________________________________\n",
            "text_vectorization_5 (TextVecto (None, 500)          0           Tweets_1[0][0]                   \n",
            "                                                                 Tweets_2[0][0]                   \n",
            "__________________________________________________________________________________________________\n",
            "embedding_5 (Embedding)         (None, 500, 10)      20000       text_vectorization_5[0][0]       \n",
            "                                                                 text_vectorization_5[1][0]       \n",
            "__________________________________________________________________________________________________\n",
            "dropout_20 (Dropout)            (None, 500, 10)      0           embedding_5[0][0]                \n",
            "__________________________________________________________________________________________________\n",
            "dropout_22 (Dropout)            (None, 500, 10)      0           embedding_5[1][0]                \n",
            "__________________________________________________________________________________________________\n",
            "Trades (InputLayer)             [(None, 1)]          0                                            \n",
            "__________________________________________________________________________________________________\n",
            "Previous_Returns (InputLayer)   [(None, 5)]          0                                            \n",
            "__________________________________________________________________________________________________\n",
            "global_average_pooling1d_10 (Gl (None, 10)           0           dropout_20[0][0]                 \n",
            "__________________________________________________________________________________________________\n",
            "global_average_pooling1d_11 (Gl (None, 10)           0           dropout_22[0][0]                 \n",
            "__________________________________________________________________________________________________\n",
            "tf.reshape_5 (TFOpLambda)       (None, 3)            0           Trades[0][0]                     \n",
            "__________________________________________________________________________________________________\n",
            "tf.reshape_6 (TFOpLambda)       (None, 5)            0           Previous_Returns[0][0]           \n",
            "__________________________________________________________________________________________________\n",
            "dropout_21 (Dropout)            (None, 10)           0           global_average_pooling1d_10[0][0]\n",
            "__________________________________________________________________________________________________\n",
            "dropout_23 (Dropout)            (None, 10)           0           global_average_pooling1d_11[0][0]\n",
            "__________________________________________________________________________________________________\n",
            "dense_21 (Dense)                (None, 32)           128         tf.reshape_5[0][0]               \n",
            "__________________________________________________________________________________________________\n",
            "dense_23 (Dense)                (None, 32)           192         tf.reshape_6[0][0]               \n",
            "__________________________________________________________________________________________________\n",
            "tw_dense1 (Dense)               (None, 32)           352         dropout_21[0][0]                 \n",
            "__________________________________________________________________________________________________\n",
            "tw_dense2 (Dense)               (None, 32)           352         dropout_23[0][0]                 \n",
            "__________________________________________________________________________________________________\n",
            "dense_22 (Dense)                (None, 16)           528         dense_21[0][0]                   \n",
            "__________________________________________________________________________________________________\n",
            "dense_24 (Dense)                (None, 16)           528         dense_23[0][0]                   \n",
            "__________________________________________________________________________________________________\n",
            "concatenate_11 (Concatenate)    (None, 96)           0           tw_dense1[0][0]                  \n",
            "                                                                 tw_dense2[0][0]                  \n",
            "                                                                 dense_22[0][0]                   \n",
            "                                                                 dense_24[0][0]                   \n",
            "__________________________________________________________________________________________________\n",
            "dense_25 (Dense)                (None, 32)           3104        concatenate_11[0][0]             \n",
            "__________________________________________________________________________________________________\n",
            "Returns (Dense)                 (None, 1)            33          dense_25[0][0]                   \n",
            "==================================================================================================\n",
            "Total params: 25,217\n",
            "Trainable params: 25,217\n",
            "Non-trainable params: 0\n",
            "__________________________________________________________________________________________________\n"
          ],
          "name": "stdout"
        }
      ]
    },
    {
      "cell_type": "markdown",
      "metadata": {
        "id": "Ip5N3egNMOuF"
      },
      "source": [
        "#### Model Result"
      ]
    },
    {
      "cell_type": "code",
      "metadata": {
        "id": "qiAb0cP3MOuF"
      },
      "source": [
        "#complie\n",
        "tw_tr_model.compile(optimizer = \"adam\",\n",
        "              loss = losses.MeanSquaredError(),\n",
        "              metrics = keras.metrics.MeanSquaredError()\n",
        ")\n",
        "\n",
        "# train\n",
        "tw_tr_history = tw_tr_model.fit(train, \n",
        "                    validation_data=val,\n",
        "                    epochs = 30, \n",
        "                    verbose = False)"
      ],
      "execution_count": null,
      "outputs": []
    },
    {
      "cell_type": "code",
      "metadata": {
        "colab": {
          "base_uri": "https://localhost:8080/",
          "height": 312
        },
        "id": "959rw_c5MOuF",
        "outputId": "8ebdc68a-3805-4f33-910f-a73681a7e9c5"
      },
      "source": [
        "plt.plot(tw_tr_history.history[\"mean_squared_error\"], label = \"training error\")\n",
        "plt.plot(tw_tr_history.history[\"val_mean_squared_error\"], label = \"validation error\")\n",
        "plt.xlabel('Number of Epoch')\n",
        "plt.ylabel('Mean Squared Error')\n",
        "plt.title('Training and Validation Result')\n",
        "plt.legend()"
      ],
      "execution_count": null,
      "outputs": [
        {
          "output_type": "execute_result",
          "data": {
            "text/plain": [
              "<matplotlib.legend.Legend at 0x7f3dab2a21d0>"
            ]
          },
          "metadata": {
            "tags": []
          },
          "execution_count": 182
        },
        {
          "output_type": "display_data",
          "data": {
            "image/png": "[encoded data removed]",
            "text/plain": [
              "<Figure size 432x288 with 1 Axes>"
            ]
          },
          "metadata": {
            "tags": [],
            "needs_background": "light"
          }
        }
      ]
    },
    {
      "cell_type": "markdown",
      "metadata": {
        "id": "qt5J-32zrCFf"
      },
      "source": [
        "The graph is hard to follow, so we zoom in a bit to see the MSE's. "
      ]
    },
    {
      "cell_type": "code",
      "metadata": {
        "colab": {
          "base_uri": "https://localhost:8080/",
          "height": 312
        },
        "id": "Xr-KjUvgSHPP",
        "outputId": "6925e913-a769-43e5-bef0-aac5edd1693b"
      },
      "source": [
        "plt.plot(tw_tr_history.history[\"mean_squared_error\"][3:], label = \"training error\")\n",
        "plt.plot(tw_tr_history.history[\"val_mean_squared_error\"][3:], label = \"validation error\")\n",
        "plt.xlabel('Number of Epoch')\n",
        "plt.ylabel('Mean Squared Error')\n",
        "plt.title('Training and Validation Result')\n",
        "plt.legend()"
      ],
      "execution_count": null,
      "outputs": [
        {
          "output_type": "execute_result",
          "data": {
            "text/plain": [
              "<matplotlib.legend.Legend at 0x7f3dae15e110>"
            ]
          },
          "metadata": {
            "tags": []
          },
          "execution_count": 200
        },
        {
          "output_type": "display_data",
          "data": {
            "image/png": "[encoded data removed]",
            "text/plain": [
              "<Figure size 432x288 with 1 Axes>"
            ]
          },
          "metadata": {
            "tags": [],
            "needs_background": "light"
          }
        }
      ]
    },
    {
      "cell_type": "markdown",
      "metadata": {
        "id": "ejxbnLHerbt_"
      },
      "source": [
        "The validation errors fluctuate too much compared to the training error. There is possibility that the model is not converging well."
      ]
    },
    {
      "cell_type": "markdown",
      "metadata": {
        "id": "3HK33dS4PF3m"
      },
      "source": [
        "### Model Comparison: Twitter-Only and with Trading Information\n",
        "\n",
        "For the model comparison, we use the validation MSE for comparison."
      ]
    },
    {
      "cell_type": "code",
      "metadata": {
        "id": "L6xZk5O1L8ic"
      },
      "source": [
        "tw_12_val = tw_history.history[\"val_mean_squared_error\"]\n",
        "tw_tr_val = tw_tr_history.history[\"val_mean_squared_error\"]"
      ],
      "execution_count": null,
      "outputs": []
    },
    {
      "cell_type": "code",
      "metadata": {
        "colab": {
          "base_uri": "https://localhost:8080/",
          "height": 312
        },
        "id": "zXviThHpQgiZ",
        "outputId": "66502582-9307-4aeb-dfc9-6ff3dbda49c1"
      },
      "source": [
        "plt.plot(tw_tr_val, label = \"Tw-Tr Model\")\n",
        "plt.plot(tw_12_val, label = \"Tw-only Model\")\n",
        "plt.xlabel('Number of Epoch')\n",
        "plt.ylabel('Mean Squared Error')\n",
        "plt.title('Validation MSE Result Comparison')\n",
        "plt.legend()"
      ],
      "execution_count": null,
      "outputs": [
        {
          "output_type": "execute_result",
          "data": {
            "text/plain": [
              "<matplotlib.legend.Legend at 0x7f3db5fcd210>"
            ]
          },
          "metadata": {
            "tags": []
          },
          "execution_count": 192
        },
        {
          "output_type": "display_data",
          "data": {
            "image/png": "[encoded data removed]",
            "text/plain": [
              "<Figure size 432x288 with 1 Axes>"
            ]
          },
          "metadata": {
            "tags": [],
            "needs_background": "light"
          }
        }
      ]
    },
    {
      "cell_type": "markdown",
      "metadata": {
        "id": "qcgFjC8nrLbb"
      },
      "source": [
        "The graph is hard to follow, so we zoom in a bit to see the MSE's. "
      ]
    },
    {
      "cell_type": "code",
      "metadata": {
        "colab": {
          "base_uri": "https://localhost:8080/",
          "height": 312
        },
        "id": "tL6HN2RdR-yO",
        "outputId": "3d1bc685-85f4-4548-a54d-32dbeeda0122"
      },
      "source": [
        "plt.plot(tw_tr_val[3:], label = \"Tw-Tr Model\")\n",
        "plt.plot(tw_12_val[3:], label = \"Tw-only Model\")\n",
        "plt.xlabel('Number of Epoch')\n",
        "plt.ylabel('Mean Squared Error')\n",
        "plt.title('Validation MSE Result Comparison')\n",
        "plt.legend()"
      ],
      "execution_count": null,
      "outputs": [
        {
          "output_type": "execute_result",
          "data": {
            "text/plain": [
              "<matplotlib.legend.Legend at 0x7f3db3f3e1d0>"
            ]
          },
          "metadata": {
            "tags": []
          },
          "execution_count": 199
        },
        {
          "output_type": "display_data",
          "data": {
            "image/png": "[encoded data removed]",
            "text/plain": [
              "<Figure size 432x288 with 1 Axes>"
            ]
          },
          "metadata": {
            "tags": [],
            "needs_background": "light"
          }
        }
      ]
    },
    {
      "cell_type": "markdown",
      "metadata": {
        "id": "4KH1136lrNw4"
      },
      "source": [
        "The Twitter-only model has much lower and much more stable MSE than the Twitter-TradingInfo model."
      ]
    },
    {
      "cell_type": "code",
      "metadata": {
        "id": "dbvbTvxGP7oo"
      },
      "source": [
        "# for twitter-only model, calculate MSE volatility\n",
        "# use only epochs after 10\n",
        "tw_12_val = tw_12_val[10:]\n",
        "# create list recording volatility\n",
        "tw_12_vol = []\n",
        "# append volatility to the list\n",
        "for i in np.arange(len(tw_12_val) - 1):\n",
        "  volatility = tw_12_val[i+1] - tw_12_val[i]\n",
        "  tw_12_vol.append(volatility)\n",
        "\n",
        "# for twitter-tiprank model, calculate MSE volatility\n",
        "# use only epochs after 10\n",
        "tw_tr_val = tw_tr_val[10:]\n",
        "# create list recording volatility\n",
        "tw_tr_vol = []\n",
        "# append volatility to the list\n",
        "for i in np.arange(len(tw_tr_val) - 1):\n",
        "  volatility = tw_tr_val[i+1] - tw_tr_val[i]\n",
        "  tw_tr_vol.append(volatility)"
      ],
      "execution_count": null,
      "outputs": []
    },
    {
      "cell_type": "code",
      "metadata": {
        "colab": {
          "base_uri": "https://localhost:8080/",
          "height": 312
        },
        "id": "T-qUGn9GQ-iv",
        "outputId": "84e7249d-c557-40ae-ef6a-d2855f9e0bb2"
      },
      "source": [
        "plt.plot(tw_tr_vol, label = \"Tw-Tr Model\")\n",
        "plt.plot(tw_12_vol, label = \"Tw-only Model\")\n",
        "plt.plot(np.zeros(len(rd_tw_vol)), \".\")\n",
        "plt.xlabel('Number of Epoch after 10')\n",
        "plt.ylabel('Mean Squared Error')\n",
        "plt.title('Validation MSE Volatility Comparison')\n",
        "plt.legend()"
      ],
      "execution_count": null,
      "outputs": [
        {
          "output_type": "execute_result",
          "data": {
            "text/plain": [
              "<matplotlib.legend.Legend at 0x7f3da888e150>"
            ]
          },
          "metadata": {
            "tags": []
          },
          "execution_count": 196
        },
        {
          "output_type": "display_data",
          "data": {
            "image/png": "[encoded data removed]",
            "text/plain": [
              "<Figure size 432x288 with 1 Axes>"
            ]
          },
          "metadata": {
            "tags": [],
            "needs_background": "light"
          }
        }
      ]
    },
    {
      "cell_type": "markdown",
      "metadata": {
        "id": "wkU-VKPEsF7y"
      },
      "source": [
        "The y-axis actually represents the \"change in MSE\", i.e. volatility. From the graph we see that the Twitter-only model has much more stable volatility than the Twitter-TradingInfo model."
      ]
    },
    {
      "cell_type": "code",
      "metadata": {
        "colab": {
          "base_uri": "https://localhost:8080/",
          "height": 312
        },
        "id": "4jm7pUoCRUm4",
        "outputId": "e652ac0a-f226-4499-c5b5-7d9a701fcf73"
      },
      "source": [
        "plt.plot(tw_12_vol, label = \"Tw-only Model\")\n",
        "plt.plot(np.zeros(len(tw_12_vol)), \".\")\n",
        "plt.xlabel('Number of Epoch after 10')\n",
        "plt.ylabel('Mean Squared Error')\n",
        "plt.title('Validation MSE Volatility Comparison')\n",
        "plt.legend()"
      ],
      "execution_count": null,
      "outputs": [
        {
          "output_type": "execute_result",
          "data": {
            "text/plain": [
              "<matplotlib.legend.Legend at 0x7f3dada5c990>"
            ]
          },
          "metadata": {
            "tags": []
          },
          "execution_count": 201
        },
        {
          "output_type": "display_data",
          "data": {
            "image/png": "[encoded data removed]",
            "text/plain": [
              "<Figure size 432x288 with 1 Axes>"
            ]
          },
          "metadata": {
            "tags": [],
            "needs_background": "light"
          }
        }
      ]
    },
    {
      "cell_type": "markdown",
      "metadata": {
        "id": "YQfqufkpsTdC"
      },
      "source": [
        "The y-axis actually represents the \"change in MSE\", i.e. volatility. To make sure that the Twitter-only model is not a \"false model\" with a 0 MSE, we also zoom in to see the fluctuation. It turns out that the Twitter model does have non-zero volatility."
      ]
    },
    {
      "cell_type": "markdown",
      "metadata": {
        "id": "L3NxyU4lusow"
      },
      "source": [
        "### A Potential Discussion\n",
        "\n",
        "Although trading information is generally considered to be effective here, the model result shows that trading info only creates more chaos to the model system. We were trying to discover potential reason here, and we realized that since the return prediction is on a daily basis, providing weekly trading information might lowers the model accuracy. That is, the \"short-term\" trading information we've retrieved is not the actual short-term information. We need access to daily trading information updates to further analyze on whether having trading information could improve the model."
      ]
    },
    {
      "cell_type": "markdown",
      "metadata": {
        "id": "9vc6uDIBjgZ-"
      },
      "source": [
        "## Conclusion and Significant Findings"
      ]
    },
    {
      "cell_type": "markdown",
      "metadata": {
        "id": "fgFCPaoqr2vE"
      },
      "source": [
        "At first, we decided to integrate historical returns, Tweets, Reddit posts, and weekly trading information from Tipranks for the prediction of future returns of a stock on a daily basis.\n",
        "\n",
        "After comparisons between models with and without using Reddit posts as input, and between models with and without using weekly trading information as input, we confirm that using Twitter only is the optimal choice among all of our choices. Consequently, we decide to include Tweet data and exclude Reddit data and Tipranks data in our final model."
      ]
    }
  ]
}