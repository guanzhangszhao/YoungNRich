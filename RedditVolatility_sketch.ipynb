{
  "nbformat": 4,
  "nbformat_minor": 0,
  "metadata": {
    "colab": {
      "name": "Reddit_Volatility_Sketch.ipynb",
      "provenance": [],
      "collapsed_sections": [],
      "toc_visible": true
    },
    "kernelspec": {
      "name": "python3",
      "display_name": "Python 3"
    },
    "language_info": {
      "name": "python"
    }
  },
  "cells": [
    {
      "cell_type": "markdown",
      "metadata": {
        "id": "RkteHLx0mtqB"
      },
      "source": [
        "## Import Libraries"
      ]
    },
    {
      "cell_type": "code",
      "metadata": {
        "colab": {
          "base_uri": "https://localhost:8080/"
        },
        "id": "JdxNlQwqnYSX",
        "outputId": "e609b79c-130a-46fd-a7a6-fe13343bb3d7"
      },
      "source": [
        "!pip install praw"
      ],
      "execution_count": null,
      "outputs": [
        {
          "output_type": "stream",
          "text": [
            "Collecting praw\n",
            "\u001b[?25l  Downloading https://files.pythonhosted.org/packages/48/a8/a2e2d0750ee17c7e3d81e4695a0338ad0b3f231853b8c3fa339ff2d25c7c/praw-7.2.0-py3-none-any.whl (159kB)\n",
            "\r\u001b[K     |██                              | 10kB 12.0MB/s eta 0:00:01\r\u001b[K     |████                            | 20kB 5.5MB/s eta 0:00:01\r\u001b[K     |██████▏                         | 30kB 4.1MB/s eta 0:00:01\r\u001b[K     |████████▏                       | 40kB 4.0MB/s eta 0:00:01\r\u001b[K     |██████████▎                     | 51kB 2.0MB/s eta 0:00:01\r\u001b[K     |████████████▎                   | 61kB 2.2MB/s eta 0:00:01\r\u001b[K     |██████████████▍                 | 71kB 2.4MB/s eta 0:00:01\r\u001b[K     |████████████████▍               | 81kB 2.6MB/s eta 0:00:01\r\u001b[K     |██████████████████▌             | 92kB 2.7MB/s eta 0:00:01\r\u001b[K     |████████████████████▌           | 102kB 2.9MB/s eta 0:00:01\r\u001b[K     |██████████████████████▋         | 112kB 2.9MB/s eta 0:00:01\r\u001b[K     |████████████████████████▋       | 122kB 2.9MB/s eta 0:00:01\r\u001b[K     |██████████████████████████▊     | 133kB 2.9MB/s eta 0:00:01\r\u001b[K     |████████████████████████████▊   | 143kB 2.9MB/s eta 0:00:01\r\u001b[K     |██████████████████████████████▉ | 153kB 2.9MB/s eta 0:00:01\r\u001b[K     |████████████████████████████████| 163kB 2.9MB/s \n",
            "\u001b[?25hCollecting prawcore<3,>=2\n",
            "  Downloading https://files.pythonhosted.org/packages/7d/df/4a9106bea0d26689c4b309da20c926a01440ddaf60c09a5ae22684ebd35f/prawcore-2.0.0-py3-none-any.whl\n",
            "Collecting update-checker>=0.18\n",
            "  Downloading https://files.pythonhosted.org/packages/0c/ba/8dd7fa5f0b1c6a8ac62f8f57f7e794160c1f86f31c6d0fb00f582372a3e4/update_checker-0.18.0-py3-none-any.whl\n",
            "Collecting websocket-client>=0.54.0\n",
            "\u001b[?25l  Downloading https://files.pythonhosted.org/packages/85/ee/7aa724dc2dbed9b028f463eada5482770c13b7381a0c79457d12b3b62de2/websocket_client-1.0.1-py2.py3-none-any.whl (68kB)\n",
            "\u001b[K     |████████████████████████████████| 71kB 7.7MB/s \n",
            "\u001b[?25hRequirement already satisfied: requests<3.0,>=2.6.0 in /usr/local/lib/python3.7/dist-packages (from prawcore<3,>=2->praw) (2.23.0)\n",
            "Requirement already satisfied: chardet<4,>=3.0.2 in /usr/local/lib/python3.7/dist-packages (from requests<3.0,>=2.6.0->prawcore<3,>=2->praw) (3.0.4)\n",
            "Requirement already satisfied: urllib3!=1.25.0,!=1.25.1,<1.26,>=1.21.1 in /usr/local/lib/python3.7/dist-packages (from requests<3.0,>=2.6.0->prawcore<3,>=2->praw) (1.24.3)\n",
            "Requirement already satisfied: idna<3,>=2.5 in /usr/local/lib/python3.7/dist-packages (from requests<3.0,>=2.6.0->prawcore<3,>=2->praw) (2.10)\n",
            "Requirement already satisfied: certifi>=2017.4.17 in /usr/local/lib/python3.7/dist-packages (from requests<3.0,>=2.6.0->prawcore<3,>=2->praw) (2020.12.5)\n",
            "Installing collected packages: prawcore, update-checker, websocket-client, praw\n",
            "Successfully installed praw-7.2.0 prawcore-2.0.0 update-checker-0.18.0 websocket-client-1.0.1\n"
          ],
          "name": "stdout"
        }
      ]
    },
    {
      "cell_type": "code",
      "metadata": {
        "colab": {
          "base_uri": "https://localhost:8080/"
        },
        "id": "cFeeMQgPncq-",
        "outputId": "859b26a7-6baa-4c1a-e3ad-bca28b641bad"
      },
      "source": [
        "!pip install yahoofinancials"
      ],
      "execution_count": null,
      "outputs": [
        {
          "output_type": "stream",
          "text": [
            "Collecting yahoofinancials\n",
            "  Downloading https://files.pythonhosted.org/packages/97/fe/be0f6ea704137848779fc61e7d1c9a901489aaf3423cd7b6f86a350c14c6/yahoofinancials-1.6.tar.gz\n",
            "Requirement already satisfied: beautifulsoup4 in /usr/local/lib/python3.7/dist-packages (from yahoofinancials) (4.6.3)\n",
            "Requirement already satisfied: pytz in /usr/local/lib/python3.7/dist-packages (from yahoofinancials) (2018.9)\n",
            "Building wheels for collected packages: yahoofinancials\n",
            "  Building wheel for yahoofinancials (setup.py) ... \u001b[?25l\u001b[?25hdone\n",
            "  Created wheel for yahoofinancials: filename=yahoofinancials-1.6-cp37-none-any.whl size=15192 sha256=dc52be39ba80a8fe19b9b974fb135ba33fed3834b428469afc42552be6fcb196\n",
            "  Stored in directory: /root/.cache/pip/wheels/d9/7e/cf/4977a8572d5247242a4b13018d1d36923024ba84236e0d28bc\n",
            "Successfully built yahoofinancials\n",
            "Installing collected packages: yahoofinancials\n",
            "Successfully installed yahoofinancials-1.6\n"
          ],
          "name": "stdout"
        }
      ]
    },
    {
      "cell_type": "code",
      "metadata": {
        "id": "c_0ZLYVVmsQt",
        "colab": {
          "base_uri": "https://localhost:8080/"
        },
        "outputId": "c4ee8139-1bdf-4d94-cb58-d6cd74fd7a3f"
      },
      "source": [
        "import pandas_datareader.data as reader\n",
        "import datetime as dt\n",
        "import pandas as pd\n",
        "import numpy as np\n",
        "from matplotlib import pyplot as plt\n",
        "from sklearn.linear_model import LinearRegression\n",
        "\n",
        "import urllib, json\n",
        "import praw\n",
        "from yahoofinancials import YahooFinancials\n",
        "\n",
        "import tensorflow as tf\n",
        "import re\n",
        "import string\n",
        "\n",
        "from tensorflow.keras import layers\n",
        "from tensorflow.keras import losses\n",
        "from tensorflow import keras\n",
        "\n",
        "from tensorflow.keras.layers.experimental.preprocessing import TextVectorization\n",
        "from tensorflow.keras.layers.experimental.preprocessing import StringLookup\n",
        "\n",
        "from sklearn.model_selection import train_test_split\n",
        "from sklearn.preprocessing import LabelEncoder\n",
        "\n",
        "import time\n",
        "import matplotlib.pyplot as plt\n",
        "import nltk\n",
        "nltk.download('stopwords')\n",
        "from nltk.corpus import stopwords\n",
        "\n",
        "import tensorflow_datasets as tfds"
      ],
      "execution_count": null,
      "outputs": [
        {
          "output_type": "stream",
          "text": [
            "[nltk_data] Downloading package stopwords to /root/nltk_data...\n",
            "[nltk_data]   Package stopwords is already up-to-date!\n"
          ],
          "name": "stdout"
        }
      ]
    },
    {
      "cell_type": "markdown",
      "metadata": {
        "id": "LDL3DLtGm33j"
      },
      "source": [
        "## Retrieve Reddit Comments"
      ]
    },
    {
      "cell_type": "code",
      "metadata": {
        "id": "yg0qzQsVm1qI"
      },
      "source": [
        "def get_reddit(ticker, date_after, date_before):\n",
        "  after = (dt.datetime.now() - date_after).days\n",
        "  before = (dt.datetime.now() - date_before).days\n",
        "  url = f\"https://api.pushshift.io/reddit/search/comment/?q={ticker.lower()}&subreddit=wallstreetbets&before={before}d&after={after}d&size=500\"\n",
        "  response = urllib.request.urlopen(url)\n",
        "  de = json.loads(response.read())\n",
        "  df = prepare_reddit(de['data'])\n",
        "  \n",
        "  return df"
      ],
      "execution_count": null,
      "outputs": []
    },
    {
      "cell_type": "code",
      "metadata": {
        "id": "6MOcYePSm7pN"
      },
      "source": [
        "def prepare_reddit(l):\n",
        "  topics_dict = {\"score\":[], \n",
        "        \"id\":[], \n",
        "        #\"url\":[],\n",
        "        \"created\": [],\n",
        "        \"body\":[]}\n",
        "  for d in l:\n",
        "    topics_dict[\"score\"].append(d['score'])\n",
        "    topics_dict[\"id\"].append(d['id'])\n",
        "    #topics_dict[\"url\"].append(d['permalink'])\n",
        "    topics_dict[\"created\"].append(d['author'])\n",
        "    topics_dict[\"body\"].append(d['body'])\n",
        "  return pd.DataFrame(topics_dict)"
      ],
      "execution_count": null,
      "outputs": []
    },
    {
      "cell_type": "code",
      "metadata": {
        "colab": {
          "base_uri": "https://localhost:8080/",
          "height": 419
        },
        "id": "-FfPbD5Em84S",
        "outputId": "01916b76-b9af-4395-d3fa-f8dc43637b42"
      },
      "source": [
        "get_reddit('pltr', dt.datetime(2021,5,10), dt.datetime(2021,5,17))"
      ],
      "execution_count": null,
      "outputs": [
        {
          "output_type": "execute_result",
          "data": {
            "text/html": [
              "<div>\n",
              "<style scoped>\n",
              "    .dataframe tbody tr th:only-of-type {\n",
              "        vertical-align: middle;\n",
              "    }\n",
              "\n",
              "    .dataframe tbody tr th {\n",
              "        vertical-align: top;\n",
              "    }\n",
              "\n",
              "    .dataframe thead th {\n",
              "        text-align: right;\n",
              "    }\n",
              "</style>\n",
              "<table border=\"1\" class=\"dataframe\">\n",
              "  <thead>\n",
              "    <tr style=\"text-align: right;\">\n",
              "      <th></th>\n",
              "      <th>score</th>\n",
              "      <th>id</th>\n",
              "      <th>created</th>\n",
              "      <th>body</th>\n",
              "    </tr>\n",
              "  </thead>\n",
              "  <tbody>\n",
              "    <tr>\n",
              "      <th>0</th>\n",
              "      <td>7</td>\n",
              "      <td>gxll1ex</td>\n",
              "      <td>RPMayhem</td>\n",
              "      <td>lol RKT and PLTR in retrograde</td>\n",
              "    </tr>\n",
              "    <tr>\n",
              "      <th>1</th>\n",
              "      <td>2</td>\n",
              "      <td>gxllj5g</td>\n",
              "      <td>sweet_as_stevia</td>\n",
              "      <td>PLTR should rename its ticker to OOF cuz it hu...</td>\n",
              "    </tr>\n",
              "    <tr>\n",
              "      <th>2</th>\n",
              "      <td>2</td>\n",
              "      <td>gxllt0g</td>\n",
              "      <td>HighlyUniqueName</td>\n",
              "      <td>Now do PLTR</td>\n",
              "    </tr>\n",
              "    <tr>\n",
              "      <th>3</th>\n",
              "      <td>5</td>\n",
              "      <td>gxllz67</td>\n",
              "      <td>Juuliantjis</td>\n",
              "      <td>Buying penn, pltr, ag and double dowm on urani...</td>\n",
              "    </tr>\n",
              "    <tr>\n",
              "      <th>4</th>\n",
              "      <td>1</td>\n",
              "      <td>gxlm21m</td>\n",
              "      <td>sweet_as_stevia</td>\n",
              "      <td>At the PLTR drive through _Ma’am, Extra dip on...</td>\n",
              "    </tr>\n",
              "    <tr>\n",
              "      <th>...</th>\n",
              "      <td>...</td>\n",
              "      <td>...</td>\n",
              "      <td>...</td>\n",
              "      <td>...</td>\n",
              "    </tr>\n",
              "    <tr>\n",
              "      <th>95</th>\n",
              "      <td>3</td>\n",
              "      <td>gxluk41</td>\n",
              "      <td>Larissa_MW</td>\n",
              "      <td>PLTR is a bag holder factory</td>\n",
              "    </tr>\n",
              "    <tr>\n",
              "      <th>96</th>\n",
              "      <td>10</td>\n",
              "      <td>gxluk71</td>\n",
              "      <td>DTello13</td>\n",
              "      <td>Man, there is no stock i hate more than PLTR</td>\n",
              "    </tr>\n",
              "    <tr>\n",
              "      <th>97</th>\n",
              "      <td>3</td>\n",
              "      <td>gxluk8y</td>\n",
              "      <td>Pltr_x2-4_Tsla</td>\n",
              "      <td>Pltr needs to go up at least 30%, on top that ...</td>\n",
              "    </tr>\n",
              "    <tr>\n",
              "      <th>98</th>\n",
              "      <td>6</td>\n",
              "      <td>gxlukrk</td>\n",
              "      <td>YoungJebediah</td>\n",
              "      <td>PLTR partying like it's November 2020</td>\n",
              "    </tr>\n",
              "    <tr>\n",
              "      <th>99</th>\n",
              "      <td>5</td>\n",
              "      <td>gxlukun</td>\n",
              "      <td>Counterfoot</td>\n",
              "      <td>I really like PLTR</td>\n",
              "    </tr>\n",
              "  </tbody>\n",
              "</table>\n",
              "<p>100 rows × 4 columns</p>\n",
              "</div>"
            ],
            "text/plain": [
              "    score  ...                                               body\n",
              "0       7  ...                     lol RKT and PLTR in retrograde\n",
              "1       2  ...  PLTR should rename its ticker to OOF cuz it hu...\n",
              "2       2  ...                                        Now do PLTR\n",
              "3       5  ...  Buying penn, pltr, ag and double dowm on urani...\n",
              "4       1  ...  At the PLTR drive through _Ma’am, Extra dip on...\n",
              "..    ...  ...                                                ...\n",
              "95      3  ...                       PLTR is a bag holder factory\n",
              "96     10  ...       Man, there is no stock i hate more than PLTR\n",
              "97      3  ...  Pltr needs to go up at least 30%, on top that ...\n",
              "98      6  ...              PLTR partying like it's November 2020\n",
              "99      5  ...                                 I really like PLTR\n",
              "\n",
              "[100 rows x 4 columns]"
            ]
          },
          "metadata": {
            "tags": []
          },
          "execution_count": 68
        }
      ]
    },
    {
      "cell_type": "code",
      "metadata": {
        "id": "JVNb5E3em-OR"
      },
      "source": [
        "def get_reddits_body(ticker, date):\n",
        "  text = ''\n",
        "  until = date\n",
        "  since = date - dt.timedelta(days = 7)\n",
        "  print(since, until)\n",
        "  df = get_reddit(ticker, since, until)\n",
        "  for content in df[\"body\"]:\n",
        "    text += content\n",
        "    text += \" \" #######\n",
        "  return text"
      ],
      "execution_count": null,
      "outputs": []
    },
    {
      "cell_type": "code",
      "metadata": {
        "colab": {
          "base_uri": "https://localhost:8080/",
          "height": 222
        },
        "id": "oNu4Hbnam_ti",
        "outputId": "a0965a7d-72a8-4f43-a504-9130eee2f85d"
      },
      "source": [
        "get_reddits_body(\"pltr\", dt.datetime(2021,5,17))"
      ],
      "execution_count": null,
      "outputs": [
        {
          "output_type": "stream",
          "text": [
            "2021-05-10 00:00:00 2021-05-17 00:00:00\n"
          ],
          "name": "stdout"
        },
        {
          "output_type": "execute_result",
          "data": {
            "application/vnd.google.colaboratory.intrinsic+json": {
              "type": "string"
            },
            "text/plain": [
              "\"lol RKT and PLTR in retrograde PLTR should rename its ticker to OOF cuz it hurts to carry Now do PLTR Buying penn, pltr, ag and double dowm on uranium.\\nToday At the PLTR drive through _Ma’am, Extra dip on the side?_ Come, make you bets! \\n\\nWill PLTR have 10 Red days in a row?\\n\\nIs there even any stock on earth which behaves so ridiculously (10 red days in a row) on no news? Must be a new record... I think. I think. Maybe ummmmm I think I'm gonna try and buy PLTR again. If PLTR drops that low I will buy all that I can afford PLTR to $20 pls I’m holding for long term, by long term I mean at least 5 years. You still see a lot of good news for PLTR, meaning there’s still more room for the price to go down, we will only the see the bottom when there’extreme negative sentiment about the stock, now there isn’t yet. Cant believe im still bag holding pltr PLTR U Fubo LMND OPEN puts are free money I don’t hold PLTR stock, I do have some calls a few months out, but really hoping for a nice revenue growth number at earnings tomorrow. I really want to see that stock fly because I like what they do and like their CEO.....dude is an American patriot. I'm gonna start an onlyfans so I can make back the money I lost on $PLTR will PLTR get a boost on increased cyber security threats?\\n\\nFind out on the next episode of dragon ball Z! I still think PLTR is touching $100 this year... or at least $80. She only buys the dip to support the stocks chartwise. Since PLTR broke support last week, it is unlikly she will buy. I was in at $9 and out at $11, and yes I wanted to kill myself watching it go up like it did.\\n\\n IMO I am comfortable that PLTR should be at around $16 as a new entry point. But their biggest investor hates the USA. Though I guess he also hates pltr holders as he half a billion worth when lockup ended $65, for 8/20 for PLTR checking in! Bought them around the time PLTR flew to $40 then “dipped” down to around $30.....then of course just kept dipping after that. Also I bought when IV was still high.....down like $4k on those lol. Right now.....Christ....just buy shares......no calls unless they are like 10-20% above current price and a year or more out 🤣 Tempted to go balls deeper into PLTR, need some confirmation bias first though anything will do. Is this the 8 fucking day where PLTR is red? Fucking nice 50% lose in 3 months now ... Pltr🚀🚀🚀🚀🚀🚀🚀🚀🚀🚀🚀🚀🚀🚀🚀🚀🚀🚀🚀🚀🚀🚀🚀🚀🚀🚀🚀🚀 Just buy PLTR and chill All I see in this chat is people ”long” on PLTR🤡 short term it weeklies will not print with this one PLTR has a moat in terms of what they have built, based on R&amp;D costs. Lots of money and time over the past 10 years. Assuming a company wants to build something similar, it's going to take probably $30-50M in R&amp;D and 2-3 years. That's a pretty big risk.\\n\\nEven if PLTR wasn't providing a lot of value to customers, they are addressing the setup and knowledge gaps that exist in building inference systems in companies. The fact they provide value as well is just icing on the cake.\\n\\nWall street will come around eventually, but the rotation out of tech due to inflation has hurt. It could continue to drop to 18, but unless their earnings are terrible, it doesn't seem like it would go much lower. PLTR and RKT still dumping hard.  Goodbye money. PLTR is trash fml die PLTR die That’s ok. Just DCA to Pltr and watch your money vanish another beautiful day with my pltr portfolio PLTR updated their portfolio of products...now they are in drilling business along with DKNG Only if you buy some PLTR to go with it. PLTR to zero EOW $PLTR long term hold #$PLTR...WATCH HOW FAST THE MMS TAKE THIS BACK UP Imagine missing out on new opportunities every week because you're bagholding PLTR 🤡 #$PLTR IS SKYNET Heard this is the place to score some PLTR. Need bag. Have money. Aww what happened PLTR cult??? You couldn't shut up about it last night, could you?!  I hope you all lose all your money.\\n\\n#PLTR 0.00 eow #$PLTR..SHORTY GET BACK ON THE SHORT BUS Let's be real, CRSR should be at 40, PLTR at 27, AAPL at 145, and DKNG at 60. Just saying, in my humble analysis. #$PLTR.. SNAG SOME CHEAP SHARES BEFORE THE RUN UP #$PLTR Anyone who bought all the small cap growth tech stocks in the Feb time frame has pretty much been uniformly red. PLTR/NIO/APHA/TLRY/EHANG/CRSR/AMD/OPEN/ etc all down significantly from Feb. \\n\\nThen of course there are other things I've seen recommended that have tanked hard : PLUG/PTON/PINS/CCIV/RIOT Damn TTD, this is the kind of crap I expected from PLTR tomorrow. #$PLTR 🚀🚀🚀🚀 Pltr 😂😂😂😂😂 #EARNINGS TOMORROW PRE-MARKET, 🚀🚀PLTR 🚀🚀 the warmth is the PLTR dog peeing on you PLTR PLTR might go up at open If you are amazed by AMD for going down on any news, you will be nonplussed by PLTR Why are so many peeps spamming PLTR? LMAOOOOO PLTR BAGHOLDERS GRTT8NG ABSOLUTELY FUCKED 🤣😂🤣😂🤣\\n\\nBULLS AMIRITE 😖💦💦 PLTR EARNINGS TOMORROW   \\nSO IT MEANS : -5% PLTR OH MY FUCK PLTR 🚀🚀 Imagine still holding PLTR \\n\\n#🤣😂🤣😂🤣😂🤣😂 I'm so unfazed by PLTR these days. Dow 35,000 bout to happen, PLTR🚀🚀🚀 Holy fuck pltr.... Wow pltr. Everyday you find a new way to disappoint me Pltr is like the child that keeps on disappointing you PLTR and RKT.  I will never recover from this financially. Pltr literally eradicated 70% of this sub! Rip palantards, you will be forgotten ever heard of PLTR? PLTR I hate you almost as much as I hate myself Seeing all the comments on PLTR have to look. It’s like a car crash. Doesn’t seem to matter it’s heading into earnings it’s crashing and burning regardless. PLTR should be fun this week Anyone else see $19.75 on PLTR for like 3 seconds before that amazing downfall LMFAO Straddle on PLTR expected move is +/-12% wow PLTR holders\\n\\n🤡🎰🤡 #$PLTR EARNINGS UP 2X...Growth and market share way up, 🚀🚀🚀🚀 PLTR call holders, rest together in peace Everyone is dumping PLTR and I just can’t let go. From triple my investment it seems that it might be about to go negative soon... Wow can’t believe I actually invested in PLTR sheesh where's the bottom for rkt &amp; pltr? “I’ll never lose money buying into PLTR @ 20.xx.” 🤡🤡🤡\\U0001f972 waiting for the marriage update from that guy that put his and his soon to be ex-wifes life savings into PLTR Hey PLTR, it's time for ur daily 930 dip\\n\\nYes honey $PLTR Bags PLTR 🥺\\n\\nI was promised skynet and all I got was volleyball net. 😭 #$PLTR...THANKS SHORTY FOR MORE CHEAP SHARES, SELLERS ARE NOW BUYERS. Wife’s IRA that only has $SPY and a $BRKB LEAPS has been far and away the winner of all accounts for awhile now. \\n\\n$PLTR $20 2023 LEAP limit order I forgot about hit obviously. \\n\\n$TTD limit order for $505 10 shares. \\n\\nThat’s it. It is chaos out there. So... PLTR, BTFD? Pltr is going to be a penny stock by eoy RKT and PLTR, what a duo! Holy shit, I'm so happy I dropped my PLTR and RKT bags. Just keeps getting worse. From MVIS to PLTR to RKT it amazes me how bad these bets are here. Next time I'm inversing all y'all. PLTR gang you will be miss. Thank you PLTR, very cool PLTR + TESLA = I m a bagholder + Bunkrupt = FUCKING DEAD !!!! PLTR &amp; RKT will go lower than you think is possible. That's when you buy. “PLTR Below $60/share is free money” PLTR is a bag holder factory Man, there is no stock i hate more than PLTR Pltr needs to go up at least 30%, on top that it needs to stay there at least for a month, then we can talk about uptrend.\\n\\nAt this point pltr 19&gt;18&gt;17\\n\\nDon’t get excited with lower highs, trend is not changing anytime soon. PLTR partying like it's November 2020 I really like PLTR \""
            ]
          },
          "metadata": {
            "tags": []
          },
          "execution_count": 70
        }
      ]
    },
    {
      "cell_type": "markdown",
      "metadata": {
        "id": "MTKObry8nCQl"
      },
      "source": [
        "## Make Dataset"
      ]
    },
    {
      "cell_type": "code",
      "metadata": {
        "id": "3tBDrxaOnFSx"
      },
      "source": [
        "# returns\n",
        "def Re(df):\n",
        "  return df.resample('7D').last().pct_change().apply(lambda x: np.log(1+x))\n",
        "\n",
        "# volatility\n",
        "def Vo(df):\n",
        "  de = df.pct_change().apply(lambda x: np.log(1+x))\n",
        "  vo = de.rolling(window = 7).std()*np.sqrt(7)\n",
        "  ts = vo.resample('7D').last()\n",
        "  ts = ts[0:(len(ts)-1)]\n",
        "\n",
        "  return ts"
      ],
      "execution_count": null,
      "outputs": []
    },
    {
      "cell_type": "code",
      "metadata": {
        "id": "eutKKcsOnH6x"
      },
      "source": [
        "# don't input date on weekend for retrieving volatility\n",
        "# HERE WE REQUIRE BEGIN date to be on Sunday\n",
        "def test_data(ticker, begin, end):\n",
        "  data = {'Date':[], 'Reddits':[]}\n",
        "  date = begin + dt.timedelta(days = 1)\n",
        "  while(date + dt.timedelta(days = 7) < end):\n",
        "    s = get_reddits_body(ticker, date + dt.timedelta(days = 7))\n",
        "    time.sleep(1)\n",
        "    data['Reddits'].append(s)\n",
        "    data['Date'].append(date)\n",
        "    date += dt.timedelta(days = 7)\n",
        "  df = pd.DataFrame(data)\n",
        "  de = reader.get_data_yahoo(ticker,begin,end)['Adj Close']\n",
        "  vo = Vo(de).reset_index()[['Adj Close']]#.dropna()\n",
        "  re = Re(de).reset_index()\n",
        "  df = pd.concat([df,vo], axis = 1)\n",
        "  df = df.rename(columns = {'Adj Close':'Volatility'})\n",
        "  \n",
        "  return df.dropna()"
      ],
      "execution_count": null,
      "outputs": []
    },
    {
      "cell_type": "code",
      "metadata": {
        "colab": {
          "base_uri": "https://localhost:8080/"
        },
        "id": "bci14_6WIqzR",
        "outputId": "282c2f8f-ce42-4016-a475-d79cc9b1ca63"
      },
      "source": [
        "Vo(reader.get_data_yahoo(\"tsla\",dt.datetime(2017,1,9), dt.datetime(2017,5,12))['Adj Close'])"
      ],
      "execution_count": null,
      "outputs": [
        {
          "output_type": "execute_result",
          "data": {
            "text/plain": [
              "Date\n",
              "2017-01-09         NaN\n",
              "2017-01-16    0.040403\n",
              "2017-01-23    0.031960\n",
              "2017-01-30    0.020310\n",
              "2017-02-06    0.032566\n",
              "2017-02-13    0.067832\n",
              "2017-02-20    0.080328\n",
              "2017-02-27    0.079985\n",
              "2017-03-06    0.014378\n",
              "2017-03-13    0.055069\n",
              "2017-03-20    0.066153\n",
              "2017-03-27    0.039843\n",
              "2017-04-03    0.078688\n",
              "2017-04-10    0.071936\n",
              "2017-04-17    0.055938\n",
              "2017-04-24    0.033521\n",
              "2017-05-01    0.085832\n",
              "Freq: 7D, Name: Adj Close, dtype: float64"
            ]
          },
          "metadata": {
            "tags": []
          },
          "execution_count": 36
        }
      ]
    },
    {
      "cell_type": "code",
      "metadata": {
        "colab": {
          "base_uri": "https://localhost:8080/"
        },
        "id": "-JTvzJxhOqWM",
        "outputId": "468908e7-f749-4d4a-f8b7-dd82d2a85890"
      },
      "source": [
        "data = {'Date':[]}\n",
        "date = dt.datetime(2017,1,8) + dt.timedelta(days = 1)\n",
        "while(date + dt.timedelta(days = 7) < dt.datetime(2017,5,12)):\n",
        "    data['Date'].append(date)\n",
        "    date += dt.timedelta(days = 7)\n",
        "\n",
        "data"
      ],
      "execution_count": null,
      "outputs": [
        {
          "output_type": "execute_result",
          "data": {
            "text/plain": [
              "{'Date': [datetime.datetime(2017, 1, 9, 0, 0),\n",
              "  datetime.datetime(2017, 1, 16, 0, 0),\n",
              "  datetime.datetime(2017, 1, 23, 0, 0),\n",
              "  datetime.datetime(2017, 1, 30, 0, 0),\n",
              "  datetime.datetime(2017, 2, 6, 0, 0),\n",
              "  datetime.datetime(2017, 2, 13, 0, 0),\n",
              "  datetime.datetime(2017, 2, 20, 0, 0),\n",
              "  datetime.datetime(2017, 2, 27, 0, 0),\n",
              "  datetime.datetime(2017, 3, 6, 0, 0),\n",
              "  datetime.datetime(2017, 3, 13, 0, 0),\n",
              "  datetime.datetime(2017, 3, 20, 0, 0),\n",
              "  datetime.datetime(2017, 3, 27, 0, 0),\n",
              "  datetime.datetime(2017, 4, 3, 0, 0),\n",
              "  datetime.datetime(2017, 4, 10, 0, 0),\n",
              "  datetime.datetime(2017, 4, 17, 0, 0),\n",
              "  datetime.datetime(2017, 4, 24, 0, 0),\n",
              "  datetime.datetime(2017, 5, 1, 0, 0)]}"
            ]
          },
          "metadata": {
            "tags": []
          },
          "execution_count": 18
        }
      ]
    },
    {
      "cell_type": "code",
      "metadata": {
        "colab": {
          "base_uri": "https://localhost:8080/",
          "height": 576
        },
        "id": "pf209vNzMK1r",
        "outputId": "8692caee-05c0-4396-df93-77ce27846762"
      },
      "source": [
        "pd.concat([pd.DataFrame(data), Vo(reader.get_data_yahoo(\"tsla\",dt.datetime(2017,1,9), dt.datetime(2017,5,12))['Adj Close']).reset_index()[['Adj Close']]], axis = 1)"
      ],
      "execution_count": null,
      "outputs": [
        {
          "output_type": "execute_result",
          "data": {
            "text/html": [
              "<div>\n",
              "<style scoped>\n",
              "    .dataframe tbody tr th:only-of-type {\n",
              "        vertical-align: middle;\n",
              "    }\n",
              "\n",
              "    .dataframe tbody tr th {\n",
              "        vertical-align: top;\n",
              "    }\n",
              "\n",
              "    .dataframe thead th {\n",
              "        text-align: right;\n",
              "    }\n",
              "</style>\n",
              "<table border=\"1\" class=\"dataframe\">\n",
              "  <thead>\n",
              "    <tr style=\"text-align: right;\">\n",
              "      <th></th>\n",
              "      <th>Date</th>\n",
              "      <th>Adj Close</th>\n",
              "    </tr>\n",
              "  </thead>\n",
              "  <tbody>\n",
              "    <tr>\n",
              "      <th>0</th>\n",
              "      <td>2017-01-09</td>\n",
              "      <td>NaN</td>\n",
              "    </tr>\n",
              "    <tr>\n",
              "      <th>1</th>\n",
              "      <td>2017-01-16</td>\n",
              "      <td>0.040403</td>\n",
              "    </tr>\n",
              "    <tr>\n",
              "      <th>2</th>\n",
              "      <td>2017-01-23</td>\n",
              "      <td>0.031960</td>\n",
              "    </tr>\n",
              "    <tr>\n",
              "      <th>3</th>\n",
              "      <td>2017-01-30</td>\n",
              "      <td>0.020310</td>\n",
              "    </tr>\n",
              "    <tr>\n",
              "      <th>4</th>\n",
              "      <td>2017-02-06</td>\n",
              "      <td>0.032566</td>\n",
              "    </tr>\n",
              "    <tr>\n",
              "      <th>5</th>\n",
              "      <td>2017-02-13</td>\n",
              "      <td>0.067832</td>\n",
              "    </tr>\n",
              "    <tr>\n",
              "      <th>6</th>\n",
              "      <td>2017-02-20</td>\n",
              "      <td>0.080328</td>\n",
              "    </tr>\n",
              "    <tr>\n",
              "      <th>7</th>\n",
              "      <td>2017-02-27</td>\n",
              "      <td>0.079985</td>\n",
              "    </tr>\n",
              "    <tr>\n",
              "      <th>8</th>\n",
              "      <td>2017-03-06</td>\n",
              "      <td>0.014378</td>\n",
              "    </tr>\n",
              "    <tr>\n",
              "      <th>9</th>\n",
              "      <td>2017-03-13</td>\n",
              "      <td>0.055069</td>\n",
              "    </tr>\n",
              "    <tr>\n",
              "      <th>10</th>\n",
              "      <td>2017-03-20</td>\n",
              "      <td>0.066153</td>\n",
              "    </tr>\n",
              "    <tr>\n",
              "      <th>11</th>\n",
              "      <td>2017-03-27</td>\n",
              "      <td>0.039843</td>\n",
              "    </tr>\n",
              "    <tr>\n",
              "      <th>12</th>\n",
              "      <td>2017-04-03</td>\n",
              "      <td>0.078688</td>\n",
              "    </tr>\n",
              "    <tr>\n",
              "      <th>13</th>\n",
              "      <td>2017-04-10</td>\n",
              "      <td>0.071936</td>\n",
              "    </tr>\n",
              "    <tr>\n",
              "      <th>14</th>\n",
              "      <td>2017-04-17</td>\n",
              "      <td>0.055938</td>\n",
              "    </tr>\n",
              "    <tr>\n",
              "      <th>15</th>\n",
              "      <td>2017-04-24</td>\n",
              "      <td>0.033521</td>\n",
              "    </tr>\n",
              "    <tr>\n",
              "      <th>16</th>\n",
              "      <td>2017-05-01</td>\n",
              "      <td>0.085832</td>\n",
              "    </tr>\n",
              "  </tbody>\n",
              "</table>\n",
              "</div>"
            ],
            "text/plain": [
              "         Date  Adj Close\n",
              "0  2017-01-09        NaN\n",
              "1  2017-01-16   0.040403\n",
              "2  2017-01-23   0.031960\n",
              "3  2017-01-30   0.020310\n",
              "4  2017-02-06   0.032566\n",
              "5  2017-02-13   0.067832\n",
              "6  2017-02-20   0.080328\n",
              "7  2017-02-27   0.079985\n",
              "8  2017-03-06   0.014378\n",
              "9  2017-03-13   0.055069\n",
              "10 2017-03-20   0.066153\n",
              "11 2017-03-27   0.039843\n",
              "12 2017-04-03   0.078688\n",
              "13 2017-04-10   0.071936\n",
              "14 2017-04-17   0.055938\n",
              "15 2017-04-24   0.033521\n",
              "16 2017-05-01   0.085832"
            ]
          },
          "metadata": {
            "tags": []
          },
          "execution_count": 41
        }
      ]
    },
    {
      "cell_type": "code",
      "metadata": {
        "colab": {
          "base_uri": "https://localhost:8080/"
        },
        "id": "5-h5bfNQNlSE",
        "outputId": "99c03e3d-fa17-4f99-d891-f9db34042531"
      },
      "source": [
        "df = test_data('tsla',dt.datetime(2017,1,8),dt.datetime(2021,5,12))"
      ],
      "execution_count": null,
      "outputs": [
        {
          "output_type": "stream",
          "text": [
            "2017-01-09 00:00:00 2017-01-16 00:00:00\n",
            "2017-01-16 00:00:00 2017-01-23 00:00:00\n",
            "2017-01-23 00:00:00 2017-01-30 00:00:00\n",
            "2017-01-30 00:00:00 2017-02-06 00:00:00\n",
            "2017-02-06 00:00:00 2017-02-13 00:00:00\n",
            "2017-02-13 00:00:00 2017-02-20 00:00:00\n",
            "2017-02-20 00:00:00 2017-02-27 00:00:00\n",
            "2017-02-27 00:00:00 2017-03-06 00:00:00\n",
            "2017-03-06 00:00:00 2017-03-13 00:00:00\n",
            "2017-03-13 00:00:00 2017-03-20 00:00:00\n",
            "2017-03-20 00:00:00 2017-03-27 00:00:00\n",
            "2017-03-27 00:00:00 2017-04-03 00:00:00\n",
            "2017-04-03 00:00:00 2017-04-10 00:00:00\n",
            "2017-04-10 00:00:00 2017-04-17 00:00:00\n",
            "2017-04-17 00:00:00 2017-04-24 00:00:00\n",
            "2017-04-24 00:00:00 2017-05-01 00:00:00\n",
            "2017-05-01 00:00:00 2017-05-08 00:00:00\n",
            "2017-05-08 00:00:00 2017-05-15 00:00:00\n",
            "2017-05-15 00:00:00 2017-05-22 00:00:00\n",
            "2017-05-22 00:00:00 2017-05-29 00:00:00\n",
            "2017-05-29 00:00:00 2017-06-05 00:00:00\n",
            "2017-06-05 00:00:00 2017-06-12 00:00:00\n",
            "2017-06-12 00:00:00 2017-06-19 00:00:00\n",
            "2017-06-19 00:00:00 2017-06-26 00:00:00\n",
            "2017-06-26 00:00:00 2017-07-03 00:00:00\n",
            "2017-07-03 00:00:00 2017-07-10 00:00:00\n",
            "2017-07-10 00:00:00 2017-07-17 00:00:00\n",
            "2017-07-17 00:00:00 2017-07-24 00:00:00\n",
            "2017-07-24 00:00:00 2017-07-31 00:00:00\n",
            "2017-07-31 00:00:00 2017-08-07 00:00:00\n",
            "2017-08-07 00:00:00 2017-08-14 00:00:00\n",
            "2017-08-14 00:00:00 2017-08-21 00:00:00\n",
            "2017-08-21 00:00:00 2017-08-28 00:00:00\n",
            "2017-08-28 00:00:00 2017-09-04 00:00:00\n",
            "2017-09-04 00:00:00 2017-09-11 00:00:00\n",
            "2017-09-11 00:00:00 2017-09-18 00:00:00\n",
            "2017-09-18 00:00:00 2017-09-25 00:00:00\n",
            "2017-09-25 00:00:00 2017-10-02 00:00:00\n",
            "2017-10-02 00:00:00 2017-10-09 00:00:00\n",
            "2017-10-09 00:00:00 2017-10-16 00:00:00\n",
            "2017-10-16 00:00:00 2017-10-23 00:00:00\n",
            "2017-10-23 00:00:00 2017-10-30 00:00:00\n",
            "2017-10-30 00:00:00 2017-11-06 00:00:00\n",
            "2017-11-06 00:00:00 2017-11-13 00:00:00\n",
            "2017-11-13 00:00:00 2017-11-20 00:00:00\n",
            "2017-11-20 00:00:00 2017-11-27 00:00:00\n",
            "2017-11-27 00:00:00 2017-12-04 00:00:00\n",
            "2017-12-04 00:00:00 2017-12-11 00:00:00\n",
            "2017-12-11 00:00:00 2017-12-18 00:00:00\n",
            "2017-12-18 00:00:00 2017-12-25 00:00:00\n",
            "2017-12-25 00:00:00 2018-01-01 00:00:00\n",
            "2018-01-01 00:00:00 2018-01-08 00:00:00\n",
            "2018-01-08 00:00:00 2018-01-15 00:00:00\n",
            "2018-01-15 00:00:00 2018-01-22 00:00:00\n",
            "2018-01-22 00:00:00 2018-01-29 00:00:00\n",
            "2018-01-29 00:00:00 2018-02-05 00:00:00\n",
            "2018-02-05 00:00:00 2018-02-12 00:00:00\n",
            "2018-02-12 00:00:00 2018-02-19 00:00:00\n",
            "2018-02-19 00:00:00 2018-02-26 00:00:00\n",
            "2018-02-26 00:00:00 2018-03-05 00:00:00\n",
            "2018-03-05 00:00:00 2018-03-12 00:00:00\n",
            "2018-03-12 00:00:00 2018-03-19 00:00:00\n",
            "2018-03-19 00:00:00 2018-03-26 00:00:00\n",
            "2018-03-26 00:00:00 2018-04-02 00:00:00\n",
            "2018-04-02 00:00:00 2018-04-09 00:00:00\n",
            "2018-04-09 00:00:00 2018-04-16 00:00:00\n",
            "2018-04-16 00:00:00 2018-04-23 00:00:00\n",
            "2018-04-23 00:00:00 2018-04-30 00:00:00\n",
            "2018-04-30 00:00:00 2018-05-07 00:00:00\n",
            "2018-05-07 00:00:00 2018-05-14 00:00:00\n",
            "2018-05-14 00:00:00 2018-05-21 00:00:00\n",
            "2018-05-21 00:00:00 2018-05-28 00:00:00\n",
            "2018-05-28 00:00:00 2018-06-04 00:00:00\n",
            "2018-06-04 00:00:00 2018-06-11 00:00:00\n",
            "2018-06-11 00:00:00 2018-06-18 00:00:00\n",
            "2018-06-18 00:00:00 2018-06-25 00:00:00\n",
            "2018-06-25 00:00:00 2018-07-02 00:00:00\n",
            "2018-07-02 00:00:00 2018-07-09 00:00:00\n",
            "2018-07-09 00:00:00 2018-07-16 00:00:00\n",
            "2018-07-16 00:00:00 2018-07-23 00:00:00\n",
            "2018-07-23 00:00:00 2018-07-30 00:00:00\n",
            "2018-07-30 00:00:00 2018-08-06 00:00:00\n",
            "2018-08-06 00:00:00 2018-08-13 00:00:00\n",
            "2018-08-13 00:00:00 2018-08-20 00:00:00\n",
            "2018-08-20 00:00:00 2018-08-27 00:00:00\n",
            "2018-08-27 00:00:00 2018-09-03 00:00:00\n",
            "2018-09-03 00:00:00 2018-09-10 00:00:00\n",
            "2018-09-10 00:00:00 2018-09-17 00:00:00\n",
            "2018-09-17 00:00:00 2018-09-24 00:00:00\n",
            "2018-09-24 00:00:00 2018-10-01 00:00:00\n",
            "2018-10-01 00:00:00 2018-10-08 00:00:00\n",
            "2018-10-08 00:00:00 2018-10-15 00:00:00\n",
            "2018-10-15 00:00:00 2018-10-22 00:00:00\n",
            "2018-10-22 00:00:00 2018-10-29 00:00:00\n",
            "2018-10-29 00:00:00 2018-11-05 00:00:00\n",
            "2018-11-05 00:00:00 2018-11-12 00:00:00\n",
            "2018-11-12 00:00:00 2018-11-19 00:00:00\n",
            "2018-11-19 00:00:00 2018-11-26 00:00:00\n",
            "2018-11-26 00:00:00 2018-12-03 00:00:00\n",
            "2018-12-03 00:00:00 2018-12-10 00:00:00\n",
            "2018-12-10 00:00:00 2018-12-17 00:00:00\n",
            "2018-12-17 00:00:00 2018-12-24 00:00:00\n",
            "2018-12-24 00:00:00 2018-12-31 00:00:00\n",
            "2018-12-31 00:00:00 2019-01-07 00:00:00\n",
            "2019-01-07 00:00:00 2019-01-14 00:00:00\n",
            "2019-01-14 00:00:00 2019-01-21 00:00:00\n",
            "2019-01-21 00:00:00 2019-01-28 00:00:00\n",
            "2019-01-28 00:00:00 2019-02-04 00:00:00\n",
            "2019-02-04 00:00:00 2019-02-11 00:00:00\n",
            "2019-02-11 00:00:00 2019-02-18 00:00:00\n",
            "2019-02-18 00:00:00 2019-02-25 00:00:00\n",
            "2019-02-25 00:00:00 2019-03-04 00:00:00\n",
            "2019-03-04 00:00:00 2019-03-11 00:00:00\n",
            "2019-03-11 00:00:00 2019-03-18 00:00:00\n",
            "2019-03-18 00:00:00 2019-03-25 00:00:00\n",
            "2019-03-25 00:00:00 2019-04-01 00:00:00\n",
            "2019-04-01 00:00:00 2019-04-08 00:00:00\n",
            "2019-04-08 00:00:00 2019-04-15 00:00:00\n",
            "2019-04-15 00:00:00 2019-04-22 00:00:00\n",
            "2019-04-22 00:00:00 2019-04-29 00:00:00\n",
            "2019-04-29 00:00:00 2019-05-06 00:00:00\n",
            "2019-05-06 00:00:00 2019-05-13 00:00:00\n",
            "2019-05-13 00:00:00 2019-05-20 00:00:00\n",
            "2019-05-20 00:00:00 2019-05-27 00:00:00\n",
            "2019-05-27 00:00:00 2019-06-03 00:00:00\n",
            "2019-06-03 00:00:00 2019-06-10 00:00:00\n",
            "2019-06-10 00:00:00 2019-06-17 00:00:00\n",
            "2019-06-17 00:00:00 2019-06-24 00:00:00\n",
            "2019-06-24 00:00:00 2019-07-01 00:00:00\n",
            "2019-07-01 00:00:00 2019-07-08 00:00:00\n",
            "2019-07-08 00:00:00 2019-07-15 00:00:00\n",
            "2019-07-15 00:00:00 2019-07-22 00:00:00\n",
            "2019-07-22 00:00:00 2019-07-29 00:00:00\n",
            "2019-07-29 00:00:00 2019-08-05 00:00:00\n",
            "2019-08-05 00:00:00 2019-08-12 00:00:00\n",
            "2019-08-12 00:00:00 2019-08-19 00:00:00\n",
            "2019-08-19 00:00:00 2019-08-26 00:00:00\n",
            "2019-08-26 00:00:00 2019-09-02 00:00:00\n",
            "2019-09-02 00:00:00 2019-09-09 00:00:00\n",
            "2019-09-09 00:00:00 2019-09-16 00:00:00\n",
            "2019-09-16 00:00:00 2019-09-23 00:00:00\n",
            "2019-09-23 00:00:00 2019-09-30 00:00:00\n",
            "2019-09-30 00:00:00 2019-10-07 00:00:00\n",
            "2019-10-07 00:00:00 2019-10-14 00:00:00\n",
            "2019-10-14 00:00:00 2019-10-21 00:00:00\n",
            "2019-10-21 00:00:00 2019-10-28 00:00:00\n",
            "2019-10-28 00:00:00 2019-11-04 00:00:00\n",
            "2019-11-04 00:00:00 2019-11-11 00:00:00\n",
            "2019-11-11 00:00:00 2019-11-18 00:00:00\n",
            "2019-11-18 00:00:00 2019-11-25 00:00:00\n",
            "2019-11-25 00:00:00 2019-12-02 00:00:00\n",
            "2019-12-02 00:00:00 2019-12-09 00:00:00\n",
            "2019-12-09 00:00:00 2019-12-16 00:00:00\n",
            "2019-12-16 00:00:00 2019-12-23 00:00:00\n",
            "2019-12-23 00:00:00 2019-12-30 00:00:00\n",
            "2019-12-30 00:00:00 2020-01-06 00:00:00\n",
            "2020-01-06 00:00:00 2020-01-13 00:00:00\n",
            "2020-01-13 00:00:00 2020-01-20 00:00:00\n",
            "2020-01-20 00:00:00 2020-01-27 00:00:00\n",
            "2020-01-27 00:00:00 2020-02-03 00:00:00\n",
            "2020-02-03 00:00:00 2020-02-10 00:00:00\n",
            "2020-02-10 00:00:00 2020-02-17 00:00:00\n",
            "2020-02-17 00:00:00 2020-02-24 00:00:00\n",
            "2020-02-24 00:00:00 2020-03-02 00:00:00\n",
            "2020-03-02 00:00:00 2020-03-09 00:00:00\n",
            "2020-03-09 00:00:00 2020-03-16 00:00:00\n",
            "2020-03-16 00:00:00 2020-03-23 00:00:00\n",
            "2020-03-23 00:00:00 2020-03-30 00:00:00\n",
            "2020-03-30 00:00:00 2020-04-06 00:00:00\n",
            "2020-04-06 00:00:00 2020-04-13 00:00:00\n",
            "2020-04-13 00:00:00 2020-04-20 00:00:00\n",
            "2020-04-20 00:00:00 2020-04-27 00:00:00\n",
            "2020-04-27 00:00:00 2020-05-04 00:00:00\n",
            "2020-05-04 00:00:00 2020-05-11 00:00:00\n",
            "2020-05-11 00:00:00 2020-05-18 00:00:00\n",
            "2020-05-18 00:00:00 2020-05-25 00:00:00\n",
            "2020-05-25 00:00:00 2020-06-01 00:00:00\n",
            "2020-06-01 00:00:00 2020-06-08 00:00:00\n",
            "2020-06-08 00:00:00 2020-06-15 00:00:00\n",
            "2020-06-15 00:00:00 2020-06-22 00:00:00\n",
            "2020-06-22 00:00:00 2020-06-29 00:00:00\n",
            "2020-06-29 00:00:00 2020-07-06 00:00:00\n",
            "2020-07-06 00:00:00 2020-07-13 00:00:00\n",
            "2020-07-13 00:00:00 2020-07-20 00:00:00\n",
            "2020-07-20 00:00:00 2020-07-27 00:00:00\n",
            "2020-07-27 00:00:00 2020-08-03 00:00:00\n",
            "2020-08-03 00:00:00 2020-08-10 00:00:00\n",
            "2020-08-10 00:00:00 2020-08-17 00:00:00\n",
            "2020-08-17 00:00:00 2020-08-24 00:00:00\n",
            "2020-08-24 00:00:00 2020-08-31 00:00:00\n",
            "2020-08-31 00:00:00 2020-09-07 00:00:00\n",
            "2020-09-07 00:00:00 2020-09-14 00:00:00\n",
            "2020-09-14 00:00:00 2020-09-21 00:00:00\n",
            "2020-09-21 00:00:00 2020-09-28 00:00:00\n",
            "2020-09-28 00:00:00 2020-10-05 00:00:00\n",
            "2020-10-05 00:00:00 2020-10-12 00:00:00\n",
            "2020-10-12 00:00:00 2020-10-19 00:00:00\n",
            "2020-10-19 00:00:00 2020-10-26 00:00:00\n",
            "2020-10-26 00:00:00 2020-11-02 00:00:00\n",
            "2020-11-02 00:00:00 2020-11-09 00:00:00\n",
            "2020-11-09 00:00:00 2020-11-16 00:00:00\n",
            "2020-11-16 00:00:00 2020-11-23 00:00:00\n",
            "2020-11-23 00:00:00 2020-11-30 00:00:00\n",
            "2020-11-30 00:00:00 2020-12-07 00:00:00\n",
            "2020-12-07 00:00:00 2020-12-14 00:00:00\n",
            "2020-12-14 00:00:00 2020-12-21 00:00:00\n",
            "2020-12-21 00:00:00 2020-12-28 00:00:00\n",
            "2020-12-28 00:00:00 2021-01-04 00:00:00\n",
            "2021-01-04 00:00:00 2021-01-11 00:00:00\n",
            "2021-01-11 00:00:00 2021-01-18 00:00:00\n",
            "2021-01-18 00:00:00 2021-01-25 00:00:00\n",
            "2021-01-25 00:00:00 2021-02-01 00:00:00\n",
            "2021-02-01 00:00:00 2021-02-08 00:00:00\n",
            "2021-02-08 00:00:00 2021-02-15 00:00:00\n",
            "2021-02-15 00:00:00 2021-02-22 00:00:00\n",
            "2021-02-22 00:00:00 2021-03-01 00:00:00\n",
            "2021-03-01 00:00:00 2021-03-08 00:00:00\n",
            "2021-03-08 00:00:00 2021-03-15 00:00:00\n",
            "2021-03-15 00:00:00 2021-03-22 00:00:00\n",
            "2021-03-22 00:00:00 2021-03-29 00:00:00\n",
            "2021-03-29 00:00:00 2021-04-05 00:00:00\n",
            "2021-04-05 00:00:00 2021-04-12 00:00:00\n",
            "2021-04-12 00:00:00 2021-04-19 00:00:00\n",
            "2021-04-19 00:00:00 2021-04-26 00:00:00\n",
            "2021-04-26 00:00:00 2021-05-03 00:00:00\n",
            "2021-05-03 00:00:00 2021-05-10 00:00:00\n"
          ],
          "name": "stdout"
        }
      ]
    },
    {
      "cell_type": "code",
      "metadata": {
        "colab": {
          "base_uri": "https://localhost:8080/",
          "height": 419
        },
        "id": "kgTlm29ZNuF_",
        "outputId": "e04d4c78-aa64-4a5f-d62e-abed734ce666"
      },
      "source": [
        "df"
      ],
      "execution_count": null,
      "outputs": [
        {
          "output_type": "execute_result",
          "data": {
            "text/html": [
              "<div>\n",
              "<style scoped>\n",
              "    .dataframe tbody tr th:only-of-type {\n",
              "        vertical-align: middle;\n",
              "    }\n",
              "\n",
              "    .dataframe tbody tr th {\n",
              "        vertical-align: top;\n",
              "    }\n",
              "\n",
              "    .dataframe thead th {\n",
              "        text-align: right;\n",
              "    }\n",
              "</style>\n",
              "<table border=\"1\" class=\"dataframe\">\n",
              "  <thead>\n",
              "    <tr style=\"text-align: right;\">\n",
              "      <th></th>\n",
              "      <th>Date</th>\n",
              "      <th>Reddits</th>\n",
              "      <th>Volatility</th>\n",
              "    </tr>\n",
              "  </thead>\n",
              "  <tbody>\n",
              "    <tr>\n",
              "      <th>1</th>\n",
              "      <td>2017-01-16</td>\n",
              "      <td>AMZN, TSLA, TSLA, AMZN More like AMZN, NVDA, T...</td>\n",
              "      <td>0.040403</td>\n",
              "    </tr>\n",
              "    <tr>\n",
              "      <th>2</th>\n",
              "      <td>2017-01-23</td>\n",
              "      <td>They just wont a lawsuit:\\n\\nhttp://www.profit...</td>\n",
              "      <td>0.031960</td>\n",
              "    </tr>\n",
              "    <tr>\n",
              "      <th>3</th>\n",
              "      <td>2017-01-30</td>\n",
              "      <td>Tesla ($TSLA) is not associated with the Trans...</td>\n",
              "      <td>0.020310</td>\n",
              "    </tr>\n",
              "    <tr>\n",
              "      <th>4</th>\n",
              "      <td>2017-02-06</td>\n",
              "      <td>You won't believe but TSLA remains extremely s...</td>\n",
              "      <td>0.032566</td>\n",
              "    </tr>\n",
              "    <tr>\n",
              "      <th>5</th>\n",
              "      <td>2017-02-13</td>\n",
              "      <td>The thing is that people always love the first...</td>\n",
              "      <td>0.067832</td>\n",
              "    </tr>\n",
              "    <tr>\n",
              "      <th>...</th>\n",
              "      <td>...</td>\n",
              "      <td>...</td>\n",
              "      <td>...</td>\n",
              "    </tr>\n",
              "    <tr>\n",
              "      <th>221</th>\n",
              "      <td>2021-04-05</td>\n",
              "      <td>I bought the TSLA dip and it dipped lower. Now...</td>\n",
              "      <td>0.078118</td>\n",
              "    </tr>\n",
              "    <tr>\n",
              "      <th>222</th>\n",
              "      <td>2021-04-12</td>\n",
              "      <td>Exactly. But when Tesla does something they sa...</td>\n",
              "      <td>0.101964</td>\n",
              "    </tr>\n",
              "    <tr>\n",
              "      <th>223</th>\n",
              "      <td>2021-04-19</td>\n",
              "      <td>correct holding some of this two contract posi...</td>\n",
              "      <td>0.066478</td>\n",
              "    </tr>\n",
              "    <tr>\n",
              "      <th>224</th>\n",
              "      <td>2021-04-26</td>\n",
              "      <td>AAPL, AMD, AMZN, FB, SHOP, TSLA will crush ear...</td>\n",
              "      <td>0.085849</td>\n",
              "    </tr>\n",
              "    <tr>\n",
              "      <th>225</th>\n",
              "      <td>2021-05-03</td>\n",
              "      <td>tsla Time for TSLA calls? My opinion.... BUY $...</td>\n",
              "      <td>0.072583</td>\n",
              "    </tr>\n",
              "  </tbody>\n",
              "</table>\n",
              "<p>225 rows × 3 columns</p>\n",
              "</div>"
            ],
            "text/plain": [
              "          Date                                            Reddits  Volatility\n",
              "1   2017-01-16  AMZN, TSLA, TSLA, AMZN More like AMZN, NVDA, T...    0.040403\n",
              "2   2017-01-23  They just wont a lawsuit:\\n\\nhttp://www.profit...    0.031960\n",
              "3   2017-01-30  Tesla ($TSLA) is not associated with the Trans...    0.020310\n",
              "4   2017-02-06  You won't believe but TSLA remains extremely s...    0.032566\n",
              "5   2017-02-13  The thing is that people always love the first...    0.067832\n",
              "..         ...                                                ...         ...\n",
              "221 2021-04-05  I bought the TSLA dip and it dipped lower. Now...    0.078118\n",
              "222 2021-04-12  Exactly. But when Tesla does something they sa...    0.101964\n",
              "223 2021-04-19  correct holding some of this two contract posi...    0.066478\n",
              "224 2021-04-26  AAPL, AMD, AMZN, FB, SHOP, TSLA will crush ear...    0.085849\n",
              "225 2021-05-03  tsla Time for TSLA calls? My opinion.... BUY $...    0.072583\n",
              "\n",
              "[225 rows x 3 columns]"
            ]
          },
          "metadata": {
            "tags": []
          },
          "execution_count": 48
        }
      ]
    },
    {
      "cell_type": "markdown",
      "metadata": {
        "id": "38JtXwp4nPKB"
      },
      "source": [
        "## Tensorflow Dataset"
      ]
    },
    {
      "cell_type": "code",
      "metadata": {
        "id": "fZgn6b1ati29"
      },
      "source": [
        "def remove_stopwords(df_pd, colname, stopwords_list):\n",
        "    '''\n",
        "    The function looks at the column df_pd[colname] in the input dataframe df_pd,\n",
        "    and first change all characters to lowercase, \n",
        "    split texts into a list of word chunks according to empty space,\n",
        "    and then reconcatenate the word chunks that are not in the list of stopwords stopwords_list\n",
        "    into a string of texts again.\n",
        "\n",
        "    Limitation: this function does not deal with stopwords right before punctuation marks.\n",
        "    '''\n",
        "    all_words_in_list = df_pd[colname].str.lower().str.split()\n",
        "    stopwords_removed = all_words_in_list.apply(lambda x: ' '.join([word for word in x if word not in stopwords_list]))\n",
        "\n",
        "    return stopwords_removed"
      ],
      "execution_count": null,
      "outputs": []
    },
    {
      "cell_type": "code",
      "metadata": {
        "id": "nH_QeGK8nRY4"
      },
      "source": [
        "def make_tensorflow_dataset(df):\n",
        "\n",
        "    df_copy = df\n",
        "\n",
        "    stopwords_list = stopwords.words(\"english\")  # a list of stopwords in english\n",
        "    df_copy[\"Reddits\"] = remove_stopwords(df_copy, \"Reddits\", stopwords_list)\n",
        "\n",
        "  # Step 2: prepare the tensorflow dataset\n",
        "    data = tf.data.Dataset.from_tensor_slices(\n",
        "        (\n",
        "            {\"Reddits\" : df_copy[[\"Reddits\"]]}, \n",
        "            {\"Volatility\" : df_copy[[\"Volatility\"]]}\n",
        "        )\n",
        "    )\n",
        "\n",
        "    return data"
      ],
      "execution_count": null,
      "outputs": []
    },
    {
      "cell_type": "code",
      "metadata": {
        "id": "qvGIdorVr9_p"
      },
      "source": [
        "df_ts = make_tensorflow_dataset(df)"
      ],
      "execution_count": null,
      "outputs": []
    },
    {
      "cell_type": "code",
      "metadata": {
        "colab": {
          "base_uri": "https://localhost:8080/"
        },
        "id": "uo09mye6usqI",
        "outputId": "fac48161-a3fd-4ea2-bd29-0d04aa06dd78"
      },
      "source": [
        "df_ts"
      ],
      "execution_count": null,
      "outputs": [
        {
          "output_type": "execute_result",
          "data": {
            "text/plain": [
              "<TensorSliceDataset shapes: ({Reddits: (1,)}, {Volatility: (1,)}), types: ({Reddits: tf.string}, {Volatility: tf.float64})>"
            ]
          },
          "metadata": {
            "tags": []
          },
          "execution_count": 34
        }
      ]
    },
    {
      "cell_type": "markdown",
      "metadata": {
        "id": "UeZM-2Rru6kc"
      },
      "source": [
        "## Tensorflow Model"
      ]
    },
    {
      "cell_type": "code",
      "metadata": {
        "id": "Xm6MQOgfu6Fb"
      },
      "source": [
        "# split data\n",
        "# set seed to ensure the same random shuffling every time\n",
        "import random\n",
        "random.seed(1205)\n",
        "df_ts = df_ts.shuffle(buffer_size = len(df_ts))"
      ],
      "execution_count": null,
      "outputs": []
    },
    {
      "cell_type": "code",
      "metadata": {
        "id": "npMiOlDqut12"
      },
      "source": [
        "train_size = int(0.7*len(df_ts))\n",
        "val_size   = int(0.1*len(df_ts))\n",
        "\n",
        "train = df_ts.take(train_size)\n",
        "val   = df_ts.skip(train_size).take(val_size)\n",
        "test  = df_ts.skip(train_size + val_size)"
      ],
      "execution_count": null,
      "outputs": []
    },
    {
      "cell_type": "code",
      "metadata": {
        "colab": {
          "base_uri": "https://localhost:8080/"
        },
        "id": "HeTw3cFXvn52",
        "outputId": "b7a13b51-b421-4e72-b6fe-693ab16094fe"
      },
      "source": [
        "len(train), len(val), len(test)"
      ],
      "execution_count": null,
      "outputs": [
        {
          "output_type": "execute_result",
          "data": {
            "text/plain": [
              "(157, 22, 46)"
            ]
          },
          "metadata": {
            "tags": []
          },
          "execution_count": 37
        }
      ]
    },
    {
      "cell_type": "code",
      "metadata": {
        "id": "k4dnr9aYvvZe"
      },
      "source": [
        "def standardization(input_data):\n",
        "    lowercase = tf.strings.lower(input_data) #lowercase \n",
        "    no_punctuation = tf.strings.regex_replace(lowercase, #remove punctuations\n",
        "                                  '[%s]' % re.escape(string.punctuation),'')\n",
        "    return no_punctuation"
      ],
      "execution_count": null,
      "outputs": []
    },
    {
      "cell_type": "code",
      "metadata": {
        "id": "SyulgG7cvx4F"
      },
      "source": [
        "size_vocab = 2000\n",
        "\n",
        "vectorize_layer = TextVectorization(\n",
        "    standardize = standardization,\n",
        "    max_tokens = size_vocab, # only consider this many words\n",
        "    output_mode = 'int',\n",
        "    output_sequence_length = 500) \n",
        "\n",
        "vectorize_layer.adapt(train.map(lambda x, y: x['Reddits']))"
      ],
      "execution_count": null,
      "outputs": []
    },
    {
      "cell_type": "code",
      "metadata": {
        "id": "SwWCxUN9xPrk"
      },
      "source": [
        "reddits_input = keras.Input(\n",
        "    shape = (1,),\n",
        "    name = \"Reddits\",\n",
        "    dtype = \"string\"\n",
        ")"
      ],
      "execution_count": null,
      "outputs": []
    },
    {
      "cell_type": "code",
      "metadata": {
        "colab": {
          "base_uri": "https://localhost:8080/"
        },
        "id": "rZsO1WpDytRM",
        "outputId": "0bf8ebd8-a989-40b5-bbaa-5af587a3a2d2"
      },
      "source": [
        "reddits_input"
      ],
      "execution_count": null,
      "outputs": [
        {
          "output_type": "execute_result",
          "data": {
            "text/plain": [
              "<KerasTensor: shape=(None, 1) dtype=string (created by layer 'Reddits')>"
            ]
          },
          "metadata": {
            "tags": []
          },
          "execution_count": 50
        }
      ]
    },
    {
      "cell_type": "code",
      "metadata": {
        "id": "q_BmSXYUxhOA"
      },
      "source": [
        "# vectorize title texts into tensor containing data\n",
        "reddits_features = vectorize_layer(reddits_input)\n",
        "# Turns positive integers (indexes) into dense vectors of fixed size\n",
        "reddits_features = layers.Embedding(input_dim = size_vocab, output_dim = 10, name = \"embedding\")(reddits_features)\n",
        "# Applies Dropout to the input to avoid overfitting\n",
        "reddits_features = layers.Dropout(rate = 0.2, name = \"dropout_1\")(reddits_features)\n",
        "# pooling To reduce variance, reduce computation complexity\n",
        "reddits_features = layers.GlobalAveragePooling1D(name = \"pooling\")(reddits_features)\n",
        "# Applies Dropout to the input to avoid overfitting\n",
        "reddits_features = layers.Dropout(rate = 0.2, name = \"dropout_2\")(reddits_features)\n",
        "# add a dense layer\n",
        "reddits_features = layers.Dense(32, activation = \"relu\", name = \"dense\")(reddits_features)\n",
        "# generate output\n",
        "reddits_output = layers.Dense(1, name = \"Volatility\")(reddits_features)"
      ],
      "execution_count": null,
      "outputs": []
    },
    {
      "cell_type": "code",
      "metadata": {
        "id": "k47Z7GKsxtYn"
      },
      "source": [
        "model_reddits = keras.Model(\n",
        "    inputs = reddits_input,\n",
        "    outputs = reddits_output\n",
        ")"
      ],
      "execution_count": null,
      "outputs": []
    },
    {
      "cell_type": "code",
      "metadata": {
        "colab": {
          "base_uri": "https://localhost:8080/"
        },
        "id": "wjiR6LYfxvIe",
        "outputId": "4f9af8e3-6fa9-4063-f2df-87fed66e78a2"
      },
      "source": [
        "model_reddits.summary()"
      ],
      "execution_count": null,
      "outputs": [
        {
          "output_type": "stream",
          "text": [
            "Model: \"model_2\"\n",
            "_________________________________________________________________\n",
            "Layer (type)                 Output Shape              Param #   \n",
            "=================================================================\n",
            "Reddits (InputLayer)         [(None, 1)]               0         \n",
            "_________________________________________________________________\n",
            "text_vectorization (TextVect (None, 500)               0         \n",
            "_________________________________________________________________\n",
            "embedding (Embedding)        (None, 500, 10)           20000     \n",
            "_________________________________________________________________\n",
            "dropout_1 (Dropout)          (None, 500, 10)           0         \n",
            "_________________________________________________________________\n",
            "pooling (GlobalAveragePoolin (None, 10)                0         \n",
            "_________________________________________________________________\n",
            "dropout_2 (Dropout)          (None, 10)                0         \n",
            "_________________________________________________________________\n",
            "dense (Dense)                (None, 32)                352       \n",
            "_________________________________________________________________\n",
            "Volatility (Dense)           (None, 1)                 33        \n",
            "=================================================================\n",
            "Total params: 20,385\n",
            "Trainable params: 20,385\n",
            "Non-trainable params: 0\n",
            "_________________________________________________________________\n"
          ],
          "name": "stdout"
        }
      ]
    },
    {
      "cell_type": "code",
      "metadata": {
        "id": "ELn6I-gjxwaj"
      },
      "source": [
        "model_reddits.compile(optimizer = \"adam\",\n",
        "                      loss = losses.MeanSquaredError(),\n",
        "                      metrics = keras.metrics.MeanSquaredError())"
      ],
      "execution_count": null,
      "outputs": []
    },
    {
      "cell_type": "code",
      "metadata": {
        "colab": {
          "base_uri": "https://localhost:8080/"
        },
        "id": "XfZ7xoxkxyGb",
        "outputId": "24f15df7-a795-466e-ebbd-fed8f79d45da"
      },
      "source": [
        "history_reddits = model_reddits.fit(train, \n",
        "                                    validation_data = val,\n",
        "                                    epochs = 25)"
      ],
      "execution_count": null,
      "outputs": [
        {
          "output_type": "stream",
          "text": [
            "Epoch 1/25\n",
            "157/157 [==============================] - 1s 4ms/step - loss: 0.0068 - mean_squared_error: 0.0068 - val_loss: 0.0022 - val_mean_squared_error: 0.0022\n",
            "Epoch 2/25\n",
            "157/157 [==============================] - 0s 2ms/step - loss: 0.0025 - mean_squared_error: 0.0025 - val_loss: 0.0044 - val_mean_squared_error: 0.0044\n",
            "Epoch 3/25\n",
            "157/157 [==============================] - 0s 2ms/step - loss: 0.0013 - mean_squared_error: 0.0013 - val_loss: 5.5876e-04 - val_mean_squared_error: 5.5876e-04\n",
            "Epoch 4/25\n",
            "157/157 [==============================] - 0s 2ms/step - loss: 0.0019 - mean_squared_error: 0.0019 - val_loss: 0.0012 - val_mean_squared_error: 0.0012\n",
            "Epoch 5/25\n",
            "157/157 [==============================] - 0s 2ms/step - loss: 0.0019 - mean_squared_error: 0.0019 - val_loss: 0.0016 - val_mean_squared_error: 0.0016\n",
            "Epoch 6/25\n",
            "157/157 [==============================] - 0s 2ms/step - loss: 0.0018 - mean_squared_error: 0.0018 - val_loss: 0.0014 - val_mean_squared_error: 0.0014\n",
            "Epoch 7/25\n",
            "157/157 [==============================] - 0s 2ms/step - loss: 6.8939e-04 - mean_squared_error: 6.8939e-04 - val_loss: 4.5845e-04 - val_mean_squared_error: 4.5845e-04\n",
            "Epoch 8/25\n",
            "157/157 [==============================] - 0s 3ms/step - loss: 3.7896e-04 - mean_squared_error: 3.7896e-04 - val_loss: 4.3624e-04 - val_mean_squared_error: 4.3624e-04\n",
            "Epoch 9/25\n",
            "157/157 [==============================] - 0s 2ms/step - loss: 3.3384e-04 - mean_squared_error: 3.3384e-04 - val_loss: 1.0100e-04 - val_mean_squared_error: 1.0100e-04\n",
            "Epoch 10/25\n",
            "157/157 [==============================] - 0s 2ms/step - loss: 1.6237e-04 - mean_squared_error: 1.6237e-04 - val_loss: 2.6579e-04 - val_mean_squared_error: 2.6579e-04\n",
            "Epoch 11/25\n",
            "157/157 [==============================] - 0s 2ms/step - loss: 2.9010e-04 - mean_squared_error: 2.9010e-04 - val_loss: 1.0668e-04 - val_mean_squared_error: 1.0668e-04\n",
            "Epoch 12/25\n",
            "157/157 [==============================] - 0s 2ms/step - loss: 2.2054e-04 - mean_squared_error: 2.2054e-04 - val_loss: 1.6566e-04 - val_mean_squared_error: 1.6566e-04\n",
            "Epoch 13/25\n",
            "157/157 [==============================] - 0s 2ms/step - loss: 2.2377e-04 - mean_squared_error: 2.2377e-04 - val_loss: 8.9429e-05 - val_mean_squared_error: 8.9429e-05\n",
            "Epoch 14/25\n",
            "157/157 [==============================] - 0s 2ms/step - loss: 2.2907e-04 - mean_squared_error: 2.2907e-04 - val_loss: 8.6296e-05 - val_mean_squared_error: 8.6296e-05\n",
            "Epoch 15/25\n",
            "157/157 [==============================] - 0s 2ms/step - loss: 1.4250e-04 - mean_squared_error: 1.4250e-04 - val_loss: 8.7535e-05 - val_mean_squared_error: 8.7535e-05\n",
            "Epoch 16/25\n",
            "157/157 [==============================] - 0s 2ms/step - loss: 1.2312e-04 - mean_squared_error: 1.2312e-04 - val_loss: 1.6707e-04 - val_mean_squared_error: 1.6707e-04\n",
            "Epoch 17/25\n",
            "157/157 [==============================] - 0s 2ms/step - loss: 2.1845e-04 - mean_squared_error: 2.1845e-04 - val_loss: 5.2631e-05 - val_mean_squared_error: 5.2631e-05\n",
            "Epoch 18/25\n",
            "157/157 [==============================] - 0s 2ms/step - loss: 1.5290e-04 - mean_squared_error: 1.5290e-04 - val_loss: 1.2665e-04 - val_mean_squared_error: 1.2665e-04\n",
            "Epoch 19/25\n",
            "157/157 [==============================] - 0s 2ms/step - loss: 1.2639e-04 - mean_squared_error: 1.2639e-04 - val_loss: 3.6211e-05 - val_mean_squared_error: 3.6211e-05\n",
            "Epoch 20/25\n",
            "157/157 [==============================] - 0s 2ms/step - loss: 1.3380e-04 - mean_squared_error: 1.3380e-04 - val_loss: 2.8727e-05 - val_mean_squared_error: 2.8727e-05\n",
            "Epoch 21/25\n",
            "157/157 [==============================] - 0s 2ms/step - loss: 1.5964e-04 - mean_squared_error: 1.5964e-04 - val_loss: 2.5444e-04 - val_mean_squared_error: 2.5444e-04\n",
            "Epoch 22/25\n",
            "157/157 [==============================] - 0s 2ms/step - loss: 1.3635e-04 - mean_squared_error: 1.3635e-04 - val_loss: 1.2877e-04 - val_mean_squared_error: 1.2877e-04\n",
            "Epoch 23/25\n",
            "157/157 [==============================] - 0s 2ms/step - loss: 1.4972e-04 - mean_squared_error: 1.4972e-04 - val_loss: 1.1623e-04 - val_mean_squared_error: 1.1623e-04\n",
            "Epoch 24/25\n",
            "157/157 [==============================] - 0s 2ms/step - loss: 2.6192e-04 - mean_squared_error: 2.6192e-04 - val_loss: 1.3933e-04 - val_mean_squared_error: 1.3933e-04\n",
            "Epoch 25/25\n",
            "157/157 [==============================] - 0s 2ms/step - loss: 1.9430e-04 - mean_squared_error: 1.9430e-04 - val_loss: 6.6670e-05 - val_mean_squared_error: 6.6670e-05\n"
          ],
          "name": "stdout"
        }
      ]
    },
    {
      "cell_type": "code",
      "metadata": {
        "id": "R_tRtDfazFvg"
      },
      "source": [
        "# history_reddits.history"
      ],
      "execution_count": null,
      "outputs": []
    },
    {
      "cell_type": "code",
      "metadata": {
        "colab": {
          "base_uri": "https://localhost:8080/",
          "height": 296
        },
        "id": "tusw0YYay54L",
        "outputId": "9303f64f-02b1-4e5a-b4d6-c65fa5230e5e"
      },
      "source": [
        "plt.plot(history_reddits.history[\"mean_squared_error\"], label = \"Training\")\n",
        "plt.plot(history_reddits.history[\"val_mean_squared_error\"], label = \"Validation\")\n",
        "plt.gca().set(xlabel = \"Epoch\", ylabel = \"MSE\")\n",
        "plt.legend()"
      ],
      "execution_count": null,
      "outputs": [
        {
          "output_type": "execute_result",
          "data": {
            "text/plain": [
              "<matplotlib.legend.Legend at 0x7f4eadf71590>"
            ]
          },
          "metadata": {
            "tags": []
          },
          "execution_count": 57
        },
        {
          "output_type": "display_data",
          "data": {
            "image/png": "[encoded data removed]",
            "text/plain": [
              "<Figure size 432x288 with 1 Axes>"
            ]
          },
          "metadata": {
            "tags": [],
            "needs_background": "light"
          }
        }
      ]
    },
    {
      "cell_type": "markdown",
      "metadata": {
        "id": "Rku0oxuxy6-g"
      },
      "source": [
        "## Model Prediction"
      ]
    },
    {
      "cell_type": "code",
      "metadata": {
        "colab": {
          "base_uri": "https://localhost:8080/"
        },
        "id": "X8QUNH6yzqsp",
        "outputId": "a4f7d7ca-4fa9-4667-d787-f23c6fc7eef1"
      },
      "source": [
        "model_reddits.evaluate(test)"
      ],
      "execution_count": null,
      "outputs": [
        {
          "output_type": "stream",
          "text": [
            "46/46 [==============================] - 0s 2ms/step - loss: 1.1677e-04 - mean_squared_error: 1.1677e-04\n"
          ],
          "name": "stdout"
        },
        {
          "output_type": "execute_result",
          "data": {
            "text/plain": [
              "[0.00011677153088385239, 0.00011677153088385239]"
            ]
          },
          "metadata": {
            "tags": []
          },
          "execution_count": 58
        }
      ]
    },
    {
      "cell_type": "code",
      "metadata": {
        "colab": {
          "base_uri": "https://localhost:8080/"
        },
        "id": "5NffxzdAz2BG",
        "outputId": "555b7ac1-7c9b-4f5d-e32c-2ef4cda97cbe"
      },
      "source": [
        "test_volatility_pred = model_reddits.predict(test).reshape(-1)\n",
        "test_volatility_pred"
      ],
      "execution_count": null,
      "outputs": [
        {
          "output_type": "execute_result",
          "data": {
            "text/plain": [
              "array([0.06589069, 0.06284197, 0.07081769, 0.06087088, 0.20067663,\n",
              "       0.06870934, 0.04326063, 0.08159654, 0.0739132 , 0.13526464,\n",
              "       0.09076866, 0.06582532, 0.07915878, 0.04691627, 0.07121079,\n",
              "       0.08214187, 0.06843946, 0.11295553, 0.08404192, 0.0577556 ,\n",
              "       0.05630063, 0.05926352, 0.05822406, 0.06939037, 0.07507297,\n",
              "       0.05335908, 0.10933588, 0.10620118, 0.05087569, 0.04117827,\n",
              "       0.09865897, 0.06004047, 0.04421229, 0.10938719, 0.04998215,\n",
              "       0.07224309, 0.05204478, 0.11802246, 0.15147814, 0.18815605,\n",
              "       0.31238365, 0.04759483, 0.04007282, 0.07710232, 0.05106296,\n",
              "       0.03897595], dtype=float32)"
            ]
          },
          "metadata": {
            "tags": []
          },
          "execution_count": 79
        }
      ]
    },
    {
      "cell_type": "code",
      "metadata": {
        "colab": {
          "base_uri": "https://localhost:8080/"
        },
        "id": "obH0dW44z41u",
        "outputId": "afa94894-b7fb-423c-85e6-f3b335614cbf"
      },
      "source": [
        "test_vol_true = tfds.as_numpy(test.map(lambda x, y: y[\"Volatility\"]))\n",
        "\n",
        "test_volatility_true = []\n",
        "for i in test_vol_true:\n",
        "    test_volatility_true.append(i[0])\n",
        "\n",
        "test_volatility_true"
      ],
      "execution_count": null,
      "outputs": [
        {
          "output_type": "execute_result",
          "data": {
            "text/plain": [
              "[0.0575725755794812,\n",
              " 0.04893955321461019,\n",
              " 0.07234243335907468,\n",
              " 0.07647431558890834,\n",
              " 0.09097365812957676,\n",
              " 0.16480357517472177,\n",
              " 0.0664778237182052,\n",
              " 0.18328833909000428,\n",
              " 0.051835039377475724,\n",
              " 0.059418660901134845,\n",
              " 0.12565185014723415,\n",
              " 0.07547070858115412,\n",
              " 0.11668654979547285,\n",
              " 0.15659740816536363,\n",
              " 0.05792749877635626,\n",
              " 0.10435530540858459,\n",
              " 0.08637126107924062,\n",
              " 0.0995507194273067,\n",
              " 0.05784155783597818,\n",
              " 0.038121956161097814,\n",
              " 0.11855215588730793,\n",
              " 0.0203102357026187,\n",
              " 0.09316864264608495,\n",
              " 0.1542278726311534,\n",
              " 0.15554019856927573,\n",
              " 0.05784921591046433,\n",
              " 0.03889389344495769,\n",
              " 0.07664675780186359,\n",
              " 0.0639751726806966,\n",
              " 0.050447101393345704,\n",
              " 0.031960211094904135,\n",
              " 0.05557659632506384,\n",
              " 0.042389547776585566,\n",
              " 0.036521386390042904,\n",
              " 0.05230609733621018,\n",
              " 0.03788538030450558,\n",
              " 0.13259614476306916,\n",
              " 0.0585280240058891,\n",
              " 0.08160604139337893,\n",
              " 0.032566354404926466,\n",
              " 0.027691206507768195,\n",
              " 0.0803282249313422,\n",
              " 0.28939132676339097,\n",
              " 0.03303572671266322,\n",
              " 0.03851719185978172,\n",
              " 0.055544452327239625]"
            ]
          },
          "metadata": {
            "tags": []
          },
          "execution_count": 85
        }
      ]
    },
    {
      "cell_type": "code",
      "metadata": {
        "colab": {
          "base_uri": "https://localhost:8080/",
          "height": 296
        },
        "id": "ovAxWgBn2naL",
        "outputId": "e7b30688-074c-4429-dba0-a44285962f6f"
      },
      "source": [
        "plt.scatter(test_volatility_true, test_volatility_pred)\n",
        "plt.xlabel(\"True Volatility\")\n",
        "plt.ylabel(\"Predicted Volatility\")\n",
        "plt.plot([0, 0.4], [0, 0.4])"
      ],
      "execution_count": null,
      "outputs": [
        {
          "output_type": "execute_result",
          "data": {
            "text/plain": [
              "[<matplotlib.lines.Line2D at 0x7f4eaba97690>]"
            ]
          },
          "metadata": {
            "tags": []
          },
          "execution_count": 84
        },
        {
          "output_type": "display_data",
          "data": {
            "image/png": "[encoded data removed]",
            "text/plain": [
              "<Figure size 432x288 with 1 Axes>"
            ]
          },
          "metadata": {
            "tags": [],
            "needs_background": "light"
          }
        }
      ]
    },
    {
      "cell_type": "code",
      "metadata": {
        "colab": {
          "base_uri": "https://localhost:8080/"
        },
        "id": "XUBT9ZEU2Jrr",
        "outputId": "1dd46358-55e9-42e0-c5e6-f422628ea2cd"
      },
      "source": [
        "model_reddits.evaluate(df_ts)"
      ],
      "execution_count": null,
      "outputs": [
        {
          "output_type": "stream",
          "text": [
            "225/225 [==============================] - 0s 1ms/step - loss: 7.3765e-05 - mean_squared_error: 7.3765e-05\n"
          ],
          "name": "stdout"
        },
        {
          "output_type": "execute_result",
          "data": {
            "text/plain": [
              "[7.376473513431847e-05, 7.376473513431847e-05]"
            ]
          },
          "metadata": {
            "tags": []
          },
          "execution_count": 75
        }
      ]
    },
    {
      "cell_type": "code",
      "metadata": {
        "colab": {
          "base_uri": "https://localhost:8080/"
        },
        "id": "qeIiFPzM34kO",
        "outputId": "e008ae88-c2ff-49d0-df88-d0709d66f2ec"
      },
      "source": [
        "all_volatility_pred = model_reddits.predict(df_ts).reshape(-1)\n",
        "all_volatility_pred"
      ],
      "execution_count": null,
      "outputs": [
        {
          "output_type": "execute_result",
          "data": {
            "text/plain": [
              "array([0.06054502, 0.09219582, 0.10938995, 0.05307597, 0.04580277,\n",
              "       0.06589069, 0.07953504, 0.08220615, 0.0709583 , 0.04336268,\n",
              "       0.04970952, 0.1038733 , 0.10812418, 0.07400526, 0.08298586,\n",
              "       0.12368397, 0.09424253, 0.16935933, 0.06033683, 0.0564238 ,\n",
              "       0.05504588, 0.06741923, 0.15679818, 0.12992452, 0.06582532,\n",
              "       0.25480625, 0.09558153, 0.14540109, 0.05335908, 0.09076866,\n",
              "       0.19346836, 0.10893638, 0.09799669, 0.09865897, 0.13807902,\n",
              "       0.15414797, 0.0512735 , 0.06648843, 0.13518645, 0.07577242,\n",
              "       0.03828635, 0.07081769, 0.04107381, 0.04998215, 0.06284197,\n",
              "       0.04847187, 0.11295553, 0.11163668, 0.14813703, 0.06069572,\n",
              "       0.07800719, 0.0901732 , 0.04114832, 0.07352588, 0.04117827,\n",
              "       0.0487892 , 0.09985887, 0.1747503 , 0.04408579, 0.06042618,\n",
              "       0.05087569, 0.07148017, 0.1102769 , 0.15942171, 0.03897595,\n",
              "       0.06671795, 0.07199414, 0.09840625, 0.07105469, 0.08261384,\n",
              "       0.05626098, 0.16276444, 0.06870934, 0.10938719, 0.05503686,\n",
              "       0.15463465, 0.1335727 , 0.07299179, 0.08404192, 0.04983836,\n",
              "       0.12581924, 0.06482963, 0.04007282, 0.15147814, 0.06905767,\n",
              "       0.08376366, 0.09573249, 0.06494505, 0.09899572, 0.14239067,\n",
              "       0.08286727, 0.04761859, 0.07915878, 0.06590141, 0.05148749,\n",
              "       0.05392666, 0.04674852, 0.21663629, 0.13063166, 0.04421229,\n",
              "       0.0489921 , 0.07710232, 0.03374024, 0.16907185, 0.08064167,\n",
              "       0.0739132 , 0.07121079, 0.06847003, 0.05106296, 0.11312493,\n",
              "       0.04830547, 0.08531767, 0.04287871, 0.09192435, 0.11873142,\n",
              "       0.09895232, 0.06087088, 0.05192149, 0.09048238, 0.08522056,\n",
              "       0.03976847, 0.08789231, 0.062861  , 0.07375193, 0.07100172,\n",
              "       0.04511393, 0.08295377, 0.13526464, 0.03074434, 0.20067663,\n",
              "       0.05750681, 0.28134197, 0.06851076, 0.04326063, 0.08027236,\n",
              "       0.0580752 , 0.10599141, 0.04691627, 0.05173232, 0.07507297,\n",
              "       0.16303656, 0.06694081, 0.04422723, 0.04496165, 0.11853673,\n",
              "       0.18912472, 0.05204478, 0.08093175, 0.06141694, 0.05926352,\n",
              "       0.13399798, 0.04715392, 0.05068904, 0.07239945, 0.31238365,\n",
              "       0.04844856, 0.14807537, 0.10933588, 0.05770599, 0.08108649,\n",
              "       0.14154682, 0.04500561, 0.04181876, 0.13556488, 0.04959747,\n",
              "       0.07126024, 0.10742003, 0.10785673, 0.15256023, 0.05410874,\n",
              "       0.21201631, 0.06484684, 0.05233867, 0.11583605, 0.05822406,\n",
              "       0.04186388, 0.18815605, 0.05630063, 0.11551125, 0.05081083,\n",
              "       0.09044968, 0.1712332 , 0.13362244, 0.11618701, 0.07636049,\n",
              "       0.05963796, 0.04395408, 0.08159654, 0.06939037, 0.04759483,\n",
              "       0.08891487, 0.05986779, 0.0554284 , 0.07599569, 0.05889972,\n",
              "       0.06554291, 0.06604727, 0.06222501, 0.1288955 , 0.03585946,\n",
              "       0.05742151, 0.10620118, 0.06004047, 0.09755   , 0.19309674,\n",
              "       0.06317067, 0.08787823, 0.35181576, 0.07224309, 0.0577556 ,\n",
              "       0.0451205 , 0.04680292, 0.07330932, 0.06843946, 0.06343191,\n",
              "       0.05188566, 0.154331  , 0.08214187, 0.10665831, 0.0543147 ,\n",
              "       0.06568049, 0.05657222, 0.05944548, 0.11802246, 0.0568239 ],\n",
              "      dtype=float32)"
            ]
          },
          "metadata": {
            "tags": []
          },
          "execution_count": 86
        }
      ]
    },
    {
      "cell_type": "code",
      "metadata": {
        "colab": {
          "base_uri": "https://localhost:8080/"
        },
        "id": "Ia2YLM6x38XV",
        "outputId": "5619b521-7f38-444f-be0c-3a8d3c3fa98c"
      },
      "source": [
        "all_vol_true = tfds.as_numpy(df_ts.map(lambda x, y: y[\"Volatility\"]))\n",
        "\n",
        "all_volatility_true = []\n",
        "for i in all_vol_true:\n",
        "    all_volatility_true.append(i[0])\n",
        "\n",
        "all_volatility_true"
      ],
      "execution_count": null,
      "outputs": [
        {
          "output_type": "execute_result",
          "data": {
            "text/plain": [
              "[0.014377792486590484,\n",
              " 0.050447101393345704,\n",
              " 0.07782838770558449,\n",
              " 0.09583296539489856,\n",
              " 0.18671923499820445,\n",
              " 0.13763277184636574,\n",
              " 0.04407190089317895,\n",
              " 0.12565185014723415,\n",
              " 0.0506122752552525,\n",
              " 0.07547070858115412,\n",
              " 0.08805196573920954,\n",
              " 0.027691206507768195,\n",
              " 0.04783636264958061,\n",
              " 0.0540450819123836,\n",
              " 0.09755975947215612,\n",
              " 0.055937552579905056,\n",
              " 0.043931680691633224,\n",
              " 0.07911631270750143,\n",
              " 0.06356068070312669,\n",
              " 0.1906378424929663,\n",
              " 0.0203102357026187,\n",
              " 0.04040332138855422,\n",
              " 0.06689583113781834,\n",
              " 0.08106498455209356,\n",
              " 0.14180130597368593,\n",
              " 0.07811762367194151,\n",
              " 0.05335732561739296,\n",
              " 0.0585280240058891,\n",
              " 0.0787147415723861,\n",
              " 0.22004791728255452,\n",
              " 0.04442307575760854,\n",
              " 0.02437294847840595,\n",
              " 0.316855528199812,\n",
              " 0.0633217841936875,\n",
              " 0.11063320202690755,\n",
              " 0.15659740816536363,\n",
              " 0.1542278726311534,\n",
              " 0.33482350916997394,\n",
              " 0.03721935150235067,\n",
              " 0.03346791514774061,\n",
              " 0.13259614476306916,\n",
              " 0.07789180146775425,\n",
              " 0.13447326264820827,\n",
              " 0.08660731636028188,\n",
              " 0.032140368102106666,\n",
              " 0.10435530540858459,\n",
              " 0.06558665542038668,\n",
              " 0.07041576462972104,\n",
              " 0.04434708794493096,\n",
              " 0.15350849142578357,\n",
              " 0.08781189832161186,\n",
              " 0.09313785748575694,\n",
              " 0.04433421635361333,\n",
              " 0.08583247427562017,\n",
              " 0.03788538030450558,\n",
              " 0.05912309426261256,\n",
              " 0.16066074623084656,\n",
              " 0.11388510776987171,\n",
              " 0.11546815498733652,\n",
              " 0.03303572671266322,\n",
              " 0.04145878056030483,\n",
              " 0.07234243335907468,\n",
              " 0.1622052741938491,\n",
              " 0.05149377568043619,\n",
              " 0.1609691165743273,\n",
              " 0.09787369112121645,\n",
              " 0.17946424040102538,\n",
              " 0.061458907541851175,\n",
              " 0.04235213320626635,\n",
              " 0.15712286828904137,\n",
              " 0.04920894165340248,\n",
              " 0.10196434824922668,\n",
              " 0.03352145262767148,\n",
              " 0.09715008797860376,\n",
              " 0.03331515513259765,\n",
              " 0.03851719185978172,\n",
              " 0.07782487618519203,\n",
              " 0.045704329509782586,\n",
              " 0.06635271972969022,\n",
              " 0.15212815325398157,\n",
              " 0.06684787788511387,\n",
              " 0.0814202591647997,\n",
              " 0.11250266937991285,\n",
              " 0.10128851754377052,\n",
              " 0.11856258637838983,\n",
              " 0.033725929302979456,\n",
              " 0.06132171597243191,\n",
              " 0.03806543082910776,\n",
              " 0.07393602984471463,\n",
              " 0.12439192351318977,\n",
              " 0.2483425806045227,\n",
              " 0.1117829969160292,\n",
              " 0.07237053819429486,\n",
              " 0.12289172897522577,\n",
              " 0.09892091350546259,\n",
              " 0.06615306091964142,\n",
              " 0.14443811448316202,\n",
              " 0.09695135575262852,\n",
              " 0.07587293509619802,\n",
              " 0.0380690351452693,\n",
              " 0.06537304281011037,\n",
              " 0.09315547038080943,\n",
              " 0.032566354404926466,\n",
              " 0.029298064628821886,\n",
              " 0.07951176503208263,\n",
              " 0.026339711632099073,\n",
              " 0.05230609733621018,\n",
              " 0.06271740324227762,\n",
              " 0.04613678333456764,\n",
              " 0.06309749910067465,\n",
              " 0.07201637533999876,\n",
              " 0.09316864264608495,\n",
              " 0.037258680293782674,\n",
              " 0.042095987211905765,\n",
              " 0.08584875453796091,\n",
              " 0.0951108764076319,\n",
              " 0.1420450156611807,\n",
              " 0.09548635786092308,\n",
              " 0.05959204045391478,\n",
              " 0.16337737271011488,\n",
              " 0.059418660901134845,\n",
              " 0.09097365812957676,\n",
              " 0.12222578015794966,\n",
              " 0.10517608034168018,\n",
              " 0.055068825114182665,\n",
              " 0.07664675780186359,\n",
              " 0.08160604139337893,\n",
              " 0.1905851528163069,\n",
              " 0.07258256551100135,\n",
              " 0.05233109349785056,\n",
              " 0.19582332219287152,\n",
              " 0.05990534944229352,\n",
              " 0.04192275754585128,\n",
              " 0.034691830888013656,\n",
              " 0.03889389344495769,\n",
              " 0.0639751726806966,\n",
              " 0.11079257543992894,\n",
              " 0.08639410899530119,\n",
              " 0.09680599192711355,\n",
              " 0.051835039377475724,\n",
              " 0.07838353941725205,\n",
              " 0.039843369302609725,\n",
              " 0.05784921591046433,\n",
              " 0.1142100370533446,\n",
              " 0.07193584994296545,\n",
              " 0.11350219126581931,\n",
              " 0.057171295748386405,\n",
              " 0.048391987849271186,\n",
              " 0.14635424680019624,\n",
              " 0.1252014379716932,\n",
              " 0.036521386390042904,\n",
              " 0.05923031911620129,\n",
              " 0.029773302857339208,\n",
              " 0.1354083911443178,\n",
              " 0.0799853813524227,\n",
              " 0.09029893425988061,\n",
              " 0.06739787515750467,\n",
              " 0.09278839380794912,\n",
              " 0.10210778310768687,\n",
              " 0.12007700146706357,\n",
              " 0.038121956161097814,\n",
              " 0.0619303918627491,\n",
              " 0.04893955321461019,\n",
              " 0.05557659632506384,\n",
              " 0.07647431558890834,\n",
              " 0.04738023248167014,\n",
              " 0.09008411236560984,\n",
              " 0.28939132676339097,\n",
              " 0.05483344311753405,\n",
              " 0.04598091591404385,\n",
              " 0.06027845672689388,\n",
              " 0.04716185879609735,\n",
              " 0.03879807115524858,\n",
              " 0.16480357517472177,\n",
              " 0.06720052572021404,\n",
              " 0.08088925558399876,\n",
              " 0.06612687307118777,\n",
              " 0.15554019856927573,\n",
              " 0.1448648432822113,\n",
              " 0.17613078075431832,\n",
              " 0.0678316001786325,\n",
              " 0.06612067804415857,\n",
              " 0.04342674167887571,\n",
              " 0.06310725178455519,\n",
              " 0.027952793664590702,\n",
              " 0.0691772100795586,\n",
              " 0.03374196648973915,\n",
              " 0.11668654979547285,\n",
              " 0.05802045513271301,\n",
              " 0.042389547776585566,\n",
              " 0.034354004525707624,\n",
              " 0.031960211094904135,\n",
              " 0.10757420325854532,\n",
              " 0.12242252068938002,\n",
              " 0.055544452327239625,\n",
              " 0.10291903419232816,\n",
              " 0.08637126107924062,\n",
              " 0.048646806167680426,\n",
              " 0.10324102217220739,\n",
              " 0.0664778237182052,\n",
              " 0.08878878355727222,\n",
              " 0.16087882003224901,\n",
              " 0.10939909580320133,\n",
              " 0.0575725755794812,\n",
              " 0.1597526722272253,\n",
              " 0.05784155783597818,\n",
              " 0.08119179623632691,\n",
              " 0.10575635409384934,\n",
              " 0.11855215588730793,\n",
              " 0.06350712270502908,\n",
              " 0.07868762162143562,\n",
              " 0.12687646502365643,\n",
              " 0.06275005702616744,\n",
              " 0.03890015363761386,\n",
              " 0.21354183448063244,\n",
              " 0.0995507194273067,\n",
              " 0.0803282249313422,\n",
              " 0.18328833909000428,\n",
              " 0.10209872779504862,\n",
              " 0.05792749877635626,\n",
              " 0.06183821751786546,\n",
              " 0.0714022933827317,\n",
              " 0.0609510211521244,\n",
              " 0.07171845123093261,\n",
              " 0.09964114940789044]"
            ]
          },
          "metadata": {
            "tags": []
          },
          "execution_count": 88
        }
      ]
    },
    {
      "cell_type": "code",
      "metadata": {
        "colab": {
          "base_uri": "https://localhost:8080/",
          "height": 296
        },
        "id": "NaHjnG-W39FB",
        "outputId": "85dea3ad-4fd4-4aa3-f187-a7bebf73752d"
      },
      "source": [
        "plt.scatter(all_volatility_true, all_volatility_pred)\n",
        "plt.xlabel(\"True Volatility\")\n",
        "plt.ylabel(\"Predicted Volatility\")\n",
        "plt.plot([0, 0.4], [0, 0.4])"
      ],
      "execution_count": null,
      "outputs": [
        {
          "output_type": "execute_result",
          "data": {
            "text/plain": [
              "[<matplotlib.lines.Line2D at 0x7f4eb23dfd50>]"
            ]
          },
          "metadata": {
            "tags": []
          },
          "execution_count": 89
        },
        {
          "output_type": "display_data",
          "data": {
            "image/png": "[encoded data removed]",
            "text/plain": [
              "<Figure size 432x288 with 1 Axes>"
            ]
          },
          "metadata": {
            "tags": [],
            "needs_background": "light"
          }
        }
      ]
    },
    {
      "cell_type": "code",
      "metadata": {
        "id": "SFRDV5leDsMM"
      },
      "source": [
        ""
      ],
      "execution_count": null,
      "outputs": []
    },
    {
      "cell_type": "markdown",
      "metadata": {
        "id": "px2uwYmtDtSi"
      },
      "source": [
        "# -----------------------------------------------------------------------------------------------------------------"
      ]
    },
    {
      "cell_type": "markdown",
      "metadata": {
        "id": "u7gVdaQ2DiSo"
      },
      "source": [
        "# Sentiment [Emotion Labels]\n"
      ]
    },
    {
      "cell_type": "code",
      "metadata": {
        "id": "WlHDcMSWEUZT"
      },
      "source": [
        "import nltk\n",
        "nltk.download('stopwords')\n",
        "nltk.download('punkt')\n",
        "nltk.download('sentiwordnet')\n",
        "nltk.download('wordnet')\n",
        "nltk.download('averaged_perceptron_tagger')"
      ],
      "execution_count": null,
      "outputs": []
    },
    {
      "cell_type": "code",
      "metadata": {
        "id": "2J-_yQ5rDmeV"
      },
      "source": [
        "from nltk import word_tokenize\n",
        "from nltk.corpus import stopwords\n",
        "import string"
      ],
      "execution_count": null,
      "outputs": []
    },
    {
      "cell_type": "code",
      "metadata": {
        "id": "ZvULspmRFiMq"
      },
      "source": [
        "import nltk\n",
        "from nltk.stem import *\n",
        "from nltk.corpus import sentiwordnet as swn"
      ],
      "execution_count": null,
      "outputs": []
    },
    {
      "cell_type": "code",
      "metadata": {
        "id": "NBNyS0XwD7Ac"
      },
      "source": [
        "stop_and_punc = set(stopwords.words('english') + list(string.punctuation))"
      ],
      "execution_count": null,
      "outputs": []
    },
    {
      "cell_type": "code",
      "metadata": {
        "colab": {
          "base_uri": "https://localhost:8080/"
        },
        "id": "gQu2DyIoEEF8",
        "outputId": "b516898c-c639-49c2-c1d2-a9dba8a0b611"
      },
      "source": [
        "eg = \"This is an example sentence. We are going to use this to test our list comprehension?\"\n",
        "[i for i in word_tokenize(eg.lower()) if i not in stop_and_punc]"
      ],
      "execution_count": null,
      "outputs": [
        {
          "output_type": "execute_result",
          "data": {
            "text/plain": [
              "['example', 'sentence', 'going', 'use', 'test', 'list', 'comprehension']"
            ]
          },
          "metadata": {
            "tags": []
          },
          "execution_count": 11
        }
      ]
    },
    {
      "cell_type": "code",
      "metadata": {
        "colab": {
          "base_uri": "https://localhost:8080/"
        },
        "id": "ldACl75oHC_Z",
        "outputId": "599a85e2-b234-47a8-8876-817f1291d035"
      },
      "source": [
        "nltk.pos_tag([i for i in word_tokenize(eg.lower()) if i not in stop_and_punc])"
      ],
      "execution_count": null,
      "outputs": [
        {
          "output_type": "execute_result",
          "data": {
            "text/plain": [
              "[('example', 'NN'),\n",
              " ('sentence', 'NN'),\n",
              " ('going', 'VBG'),\n",
              " ('use', 'JJ'),\n",
              " ('test', 'NN'),\n",
              " ('list', 'NN'),\n",
              " ('comprehension', 'NN')]"
            ]
          },
          "metadata": {
            "tags": []
          },
          "execution_count": 27
        }
      ]
    },
    {
      "cell_type": "code",
      "metadata": {
        "id": "1rNnzL1kJ8AL"
      },
      "source": [
        "nltk.pos_tag(word_tokenize(eg.lower()))"
      ],
      "execution_count": null,
      "outputs": []
    },
    {
      "cell_type": "code",
      "metadata": {
        "id": "S9H8YodTFD-B"
      },
      "source": [
        "def cleanTokenizeTagText(textString):\n",
        "    # stop_and_punc = set(stopwords.words('english') + list(string.punctuation))\n",
        "    punc = list(string.punctuation)\n",
        "    result = [i for i in word_tokenize(textString.lower()) if i not in punc]\n",
        "    result = nltk.pos_tag(result)\n",
        "\n",
        "    return result"
      ],
      "execution_count": null,
      "outputs": []
    },
    {
      "cell_type": "code",
      "metadata": {
        "id": "HacNKgINKUzp"
      },
      "source": [
        "cleanTokenizeTagText(eg)"
      ],
      "execution_count": null,
      "outputs": []
    },
    {
      "cell_type": "code",
      "metadata": {
        "colab": {
          "base_uri": "https://localhost:8080/"
        },
        "id": "TCHaZLPzFls2",
        "outputId": "67aee20e-d85f-4f5e-c4a9-89c521a5495c"
      },
      "source": [
        "# try with senti synsets\n",
        "list(swn.senti_synsets(\"beautiful\"))"
      ],
      "execution_count": null,
      "outputs": [
        {
          "output_type": "execute_result",
          "data": {
            "text/plain": [
              "[SentiSynset('beautiful.a.01'), SentiSynset('beautiful.s.02')]"
            ]
          },
          "metadata": {
            "tags": []
          },
          "execution_count": 32
        }
      ]
    },
    {
      "cell_type": "code",
      "metadata": {
        "colab": {
          "base_uri": "https://localhost:8080/"
        },
        "id": "BEx0CO1-IATH",
        "outputId": "9caa3943-a332-4f3d-b23c-98e8e696f0f5"
      },
      "source": [
        "print(list(swn.senti_synsets(\"fat\",\"n\"))[0].pos_score())\n",
        "print(list(swn.senti_synsets(\"fat\",\"a\"))[0].pos_score())"
      ],
      "execution_count": null,
      "outputs": [
        {
          "output_type": "stream",
          "text": [
            "0.0\n",
            "0.125\n"
          ],
          "name": "stdout"
        }
      ]
    },
    {
      "cell_type": "code",
      "metadata": {
        "colab": {
          "base_uri": "https://localhost:8080/"
        },
        "id": "pwMk51x8Kkft",
        "outputId": "64bf6f62-a59a-4646-8da3-44cdf44a783b"
      },
      "source": [
        "for a, b in [('NN', 'n'), ('VB', 'v'), ('JJ', 'a'), ('RB', 'r')]:\n",
        "    print(a, b)"
      ],
      "execution_count": null,
      "outputs": [
        {
          "output_type": "stream",
          "text": [
            "NN n\n",
            "VB v\n",
            "JJ a\n",
            "RB r\n"
          ],
          "name": "stdout"
        }
      ]
    },
    {
      "cell_type": "code",
      "metadata": {
        "id": "yaDZFfstG2Ig"
      },
      "source": [
        "def CalculateScore(textString):\n",
        "    \n",
        "    wordList = cleanTokenizeTagText(textString)\n",
        "    num_words = len(wordList)\n",
        "\n",
        "    posScore = 0\n",
        "    negScore = 0\n",
        "    correspond = [('NN', 'n'), ('VB', 'v'), ('JJ', 'a'), ('RB', 'r')]\n",
        "\n",
        "    for word_tag in wordList:\n",
        "        for tag, sentiTag in correspond:\n",
        "            if tag in word_tag[1] and len(list(swn.senti_synsets(word_tag[0], sentiTag))) > 0:\n",
        "                posScore += (list(swn.senti_synsets(word_tag[0], sentiTag))[0]).pos_score()\n",
        "                negScore += (list(swn.senti_synsets(word_tag[0], sentiTag))[0]).neg_score()\n",
        "\n",
        "    return (posScore, negScore)"
      ],
      "execution_count": null,
      "outputs": []
    },
    {
      "cell_type": "code",
      "metadata": {
        "id": "I9jfFgXGO4Hq"
      },
      "source": [
        "dfScores = df.Reddits.apply(CalculateScore)\n",
        "df[\"PosScore\"] = [tup[0] for tup in dfScores]\n",
        "df[\"NegScore\"] = [tup[1] for tup in dfScores]"
      ],
      "execution_count": null,
      "outputs": []
    },
    {
      "cell_type": "code",
      "metadata": {
        "colab": {
          "base_uri": "https://localhost:8080/",
          "height": 419
        },
        "id": "0gxDZG0mP0Fz",
        "outputId": "1b90dc7f-79a8-406b-bfac-c2bc08819a33"
      },
      "source": [
        "df"
      ],
      "execution_count": null,
      "outputs": [
        {
          "output_type": "execute_result",
          "data": {
            "text/html": [
              "<div>\n",
              "<style scoped>\n",
              "    .dataframe tbody tr th:only-of-type {\n",
              "        vertical-align: middle;\n",
              "    }\n",
              "\n",
              "    .dataframe tbody tr th {\n",
              "        vertical-align: top;\n",
              "    }\n",
              "\n",
              "    .dataframe thead th {\n",
              "        text-align: right;\n",
              "    }\n",
              "</style>\n",
              "<table border=\"1\" class=\"dataframe\">\n",
              "  <thead>\n",
              "    <tr style=\"text-align: right;\">\n",
              "      <th></th>\n",
              "      <th>Date</th>\n",
              "      <th>Reddits</th>\n",
              "      <th>Volatility</th>\n",
              "      <th>PosScore</th>\n",
              "      <th>NegScore</th>\n",
              "    </tr>\n",
              "  </thead>\n",
              "  <tbody>\n",
              "    <tr>\n",
              "      <th>1</th>\n",
              "      <td>2017-01-16</td>\n",
              "      <td>More like AMZN, NVDA, TSLA and some Canadian s...</td>\n",
              "      <td>0.040403</td>\n",
              "      <td>30.500</td>\n",
              "      <td>22.000</td>\n",
              "    </tr>\n",
              "    <tr>\n",
              "      <th>2</th>\n",
              "      <td>2017-01-23</td>\n",
              "      <td>TSLA Market Cap: 40BN\\n\\nGM Market Cap: 55BN\\n...</td>\n",
              "      <td>0.031960</td>\n",
              "      <td>14.375</td>\n",
              "      <td>16.500</td>\n",
              "    </tr>\n",
              "    <tr>\n",
              "      <th>3</th>\n",
              "      <td>2017-01-30</td>\n",
              "      <td>Tesla ($TSLA) is not associated with the Trans...</td>\n",
              "      <td>0.020310</td>\n",
              "      <td>30.250</td>\n",
              "      <td>25.625</td>\n",
              "    </tr>\n",
              "    <tr>\n",
              "      <th>4</th>\n",
              "      <td>2017-02-06</td>\n",
              "      <td>You won't believe but TSLA remains extremely s...</td>\n",
              "      <td>0.032566</td>\n",
              "      <td>59.125</td>\n",
              "      <td>48.250</td>\n",
              "    </tr>\n",
              "    <tr>\n",
              "      <th>5</th>\n",
              "      <td>2017-02-13</td>\n",
              "      <td>If we see sub-230 tsla I'm gonna load the fuck...</td>\n",
              "      <td>0.067832</td>\n",
              "      <td>135.194</td>\n",
              "      <td>114.931</td>\n",
              "    </tr>\n",
              "    <tr>\n",
              "      <th>...</th>\n",
              "      <td>...</td>\n",
              "      <td>...</td>\n",
              "      <td>...</td>\n",
              "      <td>...</td>\n",
              "      <td>...</td>\n",
              "    </tr>\n",
              "    <tr>\n",
              "      <th>221</th>\n",
              "      <td>2021-04-05</td>\n",
              "      <td>TSLA shares cause I can’t time this shit Cant ...</td>\n",
              "      <td>0.078118</td>\n",
              "      <td>61.500</td>\n",
              "      <td>52.000</td>\n",
              "    </tr>\n",
              "    <tr>\n",
              "      <th>222</th>\n",
              "      <td>2021-04-12</td>\n",
              "      <td>Exactly. But when Tesla does something they sa...</td>\n",
              "      <td>0.101964</td>\n",
              "      <td>77.000</td>\n",
              "      <td>58.500</td>\n",
              "    </tr>\n",
              "    <tr>\n",
              "      <th>223</th>\n",
              "      <td>2021-04-19</td>\n",
              "      <td>Welcome to the TSLA Race to 500 Monthly Event ...</td>\n",
              "      <td>0.066478</td>\n",
              "      <td>38.750</td>\n",
              "      <td>42.375</td>\n",
              "    </tr>\n",
              "    <tr>\n",
              "      <th>224</th>\n",
              "      <td>2021-04-26</td>\n",
              "      <td>Well just do what I did and invest in TSLA in ...</td>\n",
              "      <td>0.085849</td>\n",
              "      <td>58.500</td>\n",
              "      <td>46.500</td>\n",
              "    </tr>\n",
              "    <tr>\n",
              "      <th>225</th>\n",
              "      <td>2021-05-03</td>\n",
              "      <td>How we feeling about TSLA? 👀 Hope TSLA bulls a...</td>\n",
              "      <td>0.072583</td>\n",
              "      <td>41.000</td>\n",
              "      <td>34.250</td>\n",
              "    </tr>\n",
              "  </tbody>\n",
              "</table>\n",
              "<p>225 rows × 5 columns</p>\n",
              "</div>"
            ],
            "text/plain": [
              "          Date  ... NegScore\n",
              "1   2017-01-16  ...   22.000\n",
              "2   2017-01-23  ...   16.500\n",
              "3   2017-01-30  ...   25.625\n",
              "4   2017-02-06  ...   48.250\n",
              "5   2017-02-13  ...  114.931\n",
              "..         ...  ...      ...\n",
              "221 2021-04-05  ...   52.000\n",
              "222 2021-04-12  ...   58.500\n",
              "223 2021-04-19  ...   42.375\n",
              "224 2021-04-26  ...   46.500\n",
              "225 2021-05-03  ...   34.250\n",
              "\n",
              "[225 rows x 5 columns]"
            ]
          },
          "metadata": {
            "tags": []
          },
          "execution_count": 79
        }
      ]
    },
    {
      "cell_type": "code",
      "metadata": {
        "id": "HdK431zPVzQn"
      },
      "source": [
        "def helper_ScoreToLabel(totalScore): \n",
        "    '''\n",
        "    for single positive score and negative score\n",
        "    calculate if the corresponding text is \n",
        "    positive, neutral, or negative in emotion\n",
        "    '''\n",
        "\n",
        "    if totalScore > 0:\n",
        "        return \"Positive\"\n",
        "    elif totalScore < 0:\n",
        "        return \"Negative\"\n",
        "\n",
        "    return \"Neutral\"\n",
        "    "
      ],
      "execution_count": null,
      "outputs": []
    },
    {
      "cell_type": "code",
      "metadata": {
        "id": "Im7sUAOfQXyI"
      },
      "source": [
        "def ScoresToLabel(pos, neg):\n",
        "    \n",
        "    totalScores = pos - neg\n",
        "    labels = totalScores.apply(helper_ScoreToLabel)\n",
        "\n",
        "    return labels "
      ],
      "execution_count": null,
      "outputs": []
    },
    {
      "cell_type": "code",
      "metadata": {
        "id": "YxuQySDtR-Se"
      },
      "source": [
        "df[\"Label\"] = ScoresToLabel(df.PosScore, df.NegScore)"
      ],
      "execution_count": null,
      "outputs": []
    },
    {
      "cell_type": "code",
      "metadata": {
        "colab": {
          "base_uri": "https://localhost:8080/",
          "height": 589
        },
        "id": "HT08hHIoSGgF",
        "outputId": "bc809eb3-322c-4ea4-e2bb-a8846ae5db28"
      },
      "source": [
        "df"
      ],
      "execution_count": null,
      "outputs": [
        {
          "output_type": "execute_result",
          "data": {
            "text/html": [
              "<div>\n",
              "<style scoped>\n",
              "    .dataframe tbody tr th:only-of-type {\n",
              "        vertical-align: middle;\n",
              "    }\n",
              "\n",
              "    .dataframe tbody tr th {\n",
              "        vertical-align: top;\n",
              "    }\n",
              "\n",
              "    .dataframe thead th {\n",
              "        text-align: right;\n",
              "    }\n",
              "</style>\n",
              "<table border=\"1\" class=\"dataframe\">\n",
              "  <thead>\n",
              "    <tr style=\"text-align: right;\">\n",
              "      <th></th>\n",
              "      <th>Date</th>\n",
              "      <th>Reddits</th>\n",
              "      <th>Volatility</th>\n",
              "      <th>PosScore</th>\n",
              "      <th>NegScore</th>\n",
              "      <th>Label</th>\n",
              "    </tr>\n",
              "  </thead>\n",
              "  <tbody>\n",
              "    <tr>\n",
              "      <th>1</th>\n",
              "      <td>2017-01-16</td>\n",
              "      <td>More like AMZN, NVDA, TSLA and some Canadian s...</td>\n",
              "      <td>0.040403</td>\n",
              "      <td>30.500</td>\n",
              "      <td>22.000</td>\n",
              "      <td>Positive</td>\n",
              "    </tr>\n",
              "    <tr>\n",
              "      <th>2</th>\n",
              "      <td>2017-01-23</td>\n",
              "      <td>TSLA Market Cap: 40BN\\n\\nGM Market Cap: 55BN\\n...</td>\n",
              "      <td>0.031960</td>\n",
              "      <td>14.375</td>\n",
              "      <td>16.500</td>\n",
              "      <td>Negative</td>\n",
              "    </tr>\n",
              "    <tr>\n",
              "      <th>3</th>\n",
              "      <td>2017-01-30</td>\n",
              "      <td>Tesla ($TSLA) is not associated with the Trans...</td>\n",
              "      <td>0.020310</td>\n",
              "      <td>30.250</td>\n",
              "      <td>25.625</td>\n",
              "      <td>Positive</td>\n",
              "    </tr>\n",
              "    <tr>\n",
              "      <th>4</th>\n",
              "      <td>2017-02-06</td>\n",
              "      <td>You won't believe but TSLA remains extremely s...</td>\n",
              "      <td>0.032566</td>\n",
              "      <td>59.125</td>\n",
              "      <td>48.250</td>\n",
              "      <td>Positive</td>\n",
              "    </tr>\n",
              "    <tr>\n",
              "      <th>5</th>\n",
              "      <td>2017-02-13</td>\n",
              "      <td>If we see sub-230 tsla I'm gonna load the fuck...</td>\n",
              "      <td>0.067832</td>\n",
              "      <td>135.194</td>\n",
              "      <td>114.931</td>\n",
              "      <td>Positive</td>\n",
              "    </tr>\n",
              "    <tr>\n",
              "      <th>...</th>\n",
              "      <td>...</td>\n",
              "      <td>...</td>\n",
              "      <td>...</td>\n",
              "      <td>...</td>\n",
              "      <td>...</td>\n",
              "      <td>...</td>\n",
              "    </tr>\n",
              "    <tr>\n",
              "      <th>221</th>\n",
              "      <td>2021-04-05</td>\n",
              "      <td>TSLA shares cause I can’t time this shit Cant ...</td>\n",
              "      <td>0.078118</td>\n",
              "      <td>61.500</td>\n",
              "      <td>52.000</td>\n",
              "      <td>Positive</td>\n",
              "    </tr>\n",
              "    <tr>\n",
              "      <th>222</th>\n",
              "      <td>2021-04-12</td>\n",
              "      <td>Exactly. But when Tesla does something they sa...</td>\n",
              "      <td>0.101964</td>\n",
              "      <td>77.000</td>\n",
              "      <td>58.500</td>\n",
              "      <td>Positive</td>\n",
              "    </tr>\n",
              "    <tr>\n",
              "      <th>223</th>\n",
              "      <td>2021-04-19</td>\n",
              "      <td>Welcome to the TSLA Race to 500 Monthly Event ...</td>\n",
              "      <td>0.066478</td>\n",
              "      <td>38.750</td>\n",
              "      <td>42.375</td>\n",
              "      <td>Negative</td>\n",
              "    </tr>\n",
              "    <tr>\n",
              "      <th>224</th>\n",
              "      <td>2021-04-26</td>\n",
              "      <td>Well just do what I did and invest in TSLA in ...</td>\n",
              "      <td>0.085849</td>\n",
              "      <td>58.500</td>\n",
              "      <td>46.500</td>\n",
              "      <td>Positive</td>\n",
              "    </tr>\n",
              "    <tr>\n",
              "      <th>225</th>\n",
              "      <td>2021-05-03</td>\n",
              "      <td>How we feeling about TSLA? 👀 Hope TSLA bulls a...</td>\n",
              "      <td>0.072583</td>\n",
              "      <td>41.000</td>\n",
              "      <td>34.250</td>\n",
              "      <td>Positive</td>\n",
              "    </tr>\n",
              "  </tbody>\n",
              "</table>\n",
              "<p>225 rows × 6 columns</p>\n",
              "</div>"
            ],
            "text/plain": [
              "          Date  ...     Label\n",
              "1   2017-01-16  ...  Positive\n",
              "2   2017-01-23  ...  Negative\n",
              "3   2017-01-30  ...  Positive\n",
              "4   2017-02-06  ...  Positive\n",
              "5   2017-02-13  ...  Positive\n",
              "..         ...  ...       ...\n",
              "221 2021-04-05  ...  Positive\n",
              "222 2021-04-12  ...  Positive\n",
              "223 2021-04-19  ...  Negative\n",
              "224 2021-04-26  ...  Positive\n",
              "225 2021-05-03  ...  Positive\n",
              "\n",
              "[225 rows x 6 columns]"
            ]
          },
          "metadata": {
            "tags": []
          },
          "execution_count": 125
        }
      ]
    }
  ]
}